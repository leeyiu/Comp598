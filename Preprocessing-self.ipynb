{
 "metadata": {
  "name": "",
  "signature": "sha256:1d0bd9e7c9a784a0f48bdba1b199099120ef35b65425995f9a07ee75cdfcd639"
 },
 "nbformat": 3,
 "nbformat_minor": 0,
 "worksheets": [
  {
   "cells": [
    {
     "cell_type": "markdown",
     "metadata": {},
     "source": [
      "This is the notebook for Comp598 project 2.\n",
      "First we read the input for the training set. "
     ]
    },
    {
     "cell_type": "code",
     "collapsed": false,
     "input": [
      "import csv\n",
      "traininput=csv.reader(open('train_input.csv'))"
     ],
     "language": "python",
     "metadata": {},
     "outputs": [],
     "prompt_number": 33
    },
    {
     "cell_type": "markdown",
     "metadata": {},
     "source": [
      "Skip the first line which contains the headers. "
     ]
    },
    {
     "cell_type": "code",
     "collapsed": false,
     "input": [
      "line1=traininput.next()"
     ],
     "language": "python",
     "metadata": {},
     "outputs": [],
     "prompt_number": 34
    },
    {
     "cell_type": "markdown",
     "metadata": {},
     "source": [
      "Store the rows in a list. "
     ]
    },
    {
     "cell_type": "code",
     "collapsed": false,
     "input": [
      "traininputlist=list()\n",
      "for line in traininput:\n",
      "    traininputlist.append(line)"
     ],
     "language": "python",
     "metadata": {},
     "outputs": [],
     "prompt_number": 35
    },
    {
     "cell_type": "code",
     "collapsed": false,
     "input": [
      "len(traininputlist)"
     ],
     "language": "python",
     "metadata": {},
     "outputs": [
      {
       "metadata": {},
       "output_type": "pyout",
       "prompt_number": 36,
       "text": [
        "96213"
       ]
      }
     ],
     "prompt_number": 36
    },
    {
     "cell_type": "code",
     "collapsed": false,
     "input": [
      "traininputlist[0]"
     ],
     "language": "python",
     "metadata": {},
     "outputs": [
      {
       "metadata": {},
       "output_type": "pyout",
       "prompt_number": 22,
       "text": [
        "['0',\n",
        " 'Turing machines and G\\\\\"odel numbers are important pillars of the theory of computation. Thus, any computational architecture needs to show how it could relate to Turing machines and how stable implementations of Turing computation are possible. In this chapter, we implement universal Turing computation in a neural field environment. To this end, we employ the canonical symbologram representation of a Turing machine obtained from a G\\\\\"odel encoding of its symbolic repertoire and generalized shifts. The resulting nonlinear dynamical automaton (NDA) is a piecewise affine-linear map acting on the unit square that is partitioned into rectangular domains. Instead of looking at point dynamics in phase space, we then consider functional dynamics of probability distributions functions (p.d.f.s) over phase space. This is generally described by a Frobenius-Perron integral transformation that can be regarded as a neural field equation over the unit square as feature space of a dynamic field theory (DFT). Solving the Frobenius-Perron equation yields that uniform p.d.f.s with rectangular support are mapped onto uniform p.d.f.s with rectangular support, again. We call the resulting representation \\\\emph{dynamic field automaton}.']"
       ]
      }
     ],
     "prompt_number": 22
    },
    {
     "cell_type": "markdown",
     "metadata": {},
     "source": [
      "Now we begin the cleaning step. First we experiment on a copy of the first entry. "
     ]
    },
    {
     "cell_type": "code",
     "collapsed": false,
     "input": [
      "copy=traininputlist[0][1]"
     ],
     "language": "python",
     "metadata": {},
     "outputs": [],
     "prompt_number": 23
    },
    {
     "cell_type": "code",
     "collapsed": false,
     "input": [
      "type(copy)"
     ],
     "language": "python",
     "metadata": {},
     "outputs": [
      {
       "metadata": {},
       "output_type": "pyout",
       "prompt_number": 25,
       "text": [
        "str"
       ]
      }
     ],
     "prompt_number": 25
    },
    {
     "cell_type": "code",
     "collapsed": false,
     "input": [
      "from nltk import word_tokenize\n",
      "from __future__ import division"
     ],
     "language": "python",
     "metadata": {},
     "outputs": [],
     "prompt_number": 7
    },
    {
     "cell_type": "code",
     "collapsed": false,
     "input": [
      "tokens=word_tokenize(copy)"
     ],
     "language": "python",
     "metadata": {},
     "outputs": [],
     "prompt_number": 29
    },
    {
     "cell_type": "code",
     "collapsed": false,
     "input": [
      "tokens"
     ],
     "language": "python",
     "metadata": {},
     "outputs": [
      {
       "metadata": {},
       "output_type": "pyout",
       "prompt_number": 30,
       "text": [
        "['Turing',\n",
        " 'machines',\n",
        " 'and',\n",
        " 'G\\\\',\n",
        " \"''\",\n",
        " 'odel',\n",
        " 'numbers',\n",
        " 'are',\n",
        " 'important',\n",
        " 'pillars',\n",
        " 'of',\n",
        " 'the',\n",
        " 'theory',\n",
        " 'of',\n",
        " 'computation',\n",
        " '.',\n",
        " 'Thus',\n",
        " ',',\n",
        " 'any',\n",
        " 'computational',\n",
        " 'architecture',\n",
        " 'needs',\n",
        " 'to',\n",
        " 'show',\n",
        " 'how',\n",
        " 'it',\n",
        " 'could',\n",
        " 'relate',\n",
        " 'to',\n",
        " 'Turing',\n",
        " 'machines',\n",
        " 'and',\n",
        " 'how',\n",
        " 'stable',\n",
        " 'implementations',\n",
        " 'of',\n",
        " 'Turing',\n",
        " 'computation',\n",
        " 'are',\n",
        " 'possible',\n",
        " '.',\n",
        " 'In',\n",
        " 'this',\n",
        " 'chapter',\n",
        " ',',\n",
        " 'we',\n",
        " 'implement',\n",
        " 'universal',\n",
        " 'Turing',\n",
        " 'computation',\n",
        " 'in',\n",
        " 'a',\n",
        " 'neural',\n",
        " 'field',\n",
        " 'environment',\n",
        " '.',\n",
        " 'To',\n",
        " 'this',\n",
        " 'end',\n",
        " ',',\n",
        " 'we',\n",
        " 'employ',\n",
        " 'the',\n",
        " 'canonical',\n",
        " 'symbologram',\n",
        " 'representation',\n",
        " 'of',\n",
        " 'a',\n",
        " 'Turing',\n",
        " 'machine',\n",
        " 'obtained',\n",
        " 'from',\n",
        " 'a',\n",
        " 'G\\\\',\n",
        " \"''\",\n",
        " 'odel',\n",
        " 'encoding',\n",
        " 'of',\n",
        " 'its',\n",
        " 'symbolic',\n",
        " 'repertoire',\n",
        " 'and',\n",
        " 'generalized',\n",
        " 'shifts',\n",
        " '.',\n",
        " 'The',\n",
        " 'resulting',\n",
        " 'nonlinear',\n",
        " 'dynamical',\n",
        " 'automaton',\n",
        " '(',\n",
        " 'NDA',\n",
        " ')',\n",
        " 'is',\n",
        " 'a',\n",
        " 'piecewise',\n",
        " 'affine-linear',\n",
        " 'map',\n",
        " 'acting',\n",
        " 'on',\n",
        " 'the',\n",
        " 'unit',\n",
        " 'square',\n",
        " 'that',\n",
        " 'is',\n",
        " 'partitioned',\n",
        " 'into',\n",
        " 'rectangular',\n",
        " 'domains',\n",
        " '.',\n",
        " 'Instead',\n",
        " 'of',\n",
        " 'looking',\n",
        " 'at',\n",
        " 'point',\n",
        " 'dynamics',\n",
        " 'in',\n",
        " 'phase',\n",
        " 'space',\n",
        " ',',\n",
        " 'we',\n",
        " 'then',\n",
        " 'consider',\n",
        " 'functional',\n",
        " 'dynamics',\n",
        " 'of',\n",
        " 'probability',\n",
        " 'distributions',\n",
        " 'functions',\n",
        " '(',\n",
        " 'p.d.f.s',\n",
        " ')',\n",
        " 'over',\n",
        " 'phase',\n",
        " 'space',\n",
        " '.',\n",
        " 'This',\n",
        " 'is',\n",
        " 'generally',\n",
        " 'described',\n",
        " 'by',\n",
        " 'a',\n",
        " 'Frobenius-Perron',\n",
        " 'integral',\n",
        " 'transformation',\n",
        " 'that',\n",
        " 'can',\n",
        " 'be',\n",
        " 'regarded',\n",
        " 'as',\n",
        " 'a',\n",
        " 'neural',\n",
        " 'field',\n",
        " 'equation',\n",
        " 'over',\n",
        " 'the',\n",
        " 'unit',\n",
        " 'square',\n",
        " 'as',\n",
        " 'feature',\n",
        " 'space',\n",
        " 'of',\n",
        " 'a',\n",
        " 'dynamic',\n",
        " 'field',\n",
        " 'theory',\n",
        " '(',\n",
        " 'DFT',\n",
        " ')',\n",
        " '.',\n",
        " 'Solving',\n",
        " 'the',\n",
        " 'Frobenius-Perron',\n",
        " 'equation',\n",
        " 'yields',\n",
        " 'that',\n",
        " 'uniform',\n",
        " 'p.d.f.s',\n",
        " 'with',\n",
        " 'rectangular',\n",
        " 'support',\n",
        " 'are',\n",
        " 'mapped',\n",
        " 'onto',\n",
        " 'uniform',\n",
        " 'p.d.f.s',\n",
        " 'with',\n",
        " 'rectangular',\n",
        " 'support',\n",
        " ',',\n",
        " 'again',\n",
        " '.',\n",
        " 'We',\n",
        " 'call',\n",
        " 'the',\n",
        " 'resulting',\n",
        " 'representation',\n",
        " '\\\\emph',\n",
        " '{',\n",
        " 'dynamic',\n",
        " 'field',\n",
        " 'automaton',\n",
        " '}',\n",
        " '.']"
       ]
      }
     ],
     "prompt_number": 30
    },
    {
     "cell_type": "code",
     "collapsed": false,
     "input": [
      "len(tokens)"
     ],
     "language": "python",
     "metadata": {},
     "outputs": [
      {
       "metadata": {},
       "output_type": "pyout",
       "prompt_number": 31,
       "text": [
        "204"
       ]
      }
     ],
     "prompt_number": 31
    },
    {
     "cell_type": "markdown",
     "metadata": {},
     "source": [
      "We have created a list of length 204, each containing a token. Now we make all the words case-neutral. "
     ]
    },
    {
     "cell_type": "code",
     "collapsed": false,
     "input": [
      "temp=[word.lower() for word in tokens]"
     ],
     "language": "python",
     "metadata": {},
     "outputs": [],
     "prompt_number": 32
    },
    {
     "cell_type": "code",
     "collapsed": false,
     "input": [
      "len(temp)"
     ],
     "language": "python",
     "metadata": {},
     "outputs": [
      {
       "metadata": {},
       "output_type": "pyout",
       "prompt_number": 33,
       "text": [
        "204"
       ]
      }
     ],
     "prompt_number": 33
    },
    {
     "cell_type": "code",
     "collapsed": false,
     "input": [
      "import re\n",
      "#Keep the word if it has more alphabetic characters than others\n",
      "keeplist=list()\n",
      "for word in temp:\n",
      "    sumalpha=sum(1 for w in word if re.search('[a-z]',w))\n",
      "    sumothers=len(word)-sumalpha\n",
      "    keeplist.append(sumalpha>sumothers)\n",
      "trimmedlist=list()\n",
      "for i in range(0,len(temp)):\n",
      "    if(keeplist[i]==True):\n",
      "        trimmedlist.append(temp[i])\n",
      "    \n",
      "    "
     ],
     "language": "python",
     "metadata": {},
     "outputs": [],
     "prompt_number": 91
    },
    {
     "cell_type": "markdown",
     "metadata": {},
     "source": [
      "We have created a list of words from a string such that each word contains more alphabetic charcaters than non-alphabetic characters. Now we proceed to remove non-essentail parts of speech: determiner, preposition, prnoun and conjunction. "
     ]
    },
    {
     "cell_type": "code",
     "collapsed": false,
     "input": [],
     "language": "python",
     "metadata": {},
     "outputs": []
    },
    {
     "cell_type": "code",
     "collapsed": false,
     "input": [
      "import nltk\n",
      "taggedlist=nltk.pos_tag(trimmedlist)"
     ],
     "language": "python",
     "metadata": {},
     "outputs": [],
     "prompt_number": 98
    },
    {
     "cell_type": "markdown",
     "metadata": {},
     "source": [
      "Obtain the tagset by nltk.help.upenn.tagset()"
     ]
    },
    {
     "cell_type": "code",
     "collapsed": false,
     "input": [
      "postoexclude=[\"CC\",\"DT\",\"IN\",\"MD\",\"PDT\",\"PRP\",\"PRP$\",\"RP\",\"TO\",\"WDT\",\"WP\",\"WP$\",\"WRB\"]"
     ],
     "language": "python",
     "metadata": {},
     "outputs": [],
     "prompt_number": 97
    },
    {
     "cell_type": "markdown",
     "metadata": {},
     "source": [
      "Get all the words that don't have the parts-of-speech in the to-exclude list"
     ]
    },
    {
     "cell_type": "code",
     "collapsed": false,
     "input": [
      "trimmedlist2=[word[0] for word in taggedlist if word[1] not in set(postoexclude)]"
     ],
     "language": "python",
     "metadata": {},
     "outputs": [],
     "prompt_number": 114
    },
    {
     "cell_type": "markdown",
     "metadata": {},
     "source": [
      "Filter a second time, this time excluding words from a custom list."
     ]
    },
    {
     "cell_type": "code",
     "collapsed": false,
     "input": [
      "txt=open('20mostpopularwords','r')\n",
      "forbbidenwordslist=word_tokenize(txt.read())\n",
      "trimmedlist3=[word for word in trimmedlist2 if word not in set(forbbidenwordslist)]"
     ],
     "language": "python",
     "metadata": {},
     "outputs": [],
     "prompt_number": 124
    },
    {
     "cell_type": "code",
     "collapsed": false,
     "input": [
      "len(trimmedlist3)"
     ],
     "language": "python",
     "metadata": {},
     "outputs": [
      {
       "metadata": {},
       "output_type": "pyout",
       "prompt_number": 125,
       "text": [
        "110"
       ]
      }
     ],
     "prompt_number": 125
    },
    {
     "cell_type": "code",
     "collapsed": false,
     "input": [
      "trimmedlist3"
     ],
     "language": "python",
     "metadata": {},
     "outputs": [
      {
       "metadata": {},
       "output_type": "pyout",
       "prompt_number": 126,
       "text": [
        "['turing',\n",
        " 'machines',\n",
        " 'odel',\n",
        " 'numbers',\n",
        " 'pillars',\n",
        " 'theory',\n",
        " 'computation',\n",
        " 'thus',\n",
        " 'computational',\n",
        " 'architecture',\n",
        " 'needs',\n",
        " 'show',\n",
        " 'relate',\n",
        " 'turing',\n",
        " 'machines',\n",
        " 'stable',\n",
        " 'implementations',\n",
        " 'turing',\n",
        " 'computation',\n",
        " 'possible',\n",
        " 'chapter',\n",
        " 'implement',\n",
        " 'universal',\n",
        " 'turing',\n",
        " 'computation',\n",
        " 'neural',\n",
        " 'field',\n",
        " 'environment',\n",
        " 'end',\n",
        " 'employ',\n",
        " 'canonical',\n",
        " 'symbologram',\n",
        " 'representation',\n",
        " 'turing',\n",
        " 'machine',\n",
        " 'obtained',\n",
        " 'odel',\n",
        " 'encoding',\n",
        " 'symbolic',\n",
        " 'repertoire',\n",
        " 'generalized',\n",
        " 'shifts',\n",
        " 'resulting',\n",
        " 'nonlinear',\n",
        " 'dynamical',\n",
        " 'automaton',\n",
        " 'nda',\n",
        " 'piecewise',\n",
        " 'affine-linear',\n",
        " 'map',\n",
        " 'acting',\n",
        " 'unit',\n",
        " 'square',\n",
        " 'partitioned',\n",
        " 'rectangular',\n",
        " 'domains',\n",
        " 'instead',\n",
        " 'looking',\n",
        " 'point',\n",
        " 'dynamics',\n",
        " 'phase',\n",
        " 'space',\n",
        " 'then',\n",
        " 'consider',\n",
        " 'functional',\n",
        " 'dynamics',\n",
        " 'probability',\n",
        " 'distributions',\n",
        " 'functions',\n",
        " 'p.d.f.s',\n",
        " 'phase',\n",
        " 'space',\n",
        " 'generally',\n",
        " 'described',\n",
        " 'frobenius-perron',\n",
        " 'integral',\n",
        " 'transformation',\n",
        " 'regarded',\n",
        " 'neural',\n",
        " 'field',\n",
        " 'equation',\n",
        " 'unit',\n",
        " 'square',\n",
        " 'feature',\n",
        " 'space',\n",
        " 'dynamic',\n",
        " 'field',\n",
        " 'theory',\n",
        " 'dft',\n",
        " 'solving',\n",
        " 'frobenius-perron',\n",
        " 'equation',\n",
        " 'yields',\n",
        " 'uniform',\n",
        " 'p.d.f.s',\n",
        " 'rectangular',\n",
        " 'support',\n",
        " 'mapped',\n",
        " 'uniform',\n",
        " 'p.d.f.s',\n",
        " 'rectangular',\n",
        " 'support',\n",
        " 'again',\n",
        " 'call',\n",
        " 'resulting',\n",
        " 'representation',\n",
        " '\\\\emph',\n",
        " 'dynamic',\n",
        " 'field',\n",
        " 'automaton']"
       ]
      }
     ],
     "prompt_number": 126
    },
    {
     "cell_type": "markdown",
     "metadata": {},
     "source": [
      "Now we can proceed with stemming. We are using the Porter stemmer available in the NLTK package."
     ]
    },
    {
     "cell_type": "code",
     "collapsed": false,
     "input": [
      "porter=nltk.PorterStemmer()\n",
      "stemmedlist=[porter.stem(word) for word in trimmedlist3]"
     ],
     "language": "python",
     "metadata": {},
     "outputs": [],
     "prompt_number": 127
    },
    {
     "cell_type": "code",
     "collapsed": false,
     "input": [
      "stemmedlist"
     ],
     "language": "python",
     "metadata": {},
     "outputs": [
      {
       "metadata": {},
       "output_type": "pyout",
       "prompt_number": 128,
       "text": [
        "[u'ture',\n",
        " u'machin',\n",
        " u'odel',\n",
        " u'number',\n",
        " u'pillar',\n",
        " u'theori',\n",
        " u'comput',\n",
        " u'thu',\n",
        " u'comput',\n",
        " u'architectur',\n",
        " u'need',\n",
        " u'show',\n",
        " u'relat',\n",
        " u'ture',\n",
        " u'machin',\n",
        " u'stabl',\n",
        " u'implement',\n",
        " u'ture',\n",
        " u'comput',\n",
        " u'possibl',\n",
        " u'chapter',\n",
        " u'implement',\n",
        " u'univers',\n",
        " u'ture',\n",
        " u'comput',\n",
        " u'neural',\n",
        " u'field',\n",
        " u'environ',\n",
        " u'end',\n",
        " u'employ',\n",
        " u'canon',\n",
        " u'symbologram',\n",
        " u'represent',\n",
        " u'ture',\n",
        " u'machin',\n",
        " u'obtain',\n",
        " u'odel',\n",
        " u'encod',\n",
        " u'symbol',\n",
        " u'repertoir',\n",
        " u'gener',\n",
        " u'shift',\n",
        " u'result',\n",
        " u'nonlinear',\n",
        " u'dynam',\n",
        " u'automaton',\n",
        " u'nda',\n",
        " u'piecewis',\n",
        " u'affine-linear',\n",
        " u'map',\n",
        " u'act',\n",
        " u'unit',\n",
        " u'squar',\n",
        " u'partit',\n",
        " u'rectangular',\n",
        " u'domain',\n",
        " u'instead',\n",
        " u'look',\n",
        " u'point',\n",
        " u'dynam',\n",
        " u'phase',\n",
        " u'space',\n",
        " u'then',\n",
        " u'consid',\n",
        " u'function',\n",
        " u'dynam',\n",
        " u'probabl',\n",
        " u'distribut',\n",
        " u'function',\n",
        " u'p.d.f.',\n",
        " u'phase',\n",
        " u'space',\n",
        " u'gener',\n",
        " u'describ',\n",
        " u'frobenius-perron',\n",
        " u'integr',\n",
        " u'transform',\n",
        " u'regard',\n",
        " u'neural',\n",
        " u'field',\n",
        " u'equat',\n",
        " u'unit',\n",
        " u'squar',\n",
        " u'featur',\n",
        " u'space',\n",
        " u'dynam',\n",
        " u'field',\n",
        " u'theori',\n",
        " u'dft',\n",
        " u'solv',\n",
        " u'frobenius-perron',\n",
        " u'equat',\n",
        " u'yield',\n",
        " u'uniform',\n",
        " u'p.d.f.',\n",
        " u'rectangular',\n",
        " u'support',\n",
        " u'map',\n",
        " u'uniform',\n",
        " u'p.d.f.',\n",
        " u'rectangular',\n",
        " u'support',\n",
        " u'again',\n",
        " u'call',\n",
        " u'result',\n",
        " u'represent',\n",
        " u'\\\\emph',\n",
        " u'dynam',\n",
        " u'field',\n",
        " u'automaton']"
       ]
      }
     ],
     "prompt_number": 128
    },
    {
     "cell_type": "markdown",
     "metadata": {},
     "source": [
      "Convert list into a string whose words are separated by a white space."
     ]
    },
    {
     "cell_type": "code",
     "collapsed": false,
     "input": [
      "str1=' '.join(stemmedlist)"
     ],
     "language": "python",
     "metadata": {},
     "outputs": [],
     "prompt_number": 129
    },
    {
     "cell_type": "code",
     "collapsed": false,
     "input": [
      "str1"
     ],
     "language": "python",
     "metadata": {},
     "outputs": [
      {
       "metadata": {},
       "output_type": "pyout",
       "prompt_number": 130,
       "text": [
        "u'ture machin odel number pillar theori comput thu comput architectur need show relat ture machin stabl implement ture comput possibl chapter implement univers ture comput neural field environ end employ canon symbologram represent ture machin obtain odel encod symbol repertoir gener shift result nonlinear dynam automaton nda piecewis affine-linear map act unit squar partit rectangular domain instead look point dynam phase space then consid function dynam probabl distribut function p.d.f. phase space gener describ frobenius-perron integr transform regard neural field equat unit squar featur space dynam field theori dft solv frobenius-perron equat yield uniform p.d.f. rectangular support map uniform p.d.f. rectangular support again call result represent \\\\emph dynam field automaton'"
       ]
      }
     ],
     "prompt_number": 130
    },
    {
     "cell_type": "markdown",
     "metadata": {},
     "source": [
      "Now repeat computation over the entire list of training data. "
     ]
    },
    {
     "cell_type": "code",
     "collapsed": false,
     "input": [
      "#Output: list containing a cleaned abstract in each entry\n",
      "import time\n",
      "presenttime=time.clock()\n",
      "txt=open('20mostpopularwords','r')\n",
      "forbbidenwordslist=word_tokenize(txt.read())\n",
      "postoexclude=[\"CC\",\"DT\",\"IN\",\"MD\",\"PDT\",\"PRP\",\"PRP$\",\"RP\",\"TO\",\"WDT\",\"WP\",\"WP$\",\"WRB\"]\n",
      "\n",
      "cleanedtrainlist=list()\n",
      "for i in range(0,1000) :\n",
      "    item=traininputlist[i]\n",
      "    temp=item[1]\n",
      "    #tokenize (separate words by white space)\n",
      "    tokens=word_tokenize(temp)\n",
      "    #convert all texts to lowercase\n",
      "    temp=[word.lower() for word in tokens]\n",
      "    import re\n",
      "    #Keep the word if it has more alphabetic characters than others\n",
      "    keeplist=list()\n",
      "    for word in temp:\n",
      "        sumalpha=sum(1 for w in word if re.search('[a-z]',w))\n",
      "        sumothers=len(word)-sumalpha\n",
      "        keeplist.append(sumalpha>sumothers)\n",
      "    trimmedlist=list()\n",
      "    for i in range(0,len(temp)):\n",
      "        if(keeplist[i]==True):\n",
      "            trimmedlist.append(temp[i])\n",
      "    #Tag part-of-speeches and remove words with non-essential pos's\n",
      "    import nltk\n",
      "    taggedlist=nltk.pos_tag(trimmedlist)\n",
      "    trimmedlist2=[word[0] for word in taggedlist if word[1] not in set(postoexclude)]\n",
      "    #Remove non-essential words from a custom list \n",
      "    trimmedlist3=[word for word in trimmedlist2 if word not in set(forbbidenwordslist)]\n",
      "    #Stemming \n",
      "    porter=nltk.PorterStemmer()\n",
      "    stemmedlist=[porter.stem(word) for word in trimmedlist3]\n",
      "    #Convert list of cleaned words into a string separated by white space\n",
      "    str1=' '.join(stemmedlist)\n",
      "    cleanedtrainlist.append(str1)\n",
      "traintime=time.clock()-presenttime\n",
      "\n",
      "#Clean Test set \n",
      "import time\n",
      "presenttime=time.clock()\n",
      "testinput=csv.reader(open('test_input.csv'))\n",
      "line1=testinput.next()\n",
      "testinputlist=list()\n",
      "for line in testinput:\n",
      "    testinputlist.append(line)\n",
      "#Output: list containing a cleaned abstract in each entry\n",
      "txt=open('20mostpopularwords','r')\n",
      "forbbidenwordslist=word_tokenize(txt.read())\n",
      "postoexclude=[\"CC\",\"DT\",\"IN\",\"MD\",\"PDT\",\"PRP\",\"PRP$\",\"RP\",\"TO\",\"WDT\",\"WP\",\"WP$\",\"WRB\"]\n",
      "\n",
      "cleanedtestlist=list()\n",
      "for i in range(0,len(testinputlist)) :\n",
      "    item=testinputlist[i]\n",
      "    temp=item[1]\n",
      "    #tokenize (separate words by white space)\n",
      "    tokens=word_tokenize(temp)\n",
      "    #convert all texts to lowercase\n",
      "    temp=[word.lower() for word in tokens]\n",
      "    import re\n",
      "    #Keep the word if it has more alphabetic characters than others\n",
      "    keeplist=list()\n",
      "    for word in temp:\n",
      "        sumalpha=sum(1 for w in word if re.search('[a-z]',w))\n",
      "        sumothers=len(word)-sumalpha\n",
      "        keeplist.append(sumalpha>sumothers)\n",
      "    trimmedlist=list()\n",
      "    for i in range(0,len(temp)):\n",
      "        if(keeplist[i]==True):\n",
      "            trimmedlist.append(temp[i])\n",
      "    #Tag part-of-speeches and remove words with non-essential pos's\n",
      "    import nltk\n",
      "    taggedlist=nltk.pos_tag(trimmedlist)\n",
      "    trimmedlist2=[word[0] for word in taggedlist if word[1] not in set(postoexclude)]\n",
      "    #Remove non-essential words from a custom list \n",
      "    trimmedlist3=[word for word in trimmedlist2 if word not in set(forbbidenwordslist)]\n",
      "    #Stemming \n",
      "    porter=nltk.PorterStemmer()\n",
      "    stemmedlist=[porter.stem(word) for word in trimmedlist3]\n",
      "    #Convert list of cleaned words into a string separated by white space\n",
      "    str1=' '.join(stemmedlist)\n",
      "    cleanedtestlist.append(str1)\n",
      "testtime=time.clock()-presenttime"
     ],
     "language": "python",
     "metadata": {},
     "outputs": [],
     "prompt_number": 159
    },
    {
     "cell_type": "markdown",
     "metadata": {},
     "source": [
      "Running time for cleaning the training set in seconds. I made a mistake so the time is shown in its negative value."
     ]
    },
    {
     "cell_type": "code",
     "collapsed": false,
     "input": [
      "traintime"
     ],
     "language": "python",
     "metadata": {},
     "outputs": [
      {
       "metadata": {},
       "output_type": "pyout",
       "prompt_number": 161,
       "text": [
        "-19620.071014"
       ]
      }
     ],
     "prompt_number": 161
    },
    {
     "cell_type": "code",
     "collapsed": false,
     "input": [
      "len(cleanedtrainlist)"
     ],
     "language": "python",
     "metadata": {},
     "outputs": [
      {
       "metadata": {},
       "output_type": "pyout",
       "prompt_number": 163,
       "text": [
        "128283"
       ]
      }
     ],
     "prompt_number": 163
    },
    {
     "cell_type": "code",
     "collapsed": false,
     "input": [
      "len(traininputlist)"
     ],
     "language": "python",
     "metadata": {},
     "outputs": [
      {
       "metadata": {},
       "output_type": "pyout",
       "prompt_number": 164,
       "text": [
        "128283"
       ]
      }
     ],
     "prompt_number": 164
    },
    {
     "cell_type": "markdown",
     "metadata": {},
     "source": [
      "Running time for cleaning the test set in seconds."
     ]
    },
    {
     "cell_type": "code",
     "collapsed": false,
     "input": [
      "testtime"
     ],
     "language": "python",
     "metadata": {},
     "outputs": [
      {
       "metadata": {},
       "output_type": "pyout",
       "prompt_number": 172,
       "text": [
        "5126.682101999999"
       ]
      }
     ],
     "prompt_number": 172
    },
    {
     "cell_type": "markdown",
     "metadata": {},
     "source": [
      "Backup file just in case."
     ]
    },
    {
     "cell_type": "code",
     "collapsed": false,
     "input": [
      "import pickle\n",
      "pickle.dump(cleanedtrainlist,open('cleanedtrainlist','w'))"
     ],
     "language": "python",
     "metadata": {},
     "outputs": [],
     "prompt_number": 170
    },
    {
     "cell_type": "markdown",
     "metadata": {},
     "source": [
      "Backup file just in case."
     ]
    },
    {
     "cell_type": "code",
     "collapsed": false,
     "input": [
      "import pickle\n",
      "pickle.dump(cleanedtestlist,open('cleanedtestlist','w'))"
     ],
     "language": "python",
     "metadata": {},
     "outputs": [],
     "prompt_number": 173
    },
    {
     "cell_type": "markdown",
     "metadata": {},
     "source": [
      "Write the cleaned lists to file as csv."
     ]
    },
    {
     "cell_type": "code",
     "collapsed": false,
     "input": [
      "import csv \n",
      "cleanedtrainset=open(\"cleanedtrainset.csv\",\"w\")\n",
      "writer=csv.writer(cleanedtrainset,delimiter=\",\")\n",
      "for line in cleanedtrainlist:\n",
      "    writer.writerow([line,])\n",
      "cleanedtrainset.close()\n",
      "cleanedtestset=open(\"cleanedtestset.csv\",\"w\")\n",
      "writer=csv.writer(cleanedtestset,delimiter=\",\")\n",
      "for line in cleanedtestlist:\n",
      "    writer.writerow([line,])\n",
      "cleanedtestset.close()\n"
     ],
     "language": "python",
     "metadata": {},
     "outputs": [],
     "prompt_number": 189
    },
    {
     "cell_type": "markdown",
     "metadata": {},
     "source": [
      "Measure how much time is spent in each part. Step 1:tokenize , Step 2:convert to lowercase , step3 pick out words contains a majority of alphabetical charcaters, step 4 tag the words and remove undesirable pos, step5 remove undesirable words from list , step 6 does stemming"
     ]
    },
    {
     "cell_type": "code",
     "collapsed": false,
     "input": [
      "#Output: list containing a cleaned abstract in each entry\n",
      "import time\n",
      "txt=open('20mostpopularwords','r')\n",
      "forbbidenwordslist=word_tokenize(txt.read())\n",
      "postoexclude=[\"CC\",\"DT\",\"IN\",\"MD\",\"PDT\",\"PRP\",\"PRP$\",\"RP\",\"TO\",\"WDT\",\"WP\",\"WP$\",\"WRB\"]\n",
      "step1time=0\n",
      "step2time=0\n",
      "step3time=0\n",
      "step4time=0\n",
      "step5time=0\n",
      "step6time=0\n",
      "cleanedtrainlist=list()\n",
      "for i in range(0,100) :\n",
      "    item=traininputlist[i]\n",
      "    temp=item[1]\n",
      "    presenttime=time.clock()\n",
      "    #tokenize (separate words by white space)\n",
      "    tokens=word_tokenize(temp)\n",
      "    step1time=step1time+(time.clock()-presenttime)\n",
      "    presenttime=time.clock()\n",
      "    #convert all texts to lowercase\n",
      "    temp=[word.lower() for word in tokens]\n",
      "    step2time=step2time+(time.clock()-presenttime)\n",
      "    import re\n",
      "    presenttime=time.clock()\n",
      "    #Keep the word if it has more alphabetic characters than others\n",
      "    keeplist=list()\n",
      "    for word in temp:\n",
      "        sumalpha=sum(1 for w in word if re.search('[a-z]',w))\n",
      "        sumothers=len(word)-sumalpha\n",
      "        keeplist.append(sumalpha>sumothers)\n",
      "    trimmedlist=list()\n",
      "    for i in range(0,len(temp)):\n",
      "        if(keeplist[i]==True):\n",
      "            trimmedlist.append(temp[i])\n",
      "    step3time=step3time+(time.clock()-presenttime)\n",
      "    presenttime=time.clock()\n",
      "    #Tag part-of-speeches and remove words with non-essential pos's\n",
      "    import nltk\n",
      "    taggedlist=nltk.pos_tag(trimmedlist)\n",
      "    trimmedlist2=[word[0] for word in taggedlist if word[1] not in set(postoexclude)]\n",
      "    step4time=step4time+(time.clock()-presenttime)\n",
      "    presenttime=time.clock()\n",
      "    #Remove non-essential words from a custom list \n",
      "    trimmedlist3=[word for word in trimmedlist2 if word not in set(forbbidenwordslist)]\n",
      "    step5time=step4time+(time.clock()-presenttime)\n",
      "    presenttime=time.clock()\n",
      "    #Stemming \n",
      "    porter=nltk.PorterStemmer()\n",
      "    stemmedlist=[porter.stem(word) for word in trimmedlist3]\n",
      "    step6time=step6time+(time.clock()-presenttime)\n",
      "    #Convert list of cleaned words into a string separated by white space\n",
      "    str1=' '.join(stemmedlist)\n",
      "    cleanedtrainlist.append(str1)\n",
      "traintime=time.clock()-presenttime"
     ],
     "language": "python",
     "metadata": {},
     "outputs": [],
     "prompt_number": 9
    },
    {
     "cell_type": "code",
     "collapsed": false,
     "input": [
      "step1time"
     ],
     "language": "python",
     "metadata": {},
     "outputs": [
      {
       "metadata": {},
       "output_type": "pyout",
       "prompt_number": 10,
       "text": [
        "0.2889210000000446"
       ]
      }
     ],
     "prompt_number": 10
    },
    {
     "cell_type": "code",
     "collapsed": false,
     "input": [
      "step2time"
     ],
     "language": "python",
     "metadata": {},
     "outputs": [
      {
       "metadata": {},
       "output_type": "pyout",
       "prompt_number": 11,
       "text": [
        "0.0074500000000341515"
       ]
      }
     ],
     "prompt_number": 11
    },
    {
     "cell_type": "code",
     "collapsed": false,
     "input": [
      "step3time"
     ],
     "language": "python",
     "metadata": {},
     "outputs": [
      {
       "metadata": {},
       "output_type": "pyout",
       "prompt_number": 12,
       "text": [
        "0.2856540000000223"
       ]
      }
     ],
     "prompt_number": 12
    },
    {
     "cell_type": "code",
     "collapsed": false,
     "input": [
      "step4time"
     ],
     "language": "python",
     "metadata": {},
     "outputs": [
      {
       "metadata": {},
       "output_type": "pyout",
       "prompt_number": 13,
       "text": [
        "16.361914000000098"
       ]
      }
     ],
     "prompt_number": 13
    },
    {
     "cell_type": "code",
     "collapsed": false,
     "input": [
      "step5time"
     ],
     "language": "python",
     "metadata": {},
     "outputs": [
      {
       "metadata": {},
       "output_type": "pyout",
       "prompt_number": 14,
       "text": [
        "16.3625210000001"
       ]
      }
     ],
     "prompt_number": 14
    },
    {
     "cell_type": "code",
     "collapsed": false,
     "input": [
      "step6time"
     ],
     "language": "python",
     "metadata": {},
     "outputs": [
      {
       "metadata": {},
       "output_type": "pyout",
       "prompt_number": 15,
       "text": [
        "0.2192590000001644"
       ]
      }
     ],
     "prompt_number": 15
    },
    {
     "cell_type": "markdown",
     "metadata": {},
     "source": [
      "Try eliminate words of length less than 4 (training set)"
     ]
    },
    {
     "cell_type": "code",
     "collapsed": false,
     "input": [
      "import time,pyprind,nltk\n",
      "begintime=time.clock()\n",
      "cleanedtrainlist=list()\n",
      "n=len(traininputlist)\n",
      "bar=pyprind.ProgBar(n,stream=1)\n",
      "step1time=0\n",
      "step2time=0\n",
      "step3time=0\n",
      "step4time=0\n",
      "step5time=0\n",
      "step6time=0\n",
      "for i in range(0,n) :\n",
      "    item=traininputlist[i]\n",
      "    temp=item[1]\n",
      "    presenttime=time.clock()\n",
      "    #tokenize (separate words by white space)\n",
      "    tokens=word_tokenize(temp)\n",
      "    step1time=step1time+(time.clock()-presenttime)\n",
      "    presenttime=time.clock()\n",
      "    #convert all texts to lowercase\n",
      "    temp=[word.lower() for word in tokens]\n",
      "    step2time=step2time+(time.clock()-presenttime)\n",
      "    import re\n",
      "    presenttime=time.clock()\n",
      "    #Keep the word if it has more alphabetic characters than others\n",
      "    keeplist=list()\n",
      "    for word in temp:\n",
      "        sumalpha=sum(1 for w in word if re.search('[a-z]',w))\n",
      "        sumothers=len(word)-sumalpha\n",
      "        keeplist.append(sumalpha>sumothers)\n",
      "    trimmedlist=list()\n",
      "    for i in range(0,len(temp)):\n",
      "        if(keeplist[i]==True):\n",
      "            trimmedlist.append(temp[i])\n",
      "    step3time=step3time+(time.clock()-presenttime)\n",
      "    presenttime=time.clock()\n",
      "    #Remove words of length less than 4\n",
      "    trimmedlist3=[word for word in trimmedlist if len(word)>4]\n",
      "    \n",
      "    #Stemming \n",
      "    porter=nltk.PorterStemmer()\n",
      "    stemmedlist=[porter.stem(word) for word in trimmedlist3]\n",
      "    step6time=step6time+(time.clock()-presenttime)\n",
      "    #Convert list of cleaned words into a string separated by white space\n",
      "    str1=' '.join(stemmedlist)\n",
      "    cleanedtrainlist.append(str1)\n",
      "    bar.update()\n",
      "traintime=time.clock()-begintime"
     ],
     "language": "python",
     "metadata": {},
     "outputs": [
      {
       "output_type": "stream",
       "stream": "stdout",
       "text": [
        "0%                          100%\n"
       ]
      },
      {
       "output_type": "stream",
       "stream": "stdout",
       "text": [
        "[                              ]"
       ]
      },
      {
       "output_type": "stream",
       "stream": "stdout",
       "text": [
        "\r",
        "[#                             ]"
       ]
      },
      {
       "output_type": "stream",
       "stream": "stdout",
       "text": [
        " | ETA[sec]: 699.964 "
       ]
      },
      {
       "output_type": "stream",
       "stream": "stdout",
       "text": [
        "\r",
        "[##                            ]"
       ]
      },
      {
       "output_type": "stream",
       "stream": "stdout",
       "text": [
        " | ETA[sec]: 645.262 "
       ]
      },
      {
       "output_type": "stream",
       "stream": "stdout",
       "text": [
        "\r",
        "[###                           ]"
       ]
      },
      {
       "output_type": "stream",
       "stream": "stdout",
       "text": [
        " | ETA[sec]: 631.107 "
       ]
      },
      {
       "output_type": "stream",
       "stream": "stdout",
       "text": [
        "\r",
        "[####                          ]"
       ]
      },
      {
       "output_type": "stream",
       "stream": "stdout",
       "text": [
        " | ETA[sec]: 598.878 "
       ]
      },
      {
       "output_type": "stream",
       "stream": "stdout",
       "text": [
        "\r",
        "[#####                         ]"
       ]
      },
      {
       "output_type": "stream",
       "stream": "stdout",
       "text": [
        " | ETA[sec]: 576.821 "
       ]
      },
      {
       "output_type": "stream",
       "stream": "stdout",
       "text": [
        "\r",
        "[######                        ]"
       ]
      },
      {
       "output_type": "stream",
       "stream": "stdout",
       "text": [
        " | ETA[sec]: 554.746 "
       ]
      },
      {
       "output_type": "stream",
       "stream": "stdout",
       "text": [
        "\r",
        "[#######                       ]"
       ]
      },
      {
       "output_type": "stream",
       "stream": "stdout",
       "text": [
        " | ETA[sec]: 536.411 "
       ]
      },
      {
       "output_type": "stream",
       "stream": "stdout",
       "text": [
        "\r",
        "[########                      ]"
       ]
      },
      {
       "output_type": "stream",
       "stream": "stdout",
       "text": [
        " | ETA[sec]: 513.216 "
       ]
      },
      {
       "output_type": "stream",
       "stream": "stdout",
       "text": [
        "\r",
        "[#########                     ]"
       ]
      },
      {
       "output_type": "stream",
       "stream": "stdout",
       "text": [
        " | ETA[sec]: 487.448 "
       ]
      },
      {
       "output_type": "stream",
       "stream": "stdout",
       "text": [
        "\r",
        "[##########                    ]"
       ]
      },
      {
       "output_type": "stream",
       "stream": "stdout",
       "text": [
        " | ETA[sec]: 462.804 "
       ]
      },
      {
       "output_type": "stream",
       "stream": "stdout",
       "text": [
        "\r",
        "[###########                   ]"
       ]
      },
      {
       "output_type": "stream",
       "stream": "stdout",
       "text": [
        " | ETA[sec]: 442.721 "
       ]
      },
      {
       "output_type": "stream",
       "stream": "stdout",
       "text": [
        "\r",
        "[############                  ]"
       ]
      },
      {
       "output_type": "stream",
       "stream": "stdout",
       "text": [
        " | ETA[sec]: 420.381 "
       ]
      },
      {
       "output_type": "stream",
       "stream": "stdout",
       "text": [
        "\r",
        "[#############                 ]"
       ]
      },
      {
       "output_type": "stream",
       "stream": "stdout",
       "text": [
        " | ETA[sec]: 394.859 "
       ]
      },
      {
       "output_type": "stream",
       "stream": "stdout",
       "text": [
        "\r",
        "[##############                ]"
       ]
      },
      {
       "output_type": "stream",
       "stream": "stdout",
       "text": [
        " | ETA[sec]: 370.608 "
       ]
      },
      {
       "output_type": "stream",
       "stream": "stdout",
       "text": [
        "\r",
        "[###############               ]"
       ]
      },
      {
       "output_type": "stream",
       "stream": "stdout",
       "text": [
        " | ETA[sec]: 350.296 "
       ]
      },
      {
       "output_type": "stream",
       "stream": "stdout",
       "text": [
        "\r",
        "[################              ]"
       ]
      },
      {
       "output_type": "stream",
       "stream": "stdout",
       "text": [
        " | ETA[sec]: 328.165 "
       ]
      },
      {
       "output_type": "stream",
       "stream": "stdout",
       "text": [
        "\r",
        "[#################             ]"
       ]
      },
      {
       "output_type": "stream",
       "stream": "stdout",
       "text": [
        " | ETA[sec]: 305.404 "
       ]
      },
      {
       "output_type": "stream",
       "stream": "stdout",
       "text": [
        "\r",
        "[##################            ]"
       ]
      },
      {
       "output_type": "stream",
       "stream": "stdout",
       "text": [
        " | ETA[sec]: 281.852 "
       ]
      },
      {
       "output_type": "stream",
       "stream": "stdout",
       "text": [
        "\r",
        "[###################           ]"
       ]
      },
      {
       "output_type": "stream",
       "stream": "stdout",
       "text": [
        " | ETA[sec]: 257.891 "
       ]
      },
      {
       "output_type": "stream",
       "stream": "stdout",
       "text": [
        "\r",
        "[####################          ]"
       ]
      },
      {
       "output_type": "stream",
       "stream": "stdout",
       "text": [
        " | ETA[sec]: 234.130 "
       ]
      },
      {
       "output_type": "stream",
       "stream": "stdout",
       "text": [
        "\r",
        "[#####################         ]"
       ]
      },
      {
       "output_type": "stream",
       "stream": "stdout",
       "text": [
        " | ETA[sec]: 210.872 "
       ]
      },
      {
       "output_type": "stream",
       "stream": "stdout",
       "text": [
        "\r",
        "[######################        ]"
       ]
      },
      {
       "output_type": "stream",
       "stream": "stdout",
       "text": [
        " | ETA[sec]: 187.648 "
       ]
      },
      {
       "output_type": "stream",
       "stream": "stdout",
       "text": [
        "\r",
        "[#######################       ]"
       ]
      },
      {
       "output_type": "stream",
       "stream": "stdout",
       "text": [
        " | ETA[sec]: 164.158 "
       ]
      },
      {
       "output_type": "stream",
       "stream": "stdout",
       "text": [
        "\r",
        "[########################      ]"
       ]
      },
      {
       "output_type": "stream",
       "stream": "stdout",
       "text": [
        " | ETA[sec]: 140.812 "
       ]
      },
      {
       "output_type": "stream",
       "stream": "stdout",
       "text": [
        "\r",
        "[#########################     ]"
       ]
      },
      {
       "output_type": "stream",
       "stream": "stdout",
       "text": [
        " | ETA[sec]: 117.523 "
       ]
      },
      {
       "output_type": "stream",
       "stream": "stdout",
       "text": [
        "\r",
        "[##########################    ]"
       ]
      },
      {
       "output_type": "stream",
       "stream": "stdout",
       "text": [
        " | ETA[sec]: 94.256 "
       ]
      },
      {
       "output_type": "stream",
       "stream": "stdout",
       "text": [
        "\r",
        "[###########################   ]"
       ]
      },
      {
       "output_type": "stream",
       "stream": "stdout",
       "text": [
        " | ETA[sec]: 70.486 "
       ]
      },
      {
       "output_type": "stream",
       "stream": "stdout",
       "text": [
        "\r",
        "[############################  ]"
       ]
      },
      {
       "output_type": "stream",
       "stream": "stdout",
       "text": [
        " | ETA[sec]: 46.746 "
       ]
      },
      {
       "output_type": "stream",
       "stream": "stdout",
       "text": [
        "\r",
        "[############################# ]"
       ]
      },
      {
       "output_type": "stream",
       "stream": "stdout",
       "text": [
        " | ETA[sec]: 23.375 "
       ]
      },
      {
       "output_type": "stream",
       "stream": "stdout",
       "text": [
        "\r",
        "[##############################]"
       ]
      },
      {
       "output_type": "stream",
       "stream": "stdout",
       "text": [
        " | ETA[sec]: 0.029 "
       ]
      },
      {
       "output_type": "stream",
       "stream": "stdout",
       "text": [
        "\n",
        "Total time elapsed: 700.723 sec\n"
       ]
      }
     ],
     "prompt_number": 20
    },
    {
     "cell_type": "code",
     "collapsed": false,
     "input": [
      "step1time"
     ],
     "language": "python",
     "metadata": {},
     "outputs": [
      {
       "metadata": {},
       "output_type": "pyout",
       "prompt_number": 22,
       "text": [
        "242.20238899999242"
       ]
      }
     ],
     "prompt_number": 22
    },
    {
     "cell_type": "code",
     "collapsed": false,
     "input": [
      "step2time"
     ],
     "language": "python",
     "metadata": {},
     "outputs": [
      {
       "metadata": {},
       "output_type": "pyout",
       "prompt_number": 23,
       "text": [
        "6.4904340000138205"
       ]
      }
     ],
     "prompt_number": 23
    },
    {
     "cell_type": "code",
     "collapsed": false,
     "input": [
      "step3time"
     ],
     "language": "python",
     "metadata": {},
     "outputs": [
      {
       "metadata": {},
       "output_type": "pyout",
       "prompt_number": 24,
       "text": [
        "258.8820089999921"
       ]
      }
     ],
     "prompt_number": 24
    },
    {
     "cell_type": "code",
     "collapsed": false,
     "input": [
      "step4time"
     ],
     "language": "python",
     "metadata": {},
     "outputs": [
      {
       "metadata": {},
       "output_type": "pyout",
       "prompt_number": 25,
       "text": [
        "0"
       ]
      }
     ],
     "prompt_number": 25
    },
    {
     "cell_type": "code",
     "collapsed": false,
     "input": [
      "step5time"
     ],
     "language": "python",
     "metadata": {},
     "outputs": [
      {
       "metadata": {},
       "output_type": "pyout",
       "prompt_number": 26,
       "text": [
        "0"
       ]
      }
     ],
     "prompt_number": 26
    },
    {
     "cell_type": "code",
     "collapsed": false,
     "input": [
      "step6time"
     ],
     "language": "python",
     "metadata": {},
     "outputs": [
      {
       "metadata": {},
       "output_type": "pyout",
       "prompt_number": 27,
       "text": [
        "186.34932799998424"
       ]
      }
     ],
     "prompt_number": 27
    },
    {
     "cell_type": "code",
     "collapsed": false,
     "input": [
      "len(\" \")"
     ],
     "language": "python",
     "metadata": {},
     "outputs": [
      {
       "metadata": {},
       "output_type": "pyout",
       "prompt_number": 21,
       "text": [
        "1"
       ]
      }
     ],
     "prompt_number": 21
    },
    {
     "cell_type": "code",
     "collapsed": false,
     "input": [
      "cleanedtrainlist1=cleanedtrainlist"
     ],
     "language": "python",
     "metadata": {},
     "outputs": [],
     "prompt_number": 28
    },
    {
     "cell_type": "code",
     "collapsed": false,
     "input": [
      "import pickle\n",
      "cleanedtrainlist2=pickle.load(open(\"cleanedtrainlist\",\"r\"))"
     ],
     "language": "python",
     "metadata": {},
     "outputs": [],
     "prompt_number": 29
    },
    {
     "cell_type": "code",
     "collapsed": false,
     "input": [
      "len(cleanedtrainlist2)"
     ],
     "language": "python",
     "metadata": {},
     "outputs": [
      {
       "metadata": {},
       "output_type": "pyout",
       "prompt_number": 30,
       "text": [
        "128283"
       ]
      }
     ],
     "prompt_number": 30
    },
    {
     "cell_type": "code",
     "collapsed": false,
     "input": [
      "len(cleanedtrainlist1)"
     ],
     "language": "python",
     "metadata": {},
     "outputs": [
      {
       "metadata": {},
       "output_type": "pyout",
       "prompt_number": 31,
       "text": [
        "96213"
       ]
      }
     ],
     "prompt_number": 31
    },
    {
     "cell_type": "code",
     "collapsed": false,
     "input": [
      "len(cleanedtrainlist)"
     ],
     "language": "python",
     "metadata": {},
     "outputs": [
      {
       "metadata": {},
       "output_type": "pyout",
       "prompt_number": 32,
       "text": [
        "96213"
       ]
      }
     ],
     "prompt_number": 32
    },
    {
     "cell_type": "code",
     "collapsed": false,
     "input": [
      "testinput=csv.reader(open('test_input.csv'))\n",
      "line1=testinput.next()\n",
      "testinputlist=list()\n",
      "for line in testinput:\n",
      "    testinputlist.append(line)\n",
      "import time,pyprind,nltk\n",
      "begintime=time.clock()\n",
      "cleanedtestlist=list()\n",
      "n=len(testinputlist)\n",
      "bar=pyprind.ProgBar(n,stream=1)\n",
      "step1time=0\n",
      "step2time=0\n",
      "step3time=0\n",
      "step4time=0\n",
      "step5time=0\n",
      "step6time=0\n",
      "for i in range(0,n) :\n",
      "    item=testinputlist[i]\n",
      "    temp=item[1]\n",
      "    presenttime=time.clock()\n",
      "    #tokenize (separate words by white space)\n",
      "    tokens=word_tokenize(temp)\n",
      "    step1time=step1time+(time.clock()-presenttime)\n",
      "    presenttime=time.clock()\n",
      "    #convert all texts to lowercase\n",
      "    temp=[word.lower() for word in tokens]\n",
      "    step2time=step2time+(time.clock()-presenttime)\n",
      "    import re\n",
      "    presenttime=time.clock()\n",
      "    #Keep the word if it has more alphabetic characters than others\n",
      "    keeplist=list()\n",
      "    for word in temp:\n",
      "        sumalpha=sum(1 for w in word if re.search('[a-z]',w))\n",
      "        sumothers=len(word)-sumalpha\n",
      "        keeplist.append(sumalpha>sumothers)\n",
      "    trimmedlist=list()\n",
      "    for i in range(0,len(temp)):\n",
      "        if(keeplist[i]==True):\n",
      "            trimmedlist.append(temp[i])\n",
      "    step3time=step3time+(time.clock()-presenttime)\n",
      "    presenttime=time.clock()\n",
      "    #Remove words of length less than 4\n",
      "    trimmedlist3=[word for word in trimmedlist if len(word)>4]\n",
      "    \n",
      "    #Stemming \n",
      "    porter=nltk.PorterStemmer()\n",
      "    stemmedlist=[porter.stem(word) for word in trimmedlist3]\n",
      "    step6time=step6time+(time.clock()-presenttime)\n",
      "    #Convert list of cleaned words into a string separated by white space\n",
      "    str1=' '.join(stemmedlist)\n",
      "    cleanedtestlist.append(str1)\n",
      "    bar.update()\n",
      "traintime=time.clock()-begintime"
     ],
     "language": "python",
     "metadata": {},
     "outputs": [
      {
       "output_type": "stream",
       "stream": "stdout",
       "text": [
        "0%                          100%\n"
       ]
      },
      {
       "output_type": "stream",
       "stream": "stdout",
       "text": [
        "[                              ]"
       ]
      },
      {
       "output_type": "stream",
       "stream": "stdout",
       "text": [
        "\r",
        "[#                             ]"
       ]
      },
      {
       "output_type": "stream",
       "stream": "stdout",
       "text": [
        " | ETA[sec]: 239.808 "
       ]
      },
      {
       "output_type": "stream",
       "stream": "stdout",
       "text": [
        "\r",
        "[##                            ]"
       ]
      },
      {
       "output_type": "stream",
       "stream": "stdout",
       "text": [
        " | ETA[sec]: 218.756 "
       ]
      },
      {
       "output_type": "stream",
       "stream": "stdout",
       "text": [
        "\r",
        "[###                           ]"
       ]
      },
      {
       "output_type": "stream",
       "stream": "stdout",
       "text": [
        " | ETA[sec]: 210.658 "
       ]
      },
      {
       "output_type": "stream",
       "stream": "stdout",
       "text": [
        "\r",
        "[####                          ]"
       ]
      },
      {
       "output_type": "stream",
       "stream": "stdout",
       "text": [
        " | ETA[sec]: 198.693 "
       ]
      },
      {
       "output_type": "stream",
       "stream": "stdout",
       "text": [
        "\r",
        "[#####                         ]"
       ]
      },
      {
       "output_type": "stream",
       "stream": "stdout",
       "text": [
        " | ETA[sec]: 190.610 "
       ]
      },
      {
       "output_type": "stream",
       "stream": "stdout",
       "text": [
        "\r",
        "[######                        ]"
       ]
      },
      {
       "output_type": "stream",
       "stream": "stdout",
       "text": [
        " | ETA[sec]: 183.430 "
       ]
      },
      {
       "output_type": "stream",
       "stream": "stdout",
       "text": [
        "\r",
        "[#######                       ]"
       ]
      },
      {
       "output_type": "stream",
       "stream": "stdout",
       "text": [
        " | ETA[sec]: 174.828 "
       ]
      },
      {
       "output_type": "stream",
       "stream": "stdout",
       "text": [
        "\r",
        "[########                      ]"
       ]
      },
      {
       "output_type": "stream",
       "stream": "stdout",
       "text": [
        " | ETA[sec]: 166.443 "
       ]
      },
      {
       "output_type": "stream",
       "stream": "stdout",
       "text": [
        "\r",
        "[#########                     ]"
       ]
      },
      {
       "output_type": "stream",
       "stream": "stdout",
       "text": [
        " | ETA[sec]: 157.748 "
       ]
      },
      {
       "output_type": "stream",
       "stream": "stdout",
       "text": [
        "\r",
        "[##########                    ]"
       ]
      },
      {
       "output_type": "stream",
       "stream": "stdout",
       "text": [
        " | ETA[sec]: 149.553 "
       ]
      },
      {
       "output_type": "stream",
       "stream": "stdout",
       "text": [
        "\r",
        "[###########                   ]"
       ]
      },
      {
       "output_type": "stream",
       "stream": "stdout",
       "text": [
        " | ETA[sec]: 142.716 "
       ]
      },
      {
       "output_type": "stream",
       "stream": "stdout",
       "text": [
        "\r",
        "[############                  ]"
       ]
      },
      {
       "output_type": "stream",
       "stream": "stdout",
       "text": [
        " | ETA[sec]: 135.521 "
       ]
      },
      {
       "output_type": "stream",
       "stream": "stdout",
       "text": [
        "\r",
        "[#############                 ]"
       ]
      },
      {
       "output_type": "stream",
       "stream": "stdout",
       "text": [
        " | ETA[sec]: 131.802 "
       ]
      },
      {
       "output_type": "stream",
       "stream": "stdout",
       "text": [
        "\r",
        "[##############                ]"
       ]
      },
      {
       "output_type": "stream",
       "stream": "stdout",
       "text": [
        " | ETA[sec]: 123.740 "
       ]
      },
      {
       "output_type": "stream",
       "stream": "stdout",
       "text": [
        "\r",
        "[###############               ]"
       ]
      },
      {
       "output_type": "stream",
       "stream": "stdout",
       "text": [
        " | ETA[sec]: 116.154 "
       ]
      },
      {
       "output_type": "stream",
       "stream": "stdout",
       "text": [
        "\r",
        "[################              ]"
       ]
      },
      {
       "output_type": "stream",
       "stream": "stdout",
       "text": [
        " | ETA[sec]: 108.260 "
       ]
      },
      {
       "output_type": "stream",
       "stream": "stdout",
       "text": [
        "\r",
        "[#################             ]"
       ]
      },
      {
       "output_type": "stream",
       "stream": "stdout",
       "text": [
        " | ETA[sec]: 100.910 "
       ]
      },
      {
       "output_type": "stream",
       "stream": "stdout",
       "text": [
        "\r",
        "[##################            ]"
       ]
      },
      {
       "output_type": "stream",
       "stream": "stdout",
       "text": [
        " | ETA[sec]: 92.839 "
       ]
      },
      {
       "output_type": "stream",
       "stream": "stdout",
       "text": [
        "\r",
        "[###################           ]"
       ]
      },
      {
       "output_type": "stream",
       "stream": "stdout",
       "text": [
        " | ETA[sec]: 84.728 "
       ]
      },
      {
       "output_type": "stream",
       "stream": "stdout",
       "text": [
        "\r",
        "[####################          ]"
       ]
      },
      {
       "output_type": "stream",
       "stream": "stdout",
       "text": [
        " | ETA[sec]: 76.891 "
       ]
      },
      {
       "output_type": "stream",
       "stream": "stdout",
       "text": [
        "\r",
        "[#####################         ]"
       ]
      },
      {
       "output_type": "stream",
       "stream": "stdout",
       "text": [
        " | ETA[sec]: 69.048 "
       ]
      },
      {
       "output_type": "stream",
       "stream": "stdout",
       "text": [
        "\r",
        "[######################        ]"
       ]
      },
      {
       "output_type": "stream",
       "stream": "stdout",
       "text": [
        " | ETA[sec]: 61.252 "
       ]
      },
      {
       "output_type": "stream",
       "stream": "stdout",
       "text": [
        "\r",
        "[#######################       ]"
       ]
      },
      {
       "output_type": "stream",
       "stream": "stdout",
       "text": [
        " | ETA[sec]: 53.694 "
       ]
      },
      {
       "output_type": "stream",
       "stream": "stdout",
       "text": [
        "\r",
        "[########################      ]"
       ]
      },
      {
       "output_type": "stream",
       "stream": "stdout",
       "text": [
        " | ETA[sec]: 46.020 "
       ]
      },
      {
       "output_type": "stream",
       "stream": "stdout",
       "text": [
        "\r",
        "[#########################     ]"
       ]
      },
      {
       "output_type": "stream",
       "stream": "stdout",
       "text": [
        " | ETA[sec]: 38.399 "
       ]
      },
      {
       "output_type": "stream",
       "stream": "stdout",
       "text": [
        "\r",
        "[##########################    ]"
       ]
      },
      {
       "output_type": "stream",
       "stream": "stdout",
       "text": [
        " | ETA[sec]: 30.702 "
       ]
      },
      {
       "output_type": "stream",
       "stream": "stdout",
       "text": [
        "\r",
        "[###########################   ]"
       ]
      },
      {
       "output_type": "stream",
       "stream": "stdout",
       "text": [
        " | ETA[sec]: 23.019 "
       ]
      },
      {
       "output_type": "stream",
       "stream": "stdout",
       "text": [
        "\r",
        "[############################  ]"
       ]
      },
      {
       "output_type": "stream",
       "stream": "stdout",
       "text": [
        " | ETA[sec]: 15.321 "
       ]
      },
      {
       "output_type": "stream",
       "stream": "stdout",
       "text": [
        "\r",
        "[############################# ]"
       ]
      },
      {
       "output_type": "stream",
       "stream": "stdout",
       "text": [
        " | ETA[sec]: 7.662 "
       ]
      },
      {
       "output_type": "stream",
       "stream": "stdout",
       "text": [
        "\r",
        "[##############################]"
       ]
      },
      {
       "output_type": "stream",
       "stream": "stdout",
       "text": [
        " | ETA[sec]: 0.007 "
       ]
      },
      {
       "output_type": "stream",
       "stream": "stdout",
       "text": [
        "\n",
        "Total time elapsed: 230.341 sec\n"
       ]
      }
     ],
     "prompt_number": 43
    },
    {
     "cell_type": "code",
     "collapsed": false,
     "input": [
      "len(cleanedtestlist)"
     ],
     "language": "python",
     "metadata": {},
     "outputs": [
      {
       "metadata": {},
       "output_type": "pyout",
       "prompt_number": 44,
       "text": [
        "32070"
       ]
      }
     ],
     "prompt_number": 44
    },
    {
     "cell_type": "code",
     "collapsed": false,
     "input": [
      "cleanedtrainlist1[0]"
     ],
     "language": "python",
     "metadata": {},
     "outputs": [
      {
       "metadata": {},
       "output_type": "pyout",
       "prompt_number": 45,
       "text": [
        "u'ture machin number import pillar theori comput comput architectur need could relat ture machin stabl implement ture comput possibl chapter implement univers ture comput neural field environ employ canon symbologram represent ture machin obtain encod symbol repertoir gener shift result nonlinear dynam automaton piecewis affine-linear act squar partit rectangular domain instead look point dynam phase space consid function dynam probabl distribut function p.d.f. phase space gener describ frobenius-perron integr transform regard neural field equat squar featur space dynam field theori solv frobenius-perron equat yield uniform p.d.f. rectangular support map uniform p.d.f. rectangular support again result represent \\\\emph dynam field automaton'"
       ]
      }
     ],
     "prompt_number": 45
    },
    {
     "cell_type": "code",
     "collapsed": false,
     "input": [
      "cleanedtrainlist2[0]"
     ],
     "language": "python",
     "metadata": {},
     "outputs": [
      {
       "metadata": {},
       "output_type": "pyout",
       "prompt_number": 46,
       "text": [
        "u'ture machin odel number pillar theori comput thu comput architectur need show relat ture machin stabl implement ture comput possibl chapter implement univers ture comput neural field environ end employ canon symbologram represent ture machin obtain odel encod symbol repertoir gener shift result nonlinear dynam automaton nda piecewis affine-linear map act unit squar partit rectangular domain instead look point dynam phase space then consid function dynam probabl distribut function p.d.f. phase space gener describ frobenius-perron integr transform regard neural field equat unit squar featur space dynam field theori dft solv frobenius-perron equat yield uniform p.d.f. rectangular support map uniform p.d.f. rectangular support again call result represent \\\\emph dynam field automaton'"
       ]
      }
     ],
     "prompt_number": 46
    },
    {
     "cell_type": "code",
     "collapsed": false,
     "input": [
      "sum1=0\n",
      "for word in cleanedtrainlist2:\n",
      "    sum1=sum1+len(word)\n",
      "    bar.update()"
     ],
     "language": "python",
     "metadata": {},
     "outputs": [
      {
       "output_type": "stream",
       "stream": "stdout",
       "text": [
        "\r",
        "[###############################]"
       ]
      },
      {
       "output_type": "stream",
       "stream": "stdout",
       "text": [
        " | ETA[sec]: -13.381 "
       ]
      },
      {
       "output_type": "stream",
       "stream": "stdout",
       "text": [
        "\r",
        "[################################]"
       ]
      },
      {
       "output_type": "stream",
       "stream": "stdout",
       "text": [
        " | ETA[sec]: -25.903 "
       ]
      },
      {
       "output_type": "stream",
       "stream": "stdout",
       "text": [
        "\r",
        "[#################################]"
       ]
      },
      {
       "output_type": "stream",
       "stream": "stdout",
       "text": [
        " | ETA[sec]: -37.667 "
       ]
      },
      {
       "output_type": "stream",
       "stream": "stdout",
       "text": [
        "\r",
        "[##################################]"
       ]
      },
      {
       "output_type": "stream",
       "stream": "stdout",
       "text": [
        " | ETA[sec]: -48.771 "
       ]
      },
      {
       "output_type": "stream",
       "stream": "stdout",
       "text": [
        "\r",
        "[###################################]"
       ]
      },
      {
       "output_type": "stream",
       "stream": "stdout",
       "text": [
        " | ETA[sec]: -59.211 "
       ]
      },
      {
       "output_type": "stream",
       "stream": "stdout",
       "text": [
        "\r",
        "[####################################]"
       ]
      },
      {
       "output_type": "stream",
       "stream": "stdout",
       "text": [
        " | ETA[sec]: -69.072 "
       ]
      },
      {
       "output_type": "stream",
       "stream": "stdout",
       "text": [
        "\r",
        "[#####################################]"
       ]
      },
      {
       "output_type": "stream",
       "stream": "stdout",
       "text": [
        " | ETA[sec]: -78.426 "
       ]
      },
      {
       "output_type": "stream",
       "stream": "stdout",
       "text": [
        "\r",
        "[######################################]"
       ]
      },
      {
       "output_type": "stream",
       "stream": "stdout",
       "text": [
        " | ETA[sec]: -87.263 "
       ]
      },
      {
       "output_type": "stream",
       "stream": "stdout",
       "text": [
        "\r",
        "[#######################################]"
       ]
      },
      {
       "output_type": "stream",
       "stream": "stdout",
       "text": [
        " | ETA[sec]: -95.649 "
       ]
      },
      {
       "output_type": "stream",
       "stream": "stdout",
       "text": [
        "\r",
        "[########################################]"
       ]
      },
      {
       "output_type": "stream",
       "stream": "stdout",
       "text": [
        " | ETA[sec]: -103.637 "
       ]
      },
      {
       "output_type": "stream",
       "stream": "stdout",
       "text": [
        "\r",
        "[#########################################]"
       ]
      },
      {
       "output_type": "stream",
       "stream": "stdout",
       "text": [
        " | ETA[sec]: -111.216 "
       ]
      },
      {
       "output_type": "stream",
       "stream": "stdout",
       "text": [
        "\r",
        "[##########################################]"
       ]
      },
      {
       "output_type": "stream",
       "stream": "stdout",
       "text": [
        " | ETA[sec]: -118.434 "
       ]
      },
      {
       "output_type": "stream",
       "stream": "stdout",
       "text": [
        "\r",
        "[###########################################]"
       ]
      },
      {
       "output_type": "stream",
       "stream": "stdout",
       "text": [
        " | ETA[sec]: -125.336 "
       ]
      },
      {
       "output_type": "stream",
       "stream": "stdout",
       "text": [
        "\r",
        "[############################################]"
       ]
      },
      {
       "output_type": "stream",
       "stream": "stdout",
       "text": [
        " | ETA[sec]: -131.905 "
       ]
      },
      {
       "output_type": "stream",
       "stream": "stdout",
       "text": [
        "\r",
        "[#############################################]"
       ]
      },
      {
       "output_type": "stream",
       "stream": "stdout",
       "text": [
        " | ETA[sec]: -138.184 "
       ]
      },
      {
       "output_type": "stream",
       "stream": "stdout",
       "text": [
        "\r",
        "[##############################################]"
       ]
      },
      {
       "output_type": "stream",
       "stream": "stdout",
       "text": [
        " | ETA[sec]: -144.207 "
       ]
      },
      {
       "output_type": "stream",
       "stream": "stdout",
       "text": [
        "\r",
        "[###############################################]"
       ]
      },
      {
       "output_type": "stream",
       "stream": "stdout",
       "text": [
        " | ETA[sec]: -149.958 "
       ]
      },
      {
       "output_type": "stream",
       "stream": "stdout",
       "text": [
        "\r",
        "[################################################]"
       ]
      },
      {
       "output_type": "stream",
       "stream": "stdout",
       "text": [
        " | ETA[sec]: -155.471 "
       ]
      },
      {
       "output_type": "stream",
       "stream": "stdout",
       "text": [
        "\r",
        "[#################################################]"
       ]
      },
      {
       "output_type": "stream",
       "stream": "stdout",
       "text": [
        " | ETA[sec]: -160.773 "
       ]
      },
      {
       "output_type": "stream",
       "stream": "stdout",
       "text": [
        "\r",
        "[##################################################]"
       ]
      },
      {
       "output_type": "stream",
       "stream": "stdout",
       "text": [
        " | ETA[sec]: -165.850 "
       ]
      },
      {
       "output_type": "stream",
       "stream": "stdout",
       "text": [
        "\r",
        "[###################################################]"
       ]
      },
      {
       "output_type": "stream",
       "stream": "stdout",
       "text": [
        " | ETA[sec]: -170.727 "
       ]
      },
      {
       "output_type": "stream",
       "stream": "stdout",
       "text": [
        "\r",
        "[####################################################]"
       ]
      },
      {
       "output_type": "stream",
       "stream": "stdout",
       "text": [
        " | ETA[sec]: -175.430 "
       ]
      },
      {
       "output_type": "stream",
       "stream": "stdout",
       "text": [
        "\r",
        "[#####################################################]"
       ]
      },
      {
       "output_type": "stream",
       "stream": "stdout",
       "text": [
        " | ETA[sec]: -179.944 "
       ]
      },
      {
       "output_type": "stream",
       "stream": "stdout",
       "text": [
        "\r",
        "[######################################################]"
       ]
      },
      {
       "output_type": "stream",
       "stream": "stdout",
       "text": [
        " | ETA[sec]: -184.291 "
       ]
      },
      {
       "output_type": "stream",
       "stream": "stdout",
       "text": [
        "\r",
        "[#######################################################]"
       ]
      },
      {
       "output_type": "stream",
       "stream": "stdout",
       "text": [
        " | ETA[sec]: -188.492 "
       ]
      },
      {
       "output_type": "stream",
       "stream": "stdout",
       "text": [
        "\r",
        "[########################################################]"
       ]
      },
      {
       "output_type": "stream",
       "stream": "stdout",
       "text": [
        " | ETA[sec]: -192.533 "
       ]
      },
      {
       "output_type": "stream",
       "stream": "stdout",
       "text": [
        "\r",
        "[#########################################################]"
       ]
      },
      {
       "output_type": "stream",
       "stream": "stdout",
       "text": [
        " | ETA[sec]: -196.433 "
       ]
      },
      {
       "output_type": "stream",
       "stream": "stdout",
       "text": [
        "\r",
        "[##########################################################]"
       ]
      },
      {
       "output_type": "stream",
       "stream": "stdout",
       "text": [
        " | ETA[sec]: -200.208 "
       ]
      },
      {
       "output_type": "stream",
       "stream": "stdout",
       "text": [
        "\r",
        "[###########################################################]"
       ]
      },
      {
       "output_type": "stream",
       "stream": "stdout",
       "text": [
        " | ETA[sec]: -203.845 "
       ]
      },
      {
       "output_type": "stream",
       "stream": "stdout",
       "text": [
        "\r",
        "[############################################################]"
       ]
      },
      {
       "output_type": "stream",
       "stream": "stdout",
       "text": [
        " | ETA[sec]: -207.360 "
       ]
      },
      {
       "output_type": "stream",
       "stream": "stdout",
       "text": [
        "\r",
        "[#############################################################]"
       ]
      },
      {
       "output_type": "stream",
       "stream": "stdout",
       "text": [
        " | ETA[sec]: -210.771 "
       ]
      },
      {
       "output_type": "stream",
       "stream": "stdout",
       "text": [
        "\r",
        "[##############################################################]"
       ]
      },
      {
       "output_type": "stream",
       "stream": "stdout",
       "text": [
        " | ETA[sec]: -214.061 "
       ]
      },
      {
       "output_type": "stream",
       "stream": "stdout",
       "text": [
        "\r",
        "[###############################################################]"
       ]
      },
      {
       "output_type": "stream",
       "stream": "stdout",
       "text": [
        " | ETA[sec]: -217.248 "
       ]
      },
      {
       "output_type": "stream",
       "stream": "stdout",
       "text": [
        "\r",
        "[################################################################]"
       ]
      },
      {
       "output_type": "stream",
       "stream": "stdout",
       "text": [
        " | ETA[sec]: -220.345 "
       ]
      },
      {
       "output_type": "stream",
       "stream": "stdout",
       "text": [
        "\r",
        "[#################################################################]"
       ]
      },
      {
       "output_type": "stream",
       "stream": "stdout",
       "text": [
        " | ETA[sec]: -223.338 "
       ]
      },
      {
       "output_type": "stream",
       "stream": "stdout",
       "text": [
        "\r",
        "[##################################################################]"
       ]
      },
      {
       "output_type": "stream",
       "stream": "stdout",
       "text": [
        " | ETA[sec]: -226.242 "
       ]
      },
      {
       "output_type": "stream",
       "stream": "stdout",
       "text": [
        "\r",
        "[###################################################################]"
       ]
      },
      {
       "output_type": "stream",
       "stream": "stdout",
       "text": [
        " | ETA[sec]: -229.067 "
       ]
      },
      {
       "output_type": "stream",
       "stream": "stdout",
       "text": [
        "\r",
        "[####################################################################]"
       ]
      },
      {
       "output_type": "stream",
       "stream": "stdout",
       "text": [
        " | ETA[sec]: -231.800 "
       ]
      },
      {
       "output_type": "stream",
       "stream": "stdout",
       "text": [
        "\r",
        "[#####################################################################]"
       ]
      },
      {
       "output_type": "stream",
       "stream": "stdout",
       "text": [
        " | ETA[sec]: -234.455 "
       ]
      },
      {
       "output_type": "stream",
       "stream": "stdout",
       "text": [
        "\r",
        "[######################################################################]"
       ]
      },
      {
       "output_type": "stream",
       "stream": "stdout",
       "text": [
        " | ETA[sec]: -237.041 "
       ]
      },
      {
       "output_type": "stream",
       "stream": "stdout",
       "text": [
        "\r",
        "[#######################################################################]"
       ]
      },
      {
       "output_type": "stream",
       "stream": "stdout",
       "text": [
        " | ETA[sec]: -239.546 "
       ]
      },
      {
       "output_type": "stream",
       "stream": "stdout",
       "text": [
        "\r",
        "[########################################################################]"
       ]
      },
      {
       "output_type": "stream",
       "stream": "stdout",
       "text": [
        " | ETA[sec]: -241.986 "
       ]
      },
      {
       "output_type": "stream",
       "stream": "stdout",
       "text": [
        "\r",
        "[#########################################################################]"
       ]
      },
      {
       "output_type": "stream",
       "stream": "stdout",
       "text": [
        " | ETA[sec]: -244.364 "
       ]
      },
      {
       "output_type": "stream",
       "stream": "stdout",
       "text": [
        "\r",
        "[##########################################################################]"
       ]
      },
      {
       "output_type": "stream",
       "stream": "stdout",
       "text": [
        " | ETA[sec]: -246.672 "
       ]
      },
      {
       "output_type": "stream",
       "stream": "stdout",
       "text": [
        "\r",
        "[###########################################################################]"
       ]
      },
      {
       "output_type": "stream",
       "stream": "stdout",
       "text": [
        " | ETA[sec]: -248.918 "
       ]
      },
      {
       "output_type": "stream",
       "stream": "stdout",
       "text": [
        "\r",
        "[############################################################################]"
       ]
      },
      {
       "output_type": "stream",
       "stream": "stdout",
       "text": [
        " | ETA[sec]: -251.112 "
       ]
      },
      {
       "output_type": "stream",
       "stream": "stdout",
       "text": [
        "\r",
        "[#############################################################################]"
       ]
      },
      {
       "output_type": "stream",
       "stream": "stdout",
       "text": [
        " | ETA[sec]: -253.245 "
       ]
      },
      {
       "output_type": "stream",
       "stream": "stdout",
       "text": [
        "\r",
        "[##############################################################################]"
       ]
      },
      {
       "output_type": "stream",
       "stream": "stdout",
       "text": [
        " | ETA[sec]: -255.322 "
       ]
      },
      {
       "output_type": "stream",
       "stream": "stdout",
       "text": [
        "\r",
        "[###############################################################################]"
       ]
      },
      {
       "output_type": "stream",
       "stream": "stdout",
       "text": [
        " | ETA[sec]: -257.351 "
       ]
      },
      {
       "output_type": "stream",
       "stream": "stdout",
       "text": [
        "\r",
        "[################################################################################]"
       ]
      },
      {
       "output_type": "stream",
       "stream": "stdout",
       "text": [
        " | ETA[sec]: -259.325 "
       ]
      },
      {
       "output_type": "stream",
       "stream": "stdout",
       "text": [
        "\r",
        "[#################################################################################]"
       ]
      },
      {
       "output_type": "stream",
       "stream": "stdout",
       "text": [
        " | ETA[sec]: -261.249 "
       ]
      },
      {
       "output_type": "stream",
       "stream": "stdout",
       "text": [
        "\r",
        "[##################################################################################]"
       ]
      },
      {
       "output_type": "stream",
       "stream": "stdout",
       "text": [
        " | ETA[sec]: -263.134 "
       ]
      },
      {
       "output_type": "stream",
       "stream": "stdout",
       "text": [
        "\r",
        "[###################################################################################]"
       ]
      },
      {
       "output_type": "stream",
       "stream": "stdout",
       "text": [
        " | ETA[sec]: -264.970 "
       ]
      },
      {
       "output_type": "stream",
       "stream": "stdout",
       "text": [
        "\r",
        "[####################################################################################]"
       ]
      },
      {
       "output_type": "stream",
       "stream": "stdout",
       "text": [
        " | ETA[sec]: -266.762 "
       ]
      },
      {
       "output_type": "stream",
       "stream": "stdout",
       "text": [
        "\r",
        "[#####################################################################################]"
       ]
      },
      {
       "output_type": "stream",
       "stream": "stdout",
       "text": [
        " | ETA[sec]: -268.515 "
       ]
      },
      {
       "output_type": "stream",
       "stream": "stdout",
       "text": [
        "\r",
        "[######################################################################################]"
       ]
      },
      {
       "output_type": "stream",
       "stream": "stdout",
       "text": [
        " | ETA[sec]: -270.221 "
       ]
      },
      {
       "output_type": "stream",
       "stream": "stdout",
       "text": [
        "\r",
        "[#######################################################################################]"
       ]
      },
      {
       "output_type": "stream",
       "stream": "stdout",
       "text": [
        " | ETA[sec]: -271.888 "
       ]
      },
      {
       "output_type": "stream",
       "stream": "stdout",
       "text": [
        "\r",
        "[########################################################################################]"
       ]
      },
      {
       "output_type": "stream",
       "stream": "stdout",
       "text": [
        " | ETA[sec]: -273.523 "
       ]
      },
      {
       "output_type": "stream",
       "stream": "stdout",
       "text": [
        "\r",
        "[#########################################################################################]"
       ]
      },
      {
       "output_type": "stream",
       "stream": "stdout",
       "text": [
        " | ETA[sec]: -275.116 "
       ]
      },
      {
       "output_type": "stream",
       "stream": "stdout",
       "text": [
        "\r",
        "[##########################################################################################]"
       ]
      },
      {
       "output_type": "stream",
       "stream": "stdout",
       "text": [
        " | ETA[sec]: -276.677 "
       ]
      },
      {
       "output_type": "stream",
       "stream": "stdout",
       "text": [
        "\r",
        "[###########################################################################################]"
       ]
      },
      {
       "output_type": "stream",
       "stream": "stdout",
       "text": [
        " | ETA[sec]: -278.209 "
       ]
      },
      {
       "output_type": "stream",
       "stream": "stdout",
       "text": [
        "\r",
        "[############################################################################################]"
       ]
      },
      {
       "output_type": "stream",
       "stream": "stdout",
       "text": [
        " | ETA[sec]: -279.703 "
       ]
      },
      {
       "output_type": "stream",
       "stream": "stdout",
       "text": [
        "\r",
        "[#############################################################################################]"
       ]
      },
      {
       "output_type": "stream",
       "stream": "stdout",
       "text": [
        " | ETA[sec]: -281.164 "
       ]
      },
      {
       "output_type": "stream",
       "stream": "stdout",
       "text": [
        "\r",
        "[##############################################################################################]"
       ]
      },
      {
       "output_type": "stream",
       "stream": "stdout",
       "text": [
        " | ETA[sec]: -282.598 "
       ]
      },
      {
       "output_type": "stream",
       "stream": "stdout",
       "text": [
        "\r",
        "[###############################################################################################]"
       ]
      },
      {
       "output_type": "stream",
       "stream": "stdout",
       "text": [
        " | ETA[sec]: -283.997 "
       ]
      },
      {
       "output_type": "stream",
       "stream": "stdout",
       "text": [
        "\r",
        "[################################################################################################]"
       ]
      },
      {
       "output_type": "stream",
       "stream": "stdout",
       "text": [
        " | ETA[sec]: -285.370 "
       ]
      },
      {
       "output_type": "stream",
       "stream": "stdout",
       "text": [
        "\r",
        "[#################################################################################################]"
       ]
      },
      {
       "output_type": "stream",
       "stream": "stdout",
       "text": [
        " | ETA[sec]: -286.718 "
       ]
      },
      {
       "output_type": "stream",
       "stream": "stdout",
       "text": [
        "\r",
        "[##################################################################################################]"
       ]
      },
      {
       "output_type": "stream",
       "stream": "stdout",
       "text": [
        " | ETA[sec]: -288.036 "
       ]
      },
      {
       "output_type": "stream",
       "stream": "stdout",
       "text": [
        "\r",
        "[###################################################################################################]"
       ]
      },
      {
       "output_type": "stream",
       "stream": "stdout",
       "text": [
        " | ETA[sec]: -289.326 "
       ]
      },
      {
       "output_type": "stream",
       "stream": "stdout",
       "text": [
        "\r",
        "[####################################################################################################]"
       ]
      },
      {
       "output_type": "stream",
       "stream": "stdout",
       "text": [
        " | ETA[sec]: -290.595 "
       ]
      },
      {
       "output_type": "stream",
       "stream": "stdout",
       "text": [
        "\r",
        "[#####################################################################################################]"
       ]
      },
      {
       "output_type": "stream",
       "stream": "stdout",
       "text": [
        " | ETA[sec]: -291.835 "
       ]
      },
      {
       "output_type": "stream",
       "stream": "stdout",
       "text": [
        "\r",
        "[######################################################################################################]"
       ]
      },
      {
       "output_type": "stream",
       "stream": "stdout",
       "text": [
        " | ETA[sec]: -293.050 "
       ]
      },
      {
       "output_type": "stream",
       "stream": "stdout",
       "text": [
        "\r",
        "[#######################################################################################################]"
       ]
      },
      {
       "output_type": "stream",
       "stream": "stdout",
       "text": [
        " | ETA[sec]: -294.242 "
       ]
      },
      {
       "output_type": "stream",
       "stream": "stdout",
       "text": [
        "\r",
        "[########################################################################################################]"
       ]
      },
      {
       "output_type": "stream",
       "stream": "stdout",
       "text": [
        " | ETA[sec]: -295.413 "
       ]
      },
      {
       "output_type": "stream",
       "stream": "stdout",
       "text": [
        "\r",
        "[#########################################################################################################]"
       ]
      },
      {
       "output_type": "stream",
       "stream": "stdout",
       "text": [
        " | ETA[sec]: -296.559 "
       ]
      },
      {
       "output_type": "stream",
       "stream": "stdout",
       "text": [
        "\r",
        "[##########################################################################################################]"
       ]
      },
      {
       "output_type": "stream",
       "stream": "stdout",
       "text": [
        " | ETA[sec]: -297.688 "
       ]
      },
      {
       "output_type": "stream",
       "stream": "stdout",
       "text": [
        "\r",
        "[###########################################################################################################]"
       ]
      },
      {
       "output_type": "stream",
       "stream": "stdout",
       "text": [
        " | ETA[sec]: -298.793 "
       ]
      },
      {
       "output_type": "stream",
       "stream": "stdout",
       "text": [
        "\r",
        "[############################################################################################################]"
       ]
      },
      {
       "output_type": "stream",
       "stream": "stdout",
       "text": [
        " | ETA[sec]: -299.876 "
       ]
      },
      {
       "output_type": "stream",
       "stream": "stdout",
       "text": [
        "\r",
        "[#############################################################################################################]"
       ]
      },
      {
       "output_type": "stream",
       "stream": "stdout",
       "text": [
        " | ETA[sec]: -300.944 "
       ]
      },
      {
       "output_type": "stream",
       "stream": "stdout",
       "text": [
        "\r",
        "[##############################################################################################################]"
       ]
      },
      {
       "output_type": "stream",
       "stream": "stdout",
       "text": [
        " | ETA[sec]: -301.988 "
       ]
      },
      {
       "output_type": "stream",
       "stream": "stdout",
       "text": [
        "\r",
        "[###############################################################################################################]"
       ]
      },
      {
       "output_type": "stream",
       "stream": "stdout",
       "text": [
        " | ETA[sec]: -303.015 "
       ]
      },
      {
       "output_type": "stream",
       "stream": "stdout",
       "text": [
        "\r",
        "[################################################################################################################]"
       ]
      },
      {
       "output_type": "stream",
       "stream": "stdout",
       "text": [
        " | ETA[sec]: -304.025 "
       ]
      },
      {
       "output_type": "stream",
       "stream": "stdout",
       "text": [
        "\r",
        "[#################################################################################################################]"
       ]
      },
      {
       "output_type": "stream",
       "stream": "stdout",
       "text": [
        " | ETA[sec]: -305.014 "
       ]
      },
      {
       "output_type": "stream",
       "stream": "stdout",
       "text": [
        "\r",
        "[##################################################################################################################]"
       ]
      },
      {
       "output_type": "stream",
       "stream": "stdout",
       "text": [
        " | ETA[sec]: -305.988 "
       ]
      },
      {
       "output_type": "stream",
       "stream": "stdout",
       "text": [
        "\r",
        "[###################################################################################################################]"
       ]
      },
      {
       "output_type": "stream",
       "stream": "stdout",
       "text": [
        " | ETA[sec]: -306.947 "
       ]
      },
      {
       "output_type": "stream",
       "stream": "stdout",
       "text": [
        "\r",
        "[####################################################################################################################]"
       ]
      },
      {
       "output_type": "stream",
       "stream": "stdout",
       "text": [
        " | ETA[sec]: -307.889 "
       ]
      },
      {
       "output_type": "stream",
       "stream": "stdout",
       "text": [
        "\r",
        "[#####################################################################################################################]"
       ]
      },
      {
       "output_type": "stream",
       "stream": "stdout",
       "text": [
        " | ETA[sec]: -308.813 "
       ]
      },
      {
       "output_type": "stream",
       "stream": "stdout",
       "text": [
        "\r",
        "[######################################################################################################################]"
       ]
      },
      {
       "output_type": "stream",
       "stream": "stdout",
       "text": [
        " | ETA[sec]: -309.723 "
       ]
      },
      {
       "output_type": "stream",
       "stream": "stdout",
       "text": [
        "\r",
        "[#######################################################################################################################]"
       ]
      },
      {
       "output_type": "stream",
       "stream": "stdout",
       "text": [
        " | ETA[sec]: -310.619 "
       ]
      },
      {
       "output_type": "stream",
       "stream": "stdout",
       "text": [
        "\r",
        "[########################################################################################################################]"
       ]
      },
      {
       "output_type": "stream",
       "stream": "stdout",
       "text": [
        " | ETA[sec]: -311.500 "
       ]
      },
      {
       "output_type": "stream",
       "stream": "stdout",
       "text": [
        "\r",
        "[#########################################################################################################################]"
       ]
      },
      {
       "output_type": "stream",
       "stream": "stdout",
       "text": [
        " | ETA[sec]: -312.367 "
       ]
      },
      {
       "output_type": "stream",
       "stream": "stdout",
       "text": [
        "\r",
        "[##########################################################################################################################]"
       ]
      },
      {
       "output_type": "stream",
       "stream": "stdout",
       "text": [
        " | ETA[sec]: -313.216 "
       ]
      },
      {
       "output_type": "stream",
       "stream": "stdout",
       "text": [
        "\r",
        "[###########################################################################################################################]"
       ]
      },
      {
       "output_type": "stream",
       "stream": "stdout",
       "text": [
        " | ETA[sec]: -314.054 "
       ]
      },
      {
       "output_type": "stream",
       "stream": "stdout",
       "text": [
        "\r",
        "[############################################################################################################################]"
       ]
      },
      {
       "output_type": "stream",
       "stream": "stdout",
       "text": [
        " | ETA[sec]: -314.880 "
       ]
      },
      {
       "output_type": "stream",
       "stream": "stdout",
       "text": [
        "\r",
        "[#############################################################################################################################]"
       ]
      },
      {
       "output_type": "stream",
       "stream": "stdout",
       "text": [
        " | ETA[sec]: -315.689 "
       ]
      },
      {
       "output_type": "stream",
       "stream": "stdout",
       "text": [
        "\r",
        "[##############################################################################################################################]"
       ]
      },
      {
       "output_type": "stream",
       "stream": "stdout",
       "text": [
        " | ETA[sec]: -316.487 "
       ]
      },
      {
       "output_type": "stream",
       "stream": "stdout",
       "text": [
        "\r",
        "[###############################################################################################################################]"
       ]
      },
      {
       "output_type": "stream",
       "stream": "stdout",
       "text": [
        " | ETA[sec]: -317.276 "
       ]
      },
      {
       "output_type": "stream",
       "stream": "stdout",
       "text": [
        "\r",
        "[################################################################################################################################]"
       ]
      },
      {
       "output_type": "stream",
       "stream": "stdout",
       "text": [
        " | ETA[sec]: -318.051 "
       ]
      },
      {
       "output_type": "stream",
       "stream": "stdout",
       "text": [
        "\r",
        "[#################################################################################################################################]"
       ]
      },
      {
       "output_type": "stream",
       "stream": "stdout",
       "text": [
        " | ETA[sec]: -318.815 "
       ]
      },
      {
       "output_type": "stream",
       "stream": "stdout",
       "text": [
        "\r",
        "[##################################################################################################################################]"
       ]
      },
      {
       "output_type": "stream",
       "stream": "stdout",
       "text": [
        " | ETA[sec]: -319.569 "
       ]
      },
      {
       "output_type": "stream",
       "stream": "stdout",
       "text": [
        "\r",
        "[###################################################################################################################################]"
       ]
      },
      {
       "output_type": "stream",
       "stream": "stdout",
       "text": [
        " | ETA[sec]: -320.310 "
       ]
      },
      {
       "output_type": "stream",
       "stream": "stdout",
       "text": [
        "\r",
        "[####################################################################################################################################]"
       ]
      },
      {
       "output_type": "stream",
       "stream": "stdout",
       "text": [
        " | ETA[sec]: -321.036 "
       ]
      },
      {
       "output_type": "stream",
       "stream": "stdout",
       "text": [
        "\r",
        "[#####################################################################################################################################]"
       ]
      },
      {
       "output_type": "stream",
       "stream": "stdout",
       "text": [
        " | ETA[sec]: -321.753 "
       ]
      },
      {
       "output_type": "stream",
       "stream": "stdout",
       "text": [
        "\r",
        "[######################################################################################################################################]"
       ]
      },
      {
       "output_type": "stream",
       "stream": "stdout",
       "text": [
        " | ETA[sec]: -322.457 "
       ]
      },
      {
       "output_type": "stream",
       "stream": "stdout",
       "text": [
        "\r",
        "[#######################################################################################################################################]"
       ]
      },
      {
       "output_type": "stream",
       "stream": "stdout",
       "text": [
        " | ETA[sec]: -323.152 "
       ]
      },
      {
       "output_type": "stream",
       "stream": "stdout",
       "text": [
        "\r",
        "[########################################################################################################################################]"
       ]
      },
      {
       "output_type": "stream",
       "stream": "stdout",
       "text": [
        " | ETA[sec]: -323.840 "
       ]
      },
      {
       "output_type": "stream",
       "stream": "stdout",
       "text": [
        "\r",
        "[#########################################################################################################################################]"
       ]
      },
      {
       "output_type": "stream",
       "stream": "stdout",
       "text": [
        " | ETA[sec]: -324.516 "
       ]
      },
      {
       "output_type": "stream",
       "stream": "stdout",
       "text": [
        "\r",
        "[##########################################################################################################################################]"
       ]
      },
      {
       "output_type": "stream",
       "stream": "stdout",
       "text": [
        " | ETA[sec]: -325.180 "
       ]
      },
      {
       "output_type": "stream",
       "stream": "stdout",
       "text": [
        "\r",
        "[###########################################################################################################################################]"
       ]
      },
      {
       "output_type": "stream",
       "stream": "stdout",
       "text": [
        " | ETA[sec]: -325.838 "
       ]
      },
      {
       "output_type": "stream",
       "stream": "stdout",
       "text": [
        "\r",
        "[############################################################################################################################################]"
       ]
      },
      {
       "output_type": "stream",
       "stream": "stdout",
       "text": [
        " | ETA[sec]: -326.488 "
       ]
      },
      {
       "output_type": "stream",
       "stream": "stdout",
       "text": [
        "\r",
        "[#############################################################################################################################################]"
       ]
      },
      {
       "output_type": "stream",
       "stream": "stdout",
       "text": [
        " | ETA[sec]: -327.129 "
       ]
      },
      {
       "output_type": "stream",
       "stream": "stdout",
       "text": [
        "\r",
        "[##############################################################################################################################################]"
       ]
      },
      {
       "output_type": "stream",
       "stream": "stdout",
       "text": [
        " | ETA[sec]: -327.763 "
       ]
      },
      {
       "output_type": "stream",
       "stream": "stdout",
       "text": [
        "\r",
        "[###############################################################################################################################################]"
       ]
      },
      {
       "output_type": "stream",
       "stream": "stdout",
       "text": [
        " | ETA[sec]: -328.383 "
       ]
      },
      {
       "output_type": "stream",
       "stream": "stdout",
       "text": [
        "\r",
        "[################################################################################################################################################]"
       ]
      },
      {
       "output_type": "stream",
       "stream": "stdout",
       "text": [
        " | ETA[sec]: -328.996 "
       ]
      },
      {
       "output_type": "stream",
       "stream": "stdout",
       "text": [
        "\r",
        "[#################################################################################################################################################]"
       ]
      },
      {
       "output_type": "stream",
       "stream": "stdout",
       "text": [
        " | ETA[sec]: -329.600 "
       ]
      },
      {
       "output_type": "stream",
       "stream": "stdout",
       "text": [
        "\r",
        "[##################################################################################################################################################]"
       ]
      },
      {
       "output_type": "stream",
       "stream": "stdout",
       "text": [
        " | ETA[sec]: -330.194 "
       ]
      },
      {
       "output_type": "stream",
       "stream": "stdout",
       "text": [
        "\r",
        "[###################################################################################################################################################]"
       ]
      },
      {
       "output_type": "stream",
       "stream": "stdout",
       "text": [
        " | ETA[sec]: -330.782 "
       ]
      },
      {
       "output_type": "stream",
       "stream": "stdout",
       "text": [
        "\r",
        "[####################################################################################################################################################]"
       ]
      },
      {
       "output_type": "stream",
       "stream": "stdout",
       "text": [
        " | ETA[sec]: -331.362 "
       ]
      },
      {
       "output_type": "stream",
       "stream": "stdout",
       "text": [
        "\r",
        "[#####################################################################################################################################################]"
       ]
      },
      {
       "output_type": "stream",
       "stream": "stdout",
       "text": [
        " | ETA[sec]: -331.934 "
       ]
      },
      {
       "output_type": "stream",
       "stream": "stdout",
       "text": [
        "\r",
        "[######################################################################################################################################################]"
       ]
      },
      {
       "output_type": "stream",
       "stream": "stdout",
       "text": [
        " | ETA[sec]: -332.500 "
       ]
      }
     ],
     "prompt_number": 47
    },
    {
     "cell_type": "code",
     "collapsed": false,
     "input": [
      "sum1"
     ],
     "language": "python",
     "metadata": {},
     "outputs": [
      {
       "metadata": {},
       "output_type": "pyout",
       "prompt_number": 48,
       "text": [
        "64239371"
       ]
      }
     ],
     "prompt_number": 48
    },
    {
     "cell_type": "code",
     "collapsed": false,
     "input": [
      "sum2=0\n",
      "for word in cleanedtrainlist:\n",
      "    sum2=sum2+len(word)\n",
      "for word in cleanedtestlist:\n",
      "    sum2=sum2+len(word)"
     ],
     "language": "python",
     "metadata": {},
     "outputs": [],
     "prompt_number": 49
    },
    {
     "cell_type": "code",
     "collapsed": false,
     "input": [
      "sum2"
     ],
     "language": "python",
     "metadata": {},
     "outputs": [
      {
       "metadata": {},
       "output_type": "pyout",
       "prompt_number": 50,
       "text": [
        "61005187"
       ]
      }
     ],
     "prompt_number": 50
    },
    {
     "cell_type": "code",
     "collapsed": false,
     "input": [
      "from nltk.probability import FreqDist\n",
      "freq=nltk.FreqDist([\"df\",\"apple\",\"apple\",\"df\",\"d\",\"dfd\"])"
     ],
     "language": "python",
     "metadata": {},
     "outputs": [],
     "prompt_number": 68
    },
    {
     "cell_type": "code",
     "collapsed": false,
     "input": [
      "freq"
     ],
     "language": "python",
     "metadata": {},
     "outputs": [
      {
       "metadata": {},
       "output_type": "pyout",
       "prompt_number": 70,
       "text": [
        "FreqDist({'df': 2, 'apple': 2, 'dfd': 1, 'd': 1})"
       ]
      }
     ],
     "prompt_number": 70
    },
    {
     "cell_type": "markdown",
     "metadata": {},
     "source": [
      "Load training set categories."
     ]
    },
    {
     "cell_type": "code",
     "collapsed": false,
     "input": [
      "import csv \n",
      "traincategories=csv.reader(open(\"train_output.csv\"))"
     ],
     "language": "python",
     "metadata": {},
     "outputs": [],
     "prompt_number": 88
    },
    {
     "cell_type": "code",
     "collapsed": false,
     "input": [
      "line1=traincategories.next()"
     ],
     "language": "python",
     "metadata": {},
     "outputs": [],
     "prompt_number": 89
    },
    {
     "cell_type": "code",
     "collapsed": false,
     "input": [
      "trainoutputlist=list()\n",
      "for line in traincategories:\n",
      "    trainoutputlist.append(line)"
     ],
     "language": "python",
     "metadata": {},
     "outputs": [],
     "prompt_number": 90
    },
    {
     "cell_type": "code",
     "collapsed": false,
     "input": [
      "len(trainoutputlist)"
     ],
     "language": "python",
     "metadata": {},
     "outputs": [
      {
       "metadata": {},
       "output_type": "pyout",
       "prompt_number": 91,
       "text": [
        "96213"
       ]
      }
     ],
     "prompt_number": 91
    },
    {
     "cell_type": "code",
     "collapsed": false,
     "input": [
      "trainoutputlist[0]"
     ],
     "language": "python",
     "metadata": {},
     "outputs": [
      {
       "metadata": {},
       "output_type": "pyout",
       "prompt_number": 92,
       "text": [
        "['0', 'cs']"
       ]
      }
     ],
     "prompt_number": 92
    },
    {
     "cell_type": "markdown",
     "metadata": {},
     "source": [
      "Obtain test set labels."
     ]
    },
    {
     "cell_type": "code",
     "collapsed": false,
     "input": [
      "testcategories=csv.reader(open(\"test_output_random.csv\"))\n",
      "line1=testcategories.next()\n",
      "testoutputlist=list()\n",
      "for line in testcategories:\n",
      "    testoutputlist.append(line)"
     ],
     "language": "python",
     "metadata": {},
     "outputs": [],
     "prompt_number": 95
    },
    {
     "cell_type": "code",
     "collapsed": false,
     "input": [
      "len(testoutputlist)"
     ],
     "language": "python",
     "metadata": {},
     "outputs": [
      {
       "metadata": {},
       "output_type": "pyout",
       "prompt_number": 96,
       "text": [
        "32070"
       ]
      }
     ],
     "prompt_number": 96
    },
    {
     "cell_type": "code",
     "collapsed": false,
     "input": [
      "testoutputlist[0]"
     ],
     "language": "python",
     "metadata": {},
     "outputs": [
      {
       "metadata": {},
       "output_type": "pyout",
       "prompt_number": 97,
       "text": [
        "['0', 'cs']"
       ]
      }
     ],
     "prompt_number": 97
    },
    {
     "cell_type": "markdown",
     "metadata": {},
     "source": [
      "Obtain index list for each of the four classes in the training set. "
     ]
    },
    {
     "cell_type": "code",
     "collapsed": false,
     "input": [
      "csclassindexlist=list()\n",
      "mathclassindexlist=list()\n",
      "statclassindexlist=list()\n",
      "physicsclassindexlist=list()\n",
      "for word in trainoutputlist:\n",
      "    if word[1]==\"cs\":\n",
      "        csclassindexlist.append(word[0])\n",
      "    elif word[1]==\"math\":\n",
      "        mathclassindexlist.append(word[0])\n",
      "    elif word[1]==\"stat\":\n",
      "        statclassindexlist.append(word[0])\n",
      "    else :\n",
      "        physicsclassindexlist.append(word[0])"
     ],
     "language": "python",
     "metadata": {},
     "outputs": [],
     "prompt_number": 104
    },
    {
     "cell_type": "code",
     "collapsed": false,
     "input": [
      "len(csclassindexlist)"
     ],
     "language": "python",
     "metadata": {},
     "outputs": [
      {
       "metadata": {},
       "output_type": "pyout",
       "prompt_number": 105,
       "text": [
        "31420"
       ]
      }
     ],
     "prompt_number": 105
    },
    {
     "cell_type": "code",
     "collapsed": false,
     "input": [
      "len(mathclassindexlist)"
     ],
     "language": "python",
     "metadata": {},
     "outputs": [
      {
       "metadata": {},
       "output_type": "pyout",
       "prompt_number": 106,
       "text": [
        "24377"
       ]
      }
     ],
     "prompt_number": 106
    },
    {
     "cell_type": "code",
     "collapsed": false,
     "input": [
      "len(statclassindexlist)"
     ],
     "language": "python",
     "metadata": {},
     "outputs": [
      {
       "metadata": {},
       "output_type": "pyout",
       "prompt_number": 107,
       "text": [
        "12162"
       ]
      }
     ],
     "prompt_number": 107
    },
    {
     "cell_type": "code",
     "collapsed": false,
     "input": [
      "len(physicsclassindexlist)"
     ],
     "language": "python",
     "metadata": {},
     "outputs": [
      {
       "metadata": {},
       "output_type": "pyout",
       "prompt_number": 108,
       "text": [
        "28254"
       ]
      }
     ],
     "prompt_number": 108
    },
    {
     "cell_type": "markdown",
     "metadata": {},
     "source": [
      "As shown above the classes are relatively balanced in size . Now we piece all documents in the same class together, obtaining four documents. "
     ]
    },
    {
     "cell_type": "code",
     "collapsed": false,
     "input": [
      "csdocument=\"\"\n",
      "mathdocument=\"\"\n",
      "statdocument=\"\"\n",
      "physicsdocument=\"\"\n",
      "bar=pyprind.ProgBar(len(csclassindexlist),stream=1)\n",
      "for i in csclassindexlist:\n",
      "    csdocument=csdocument+cleanedtrainlist[int(i)]+\" \"\n",
      "    bar.update()"
     ],
     "language": "python",
     "metadata": {},
     "outputs": [
      {
       "output_type": "stream",
       "stream": "stdout",
       "text": [
        "0%                          100%\n"
       ]
      },
      {
       "output_type": "stream",
       "stream": "stdout",
       "text": [
        "[                              ]"
       ]
      },
      {
       "output_type": "stream",
       "stream": "stdout",
       "text": [
        "\r",
        "[#                             ]"
       ]
      },
      {
       "output_type": "stream",
       "stream": "stdout",
       "text": [
        " | ETA[sec]: 13.930 "
       ]
      },
      {
       "output_type": "stream",
       "stream": "stdout",
       "text": [
        "\r",
        "[##                            ]"
       ]
      },
      {
       "output_type": "stream",
       "stream": "stdout",
       "text": [
        " | ETA[sec]: 24.908 "
       ]
      },
      {
       "output_type": "stream",
       "stream": "stdout",
       "text": [
        "\r",
        "[###                           ]"
       ]
      },
      {
       "output_type": "stream",
       "stream": "stdout",
       "text": [
        " | ETA[sec]: 35.909 "
       ]
      },
      {
       "output_type": "stream",
       "stream": "stdout",
       "text": [
        "\r",
        "[####                          ]"
       ]
      },
      {
       "output_type": "stream",
       "stream": "stdout",
       "text": [
        " | ETA[sec]: 45.311 "
       ]
      },
      {
       "output_type": "stream",
       "stream": "stdout",
       "text": [
        "\r",
        "[#####                         ]"
       ]
      },
      {
       "output_type": "stream",
       "stream": "stdout",
       "text": [
        " | ETA[sec]: 54.145 "
       ]
      },
      {
       "output_type": "stream",
       "stream": "stdout",
       "text": [
        "\r",
        "[######                        ]"
       ]
      },
      {
       "output_type": "stream",
       "stream": "stdout",
       "text": [
        " | ETA[sec]: 61.771 "
       ]
      },
      {
       "output_type": "stream",
       "stream": "stdout",
       "text": [
        "\r",
        "[#######                       ]"
       ]
      },
      {
       "output_type": "stream",
       "stream": "stdout",
       "text": [
        " | ETA[sec]: 68.411 "
       ]
      },
      {
       "output_type": "stream",
       "stream": "stdout",
       "text": [
        "\r",
        "[########                      ]"
       ]
      },
      {
       "output_type": "stream",
       "stream": "stdout",
       "text": [
        " | ETA[sec]: 74.262 "
       ]
      },
      {
       "output_type": "stream",
       "stream": "stdout",
       "text": [
        "\r",
        "[#########                     ]"
       ]
      },
      {
       "output_type": "stream",
       "stream": "stdout",
       "text": [
        " | ETA[sec]: 79.594 "
       ]
      },
      {
       "output_type": "stream",
       "stream": "stdout",
       "text": [
        "\r",
        "[##########                    ]"
       ]
      },
      {
       "output_type": "stream",
       "stream": "stdout",
       "text": [
        " | ETA[sec]: 83.946 "
       ]
      },
      {
       "output_type": "stream",
       "stream": "stdout",
       "text": [
        "\r",
        "[###########                   ]"
       ]
      },
      {
       "output_type": "stream",
       "stream": "stdout",
       "text": [
        " | ETA[sec]: 87.508 "
       ]
      },
      {
       "output_type": "stream",
       "stream": "stdout",
       "text": [
        "\r",
        "[############                  ]"
       ]
      },
      {
       "output_type": "stream",
       "stream": "stdout",
       "text": [
        " | ETA[sec]: 90.439 "
       ]
      },
      {
       "output_type": "stream",
       "stream": "stdout",
       "text": [
        "\r",
        "[#############                 ]"
       ]
      },
      {
       "output_type": "stream",
       "stream": "stdout",
       "text": [
        " | ETA[sec]: 92.193 "
       ]
      },
      {
       "output_type": "stream",
       "stream": "stdout",
       "text": [
        "\r",
        "[##############                ]"
       ]
      },
      {
       "output_type": "stream",
       "stream": "stdout",
       "text": [
        " | ETA[sec]: 93.535 "
       ]
      },
      {
       "output_type": "stream",
       "stream": "stdout",
       "text": [
        "\r",
        "[###############               ]"
       ]
      },
      {
       "output_type": "stream",
       "stream": "stdout",
       "text": [
        " | ETA[sec]: 94.000 "
       ]
      },
      {
       "output_type": "stream",
       "stream": "stdout",
       "text": [
        "\r",
        "[################              ]"
       ]
      },
      {
       "output_type": "stream",
       "stream": "stdout",
       "text": [
        " | ETA[sec]: 94.011 "
       ]
      },
      {
       "output_type": "stream",
       "stream": "stdout",
       "text": [
        "\r",
        "[#################             ]"
       ]
      },
      {
       "output_type": "stream",
       "stream": "stdout",
       "text": [
        " | ETA[sec]: 92.900 "
       ]
      },
      {
       "output_type": "stream",
       "stream": "stdout",
       "text": [
        "\r",
        "[##################            ]"
       ]
      },
      {
       "output_type": "stream",
       "stream": "stdout",
       "text": [
        " | ETA[sec]: 90.781 "
       ]
      },
      {
       "output_type": "stream",
       "stream": "stdout",
       "text": [
        "\r",
        "[###################           ]"
       ]
      },
      {
       "output_type": "stream",
       "stream": "stdout",
       "text": [
        " | ETA[sec]: 87.865 "
       ]
      },
      {
       "output_type": "stream",
       "stream": "stdout",
       "text": [
        "\r",
        "[####################          ]"
       ]
      },
      {
       "output_type": "stream",
       "stream": "stdout",
       "text": [
        " | ETA[sec]: 83.924 "
       ]
      },
      {
       "output_type": "stream",
       "stream": "stdout",
       "text": [
        "\r",
        "[#####################         ]"
       ]
      },
      {
       "output_type": "stream",
       "stream": "stdout",
       "text": [
        " | ETA[sec]: 79.332 "
       ]
      },
      {
       "output_type": "stream",
       "stream": "stdout",
       "text": [
        "\r",
        "[######################        ]"
       ]
      },
      {
       "output_type": "stream",
       "stream": "stdout",
       "text": [
        " | ETA[sec]: 73.617 "
       ]
      },
      {
       "output_type": "stream",
       "stream": "stdout",
       "text": [
        "\r",
        "[#######################       ]"
       ]
      },
      {
       "output_type": "stream",
       "stream": "stdout",
       "text": [
        " | ETA[sec]: 67.125 "
       ]
      },
      {
       "output_type": "stream",
       "stream": "stdout",
       "text": [
        "\r",
        "[########################      ]"
       ]
      },
      {
       "output_type": "stream",
       "stream": "stdout",
       "text": [
        " | ETA[sec]: 59.984 "
       ]
      },
      {
       "output_type": "stream",
       "stream": "stdout",
       "text": [
        "\r",
        "[#########################     ]"
       ]
      },
      {
       "output_type": "stream",
       "stream": "stdout",
       "text": [
        " | ETA[sec]: 51.961 "
       ]
      },
      {
       "output_type": "stream",
       "stream": "stdout",
       "text": [
        "\r",
        "[##########################    ]"
       ]
      },
      {
       "output_type": "stream",
       "stream": "stdout",
       "text": [
        " | ETA[sec]: 43.121 "
       ]
      },
      {
       "output_type": "stream",
       "stream": "stdout",
       "text": [
        "\r",
        "[###########################   ]"
       ]
      },
      {
       "output_type": "stream",
       "stream": "stdout",
       "text": [
        " | ETA[sec]: 33.662 "
       ]
      },
      {
       "output_type": "stream",
       "stream": "stdout",
       "text": [
        "\r",
        "[############################  ]"
       ]
      },
      {
       "output_type": "stream",
       "stream": "stdout",
       "text": [
        " | ETA[sec]: 23.559 "
       ]
      },
      {
       "output_type": "stream",
       "stream": "stdout",
       "text": [
        "\r",
        "[############################# ]"
       ]
      },
      {
       "output_type": "stream",
       "stream": "stdout",
       "text": [
        " | ETA[sec]: 12.437 "
       ]
      },
      {
       "output_type": "stream",
       "stream": "stdout",
       "text": [
        "\r",
        "[##############################]"
       ]
      },
      {
       "output_type": "stream",
       "stream": "stdout",
       "text": [
        " | ETA[sec]: 0.012 "
       ]
      },
      {
       "output_type": "stream",
       "stream": "stdout",
       "text": [
        "\n",
        "Total time elapsed: 391.520 sec\n"
       ]
      }
     ],
     "prompt_number": 116
    },
    {
     "cell_type": "code",
     "collapsed": false,
     "input": [
      "csdocument[:1000]"
     ],
     "language": "python",
     "metadata": {},
     "outputs": [
      {
       "metadata": {},
       "output_type": "pyout",
       "prompt_number": 118,
       "text": [
        "u'ture machin number import pillar theori comput comput architectur need could relat ture machin stabl implement ture comput possibl chapter implement univers ture comput neural field environ employ canon symbologram represent ture machin obtain encod symbol repertoir gener shift result nonlinear dynam automaton piecewis affine-linear act squar partit rectangular domain instead look point dynam phase space consid function dynam probabl distribut function p.d.f. phase space gener describ frobenius-perron integr transform regard neural field equat squar featur space dynam field theori solv frobenius-perron equat yield uniform p.d.f. rectangular support map uniform p.d.f. rectangular support again result represent \\\\emph dynam field automatonmultiple-object auction everi bidder tri object possibl bid algorithm paper studi position-random auction which special class multiple-object auction where bid algorithm consist initi sequenc algorithm randomli permut sequenc especi concern situat where '"
       ]
      }
     ],
     "prompt_number": 118
    },
    {
     "cell_type": "code",
     "collapsed": false,
     "input": [
      "csclassindexlist[0:10]"
     ],
     "language": "python",
     "metadata": {},
     "outputs": [
      {
       "metadata": {},
       "output_type": "pyout",
       "prompt_number": 119,
       "text": [
        "['0', '3', '5', '8', '13', '14', '15', '18', '23', '24']"
       ]
      }
     ],
     "prompt_number": 119
    },
    {
     "cell_type": "code",
     "collapsed": false,
     "input": [
      "cleanedtrainlist[3]"
     ],
     "language": "python",
     "metadata": {},
     "outputs": [
      {
       "metadata": {},
       "output_type": "pyout",
       "prompt_number": 120,
       "text": [
        "u'multiple-object auction everi bidder tri object possibl bid algorithm paper studi position-random auction which special class multiple-object auction where bid algorithm consist initi sequenc algorithm randomli permut sequenc especi concern situat where bidder bid algorithm other bidder optim bid algorithm disadvantag bidder result gener previou allow bidder unequ budget might natur anticip optim expect number object bidder would proport their budget surprisingli algorithm optim straightforward manner bidder'"
       ]
      }
     ],
     "prompt_number": 120
    },
    {
     "cell_type": "code",
     "collapsed": false,
     "input": [
      "cswords=word_tokenize(csdocument)"
     ],
     "language": "python",
     "metadata": {},
     "outputs": [],
     "prompt_number": 121
    },
    {
     "cell_type": "code",
     "collapsed": false,
     "input": [
      "csfreq=nltk.FreqDist(cswords)"
     ],
     "language": "python",
     "metadata": {},
     "outputs": [],
     "prompt_number": 123
    },
    {
     "cell_type": "code",
     "collapsed": false,
     "input": [
      "csfreq.most_common()"
     ],
     "language": "python",
     "metadata": {},
     "outputs": [
      {
       "metadata": {},
       "output_type": "pyout",
       "prompt_number": 127,
       "text": [
        "[(u'algorithm', 23541),\n",
        " (u'problem', 20422),\n",
        " (u'which', 19645),\n",
        " (u'model', 19071),\n",
        " (u'system', 19027),\n",
        " (u'result', 14766),\n",
        " (u'comput', 14415),\n",
        " (u'network', 13915),\n",
        " (u'propos', 13680),\n",
        " (u'paper', 13450),\n",
        " (u'method', 12814),\n",
        " (u'use', 12461),\n",
        " (u'gener', 11904),\n",
        " (u'base', 11377),\n",
        " (u'present', 10969),\n",
        " (u'these', 10546),\n",
        " (u'approach', 10469),\n",
        " (u'perform', 9510),\n",
        " (u'provid', 9265),\n",
        " (u'inform', 8854),\n",
        " (u'number', 8797),\n",
        " (u'graph', 8417),\n",
        " (u'applic', 8363),\n",
        " (u'function', 8230),\n",
        " (u'process', 8140),\n",
        " (u'differ', 8050),\n",
        " (u'optim', 7734),\n",
        " (u'their', 7609),\n",
        " (u'develop', 7358),\n",
        " (u'complex', 7181),\n",
        " (u'studi', 7109),\n",
        " (u'between', 7055),\n",
        " (u'techniqu', 6992),\n",
        " (u'program', 6725),\n",
        " (u'design', 6710),\n",
        " (u'structur', 6592),\n",
        " (u'distribut', 6566),\n",
        " (u'effici', 6495),\n",
        " (u'where', 6162),\n",
        " (u'analysi', 6141),\n",
        " (u'other', 6095),\n",
        " (u'imag', 5961),\n",
        " (u'implement', 5947),\n",
        " (u'bound', 5857),\n",
        " (u'learn', 5837),\n",
        " (u'languag', 5681),\n",
        " (u'requir', 5627),\n",
        " (u'improv', 5340),\n",
        " (u'solut', 5221),\n",
        " (u'exist', 5172),\n",
        " (u'first', 5143),\n",
        " (u'order', 5037),\n",
        " (u'given', 5011),\n",
        " (u'oper', 4969),\n",
        " (u'control', 4898),\n",
        " (u'allow', 4831),\n",
        " (u'logic', 4789),\n",
        " (u'commun', 4710),\n",
        " (u'consid', 4671),\n",
        " (u'featur', 4634),\n",
        " (u'framework', 4614),\n",
        " (u'approxim', 4528),\n",
        " (u'properti', 4525),\n",
        " (u'evalu', 4498),\n",
        " (u'relat', 4479),\n",
        " (u'class', 4410),\n",
        " (u'introduc', 4403),\n",
        " (u'object', 4385),\n",
        " (u'effect', 4323),\n",
        " (u'research', 4314),\n",
        " (u'compar', 4313),\n",
        " (u'measur', 4301),\n",
        " (u'describ', 4185),\n",
        " (u'queri', 4175),\n",
        " (u'larg', 4032),\n",
        " (u'dynam', 4010),\n",
        " (u'sever', 4004),\n",
        " (u'prove', 4002),\n",
        " (u'appli', 3996),\n",
        " (u'obtain', 3991),\n",
        " (u'there', 3986),\n",
        " (u'space', 3971),\n",
        " (u'point', 3949),\n",
        " (u'solv', 3880),\n",
        " (u'specif', 3827),\n",
        " (u'simul', 3817),\n",
        " (u'search', 3807),\n",
        " (u'howev', 3795),\n",
        " (u'achiev', 3766),\n",
        " (u'possibl', 3762),\n",
        " (u'import', 3760),\n",
        " (u'construct', 3708),\n",
        " (u'servic', 3697),\n",
        " (u'softwar', 3687),\n",
        " (u'linear', 3681),\n",
        " (u'while', 3672),\n",
        " (u'state', 3659),\n",
        " (u'constraint', 3657),\n",
        " (u'scheme', 3655),\n",
        " (u'theori', 3635),\n",
        " (u'valu', 3553),\n",
        " (u'defin', 3529),\n",
        " (u'includ', 3517),\n",
        " (u'semant', 3465),\n",
        " (u'power', 3414),\n",
        " (u'experi', 3352),\n",
        " (u'local', 3343),\n",
        " (u'demonstr', 3316),\n",
        " (u'user', 3309),\n",
        " (u'detect', 3264),\n",
        " (u'known', 3247),\n",
        " (u'natur', 3246),\n",
        " (u'support', 3245),\n",
        " (u'estim', 3243),\n",
        " (u'under', 3237),\n",
        " (u'combin', 3229),\n",
        " (u'simpl', 3220),\n",
        " (u'random', 3185),\n",
        " (u'represent', 3161),\n",
        " (u'condit', 3151),\n",
        " (u'secur', 3145),\n",
        " (u'probabl', 3125),\n",
        " (u'particular', 3097),\n",
        " (u'addit', 3093),\n",
        " (u'knowledg', 3081),\n",
        " (u'about', 3075),\n",
        " (u'polynomi', 3037),\n",
        " (u'level', 3003),\n",
        " (u'strategi', 2997),\n",
        " (u'repres', 2991),\n",
        " (u'paramet', 2990),\n",
        " (u'cluster', 2969),\n",
        " (u'mechan', 2967),\n",
        " (u'through', 2953),\n",
        " (u'protocol', 2930),\n",
        " (u'domain', 2924),\n",
        " (u'recent', 2921),\n",
        " (u'reduc', 2903),\n",
        " (u'select', 2902),\n",
        " (u'multipl', 2895),\n",
        " (u'discuss', 2886),\n",
        " (u'term', 2872),\n",
        " (u'exampl', 2851),\n",
        " (u'machin', 2787),\n",
        " (u'node', 2771),\n",
        " (u'extend', 2751),\n",
        " (u'agent', 2750),\n",
        " (u'input', 2724),\n",
        " (u'resourc', 2719),\n",
        " (u'depend', 2712),\n",
        " (u'express', 2679),\n",
        " (u'decis', 2675),\n",
        " (u'increas', 2663),\n",
        " (u'interact', 2660),\n",
        " (u'novel', 2642),\n",
        " (u'call', 2637),\n",
        " (u'variou', 2634),\n",
        " (u'final', 2631),\n",
        " (u'connect', 2628),\n",
        " (u'architectur', 2605),\n",
        " (u'show', 2603),\n",
        " (u'formal', 2591),\n",
        " (u'analyz', 2583),\n",
        " (u'databas', 2582),\n",
        " (u'integr', 2554),\n",
        " (u'similar', 2547),\n",
        " (u'adapt', 2539),\n",
        " (u'variabl', 2539),\n",
        " (u'extens', 2534),\n",
        " (u'access', 2533),\n",
        " (u'environ', 2519),\n",
        " (u'minim', 2515),\n",
        " (u'practic', 2514),\n",
        " (u'pattern', 2499),\n",
        " (u'concept', 2498),\n",
        " (u'manag', 2495),\n",
        " (u'consist', 2492),\n",
        " (u'observ', 2482),\n",
        " (u'complet', 2451),\n",
        " (u'interest', 2446),\n",
        " (u'standard', 2442),\n",
        " (u'factor', 2416),\n",
        " (u'challeng', 2405),\n",
        " (u'predict', 2402),\n",
        " (u'social', 2398),\n",
        " (u'limit', 2394),\n",
        " (u'identifi', 2387),\n",
        " (u'avail', 2386),\n",
        " (u'within', 2385),\n",
        " (u'current', 2384),\n",
        " (u'qualiti', 2371),\n",
        " (u'experiment', 2368),\n",
        " (u'error', 2363),\n",
        " (u'compon', 2361),\n",
        " (u'deriv', 2359),\n",
        " (u'chang', 2357),\n",
        " (u'transform', 2352),\n",
        " (u'investig', 2330),\n",
        " (u'parallel', 2310),\n",
        " (u'proof', 2307),\n",
        " (u'better', 2293),\n",
        " (u'determin', 2292),\n",
        " (u'three', 2285),\n",
        " (u'test', 2281),\n",
        " (u'without', 2255),\n",
        " (u'field', 2231),\n",
        " (u'reason', 2226),\n",
        " (u'finit', 2195),\n",
        " (u'sequenc', 2191),\n",
        " (u'sampl', 2184),\n",
        " (u'respect', 2177),\n",
        " (u'sourc', 2170),\n",
        " (u'technolog', 2169),\n",
        " (u'address', 2149),\n",
        " (u'match', 2139),\n",
        " (u'direct', 2127),\n",
        " (u'weight', 2127),\n",
        " (u'make', 2117),\n",
        " (u'group', 2115),\n",
        " (u'classif', 2097),\n",
        " (u'behavior', 2089),\n",
        " (u'context', 2083),\n",
        " (u'extract', 2082),\n",
        " (u'follow', 2050),\n",
        " (u'type', 2043),\n",
        " (u'lower', 2043),\n",
        " (u'previou', 2029),\n",
        " (u'find', 2023),\n",
        " (u'small', 2021),\n",
        " (u'mobil', 2017),\n",
        " (u'shown', 2015),\n",
        " (u'independ', 2012),\n",
        " (u'distanc', 2004),\n",
        " (u'activ', 1991),\n",
        " (u'singl', 1982),\n",
        " (u'contain', 1982),\n",
        " (u'posit', 1961),\n",
        " (u'issu', 1953),\n",
        " (u'among', 1940),\n",
        " (u'matrix', 1929),\n",
        " (u'collect', 1927),\n",
        " (u'human', 1924),\n",
        " (u'util', 1918),\n",
        " (u'second', 1917),\n",
        " (u'project', 1915),\n",
        " (u'product', 1910),\n",
        " (u'becom', 1891),\n",
        " (u'character', 1887),\n",
        " (u'schedul', 1878),\n",
        " (u'correspond', 1870),\n",
        " (u'abstract', 1867),\n",
        " (u'execut', 1866),\n",
        " (u'attack', 1854),\n",
        " (u'further', 1827),\n",
        " (u'accuraci', 1823),\n",
        " (u'often', 1823),\n",
        " (u'numer', 1810),\n",
        " (u'satisfi', 1800),\n",
        " (u'rule', 1799),\n",
        " (u'engin', 1797),\n",
        " (u'build', 1792),\n",
        " (u'sensor', 1787),\n",
        " (u'those', 1784),\n",
        " (u'theoret', 1779),\n",
        " (u'infer', 1778),\n",
        " (u'instanc', 1776),\n",
        " (u'memori', 1769),\n",
        " (u'associ', 1765),\n",
        " (u'question', 1753),\n",
        " (u'notion', 1751),\n",
        " (u'automat', 1745),\n",
        " (u'individu', 1743),\n",
        " (u'everi', 1736),\n",
        " (u'signal', 1735),\n",
        " (u'onlin', 1734),\n",
        " (u'signific', 1734),\n",
        " (u'share', 1732),\n",
        " (u'statist', 1729),\n",
        " (u'train', 1717),\n",
        " (u'recognit', 1708),\n",
        " (u'enabl', 1708),\n",
        " (u'version', 1695),\n",
        " (u'document', 1688),\n",
        " (u'rang', 1682),\n",
        " (u'classic', 1677),\n",
        " (u'set', 1673),\n",
        " (u'involv', 1673),\n",
        " (u'scale', 1671),\n",
        " (u'probabilist', 1665),\n",
        " (u'dataset', 1650),\n",
        " (u'robust', 1644),\n",
        " (u'potenti', 1644),\n",
        " (u'explor', 1641),\n",
        " (u'need', 1639),\n",
        " (u'success', 1633),\n",
        " (u'tool', 1626),\n",
        " (u'common', 1619),\n",
        " (u'produc', 1613),\n",
        " (u'classifi', 1612),\n",
        " (u'robot', 1609),\n",
        " (u'mean', 1599),\n",
        " (u'metric', 1592),\n",
        " (u'degre', 1592),\n",
        " (u'energi', 1592),\n",
        " (u'task', 1586),\n",
        " (u'converg', 1584),\n",
        " (u'origin', 1581),\n",
        " (u'algebra', 1580),\n",
        " (u'polici', 1580),\n",
        " (u'game', 1578),\n",
        " (u'sinc', 1571),\n",
        " (u'code', 1564),\n",
        " (u'whether', 1557),\n",
        " (u'global', 1555),\n",
        " (u'content', 1554),\n",
        " (u'vector', 1551),\n",
        " (u'maxim', 1549),\n",
        " (u'channel', 1547),\n",
        " (u'guarante', 1545),\n",
        " (u'reduct', 1545),\n",
        " (u'case', 1539),\n",
        " (u'sens', 1539),\n",
        " (u'be', 1538),\n",
        " (u'exploit', 1536),\n",
        " (u'certain', 1535),\n",
        " (u'answer', 1532),\n",
        " (u'equival', 1529),\n",
        " (u'devic', 1529),\n",
        " (u'initi', 1528),\n",
        " (u'filter', 1512),\n",
        " (u'maximum', 1511),\n",
        " (u'locat', 1502),\n",
        " (u'special', 1498),\n",
        " (u'rout', 1485),\n",
        " (u'procedur', 1477),\n",
        " (u'visual', 1477),\n",
        " (u'time', 1477),\n",
        " (u'wireless', 1469),\n",
        " (u'iter', 1458),\n",
        " (u'establish', 1456),\n",
        " (u'name', 1456),\n",
        " (u'element', 1448),\n",
        " (u'close', 1432),\n",
        " (u'constant', 1432),\n",
        " (u'restrict', 1432),\n",
        " (u'valid', 1422),\n",
        " (u'suggest', 1420),\n",
        " (u'formul', 1417),\n",
        " (u'correct', 1415),\n",
        " (u'expect', 1414),\n",
        " (u'report', 1408),\n",
        " (u'continu', 1407),\n",
        " (u'indic', 1407),\n",
        " (u'tradit', 1396),\n",
        " (u'understand', 1394),\n",
        " (u'altern', 1385),\n",
        " (u'becaus', 1385),\n",
        " (u'topolog', 1382),\n",
        " (u'creat', 1379),\n",
        " (u'formula', 1379),\n",
        " (u'segment', 1368),\n",
        " (u'work', 1367),\n",
        " (u'contribut', 1366),\n",
        " (u'label', 1362),\n",
        " (u'regular', 1362),\n",
        " (u'digit', 1361),\n",
        " (u'should', 1354),\n",
        " (u'length', 1353),\n",
        " (u'advantag', 1353),\n",
        " (u'capabl', 1351),\n",
        " (u'output', 1348),\n",
        " (u'averag', 1342),\n",
        " (u'video', 1339),\n",
        " (u'illustr', 1339),\n",
        " (u'dure', 1335),\n",
        " (u'minimum', 1323),\n",
        " (u'target', 1319),\n",
        " (u'separ', 1314),\n",
        " (u'event', 1313),\n",
        " (u'captur', 1305),\n",
        " (u'partial', 1302),\n",
        " (u'basic', 1300),\n",
        " (u'decid', 1300),\n",
        " (u'definit', 1295),\n",
        " (u'vertic', 1295),\n",
        " (u'fix', 1293),\n",
        " (u'found', 1291),\n",
        " (u'moreov', 1289),\n",
        " (u'equat', 1288),\n",
        " (u'relev', 1284),\n",
        " (u'least', 1281),\n",
        " (u'therefor', 1280),\n",
        " (u'theorem', 1280),\n",
        " (u'precis', 1279),\n",
        " (u'cloud', 1276),\n",
        " (u'focu', 1276),\n",
        " (u'word', 1275),\n",
        " (u'cover', 1267),\n",
        " (u'offer', 1267),\n",
        " (u'action', 1261),\n",
        " (u'assign', 1260),\n",
        " (u'scienc', 1257),\n",
        " (u'index', 1251),\n",
        " (u'comparison', 1251),\n",
        " (u'significantli', 1249),\n",
        " (u'characterist', 1248),\n",
        " (u'whose', 1236),\n",
        " (u'aspect', 1235),\n",
        " (u'popular', 1231),\n",
        " (u'arbitrari', 1230),\n",
        " (u'methodolog', 1230),\n",
        " (u'articl', 1229),\n",
        " (u'dimens', 1228),\n",
        " (u'interfac', 1227),\n",
        " (u'descript', 1225),\n",
        " (u'updat', 1220),\n",
        " (u'mathemat', 1218),\n",
        " (u'embed', 1217),\n",
        " (u'detail', 1215),\n",
        " (u'region', 1212),\n",
        " (u'circuit', 1209),\n",
        " (u'messag', 1209),\n",
        " (u'lead', 1209),\n",
        " (u'assumpt', 1206),\n",
        " (u'automata', 1206),\n",
        " (u'major', 1206),\n",
        " (u'take', 1204),\n",
        " (u'total', 1201),\n",
        " (u'compress', 1198),\n",
        " (u'retriev', 1195),\n",
        " (u'univers', 1191),\n",
        " (u'give', 1188),\n",
        " (u'impact', 1186),\n",
        " (u'scenario', 1182),\n",
        " (u'translat', 1181),\n",
        " (u'stochast', 1179),\n",
        " (u'physic', 1175),\n",
        " (u'world', 1174),\n",
        " (u'internet', 1168),\n",
        " (u'organ', 1164),\n",
        " (u'encod', 1157),\n",
        " (u'could', 1156),\n",
        " (u'furthermor', 1155),\n",
        " (u'check', 1153),\n",
        " (u'refer', 1152),\n",
        " (u'assum', 1149),\n",
        " (u'privaci', 1149),\n",
        " (u'traffic', 1143),\n",
        " (u'interpret', 1142),\n",
        " (u'employ', 1140),\n",
        " (u'public', 1138),\n",
        " (u'empir', 1135),\n",
        " (u'partit', 1134),\n",
        " (u'typic', 1133),\n",
        " (u'account', 1132),\n",
        " (u'subset', 1126),\n",
        " (u'determinist', 1126),\n",
        " (u'variant', 1118),\n",
        " (u'handl', 1115),\n",
        " (u'alloc', 1113),\n",
        " (u'concern', 1112),\n",
        " (u'rel', 1111),\n",
        " (u'color', 1110),\n",
        " (u'spars', 1110),\n",
        " (u'nois', 1109),\n",
        " (u'basi', 1107),\n",
        " (u'plan', 1104),\n",
        " (u'mine', 1103),\n",
        " (u'layer', 1099),\n",
        " (u'either', 1096),\n",
        " (u'literatur', 1095),\n",
        " (u'neural', 1092),\n",
        " (u'tempor', 1090),\n",
        " (u'edg', 1090),\n",
        " (u'relationship', 1089),\n",
        " (u'still', 1087),\n",
        " (u'after', 1085),\n",
        " (u'stream', 1085),\n",
        " (u'suitabl', 1078),\n",
        " (u'necessari', 1077),\n",
        " (u'underli', 1073),\n",
        " (u'exponenti', 1072),\n",
        " (u'reliabl', 1070),\n",
        " (u'upper', 1068),\n",
        " (u'ratio', 1064),\n",
        " (u'specifi', 1063),\n",
        " (u'suffici', 1061),\n",
        " (u'amount', 1061),\n",
        " (u'receiv', 1061),\n",
        " (u'discret', 1059),\n",
        " (u'transit', 1059),\n",
        " (u'block', 1059),\n",
        " (u'accur', 1056),\n",
        " (u'famili', 1056),\n",
        " (u'principl', 1051),\n",
        " (u'author', 1046),\n",
        " (u'strong', 1041),\n",
        " (u'verif', 1041),\n",
        " (u'accord', 1040),\n",
        " (u'respons', 1039),\n",
        " (u'purpos', 1039),\n",
        " (u'prefer', 1038),\n",
        " (u'normal', 1032),\n",
        " (u'platform', 1031),\n",
        " (u'against', 1030),\n",
        " (u'server', 1029),\n",
        " (u'link', 1026),\n",
        " (u'collabor', 1025),\n",
        " (u'calcul', 1023),\n",
        " (u'heurist', 1022),\n",
        " (u'player', 1021),\n",
        " (u'speed', 1020),\n",
        " (u'benchmark', 1017),\n",
        " (u'yield', 1016),\n",
        " (u'packet', 1015),\n",
        " (u'binari', 1014),\n",
        " (u'virtual', 1013),\n",
        " (u'futur', 1013),\n",
        " (u'central', 1010),\n",
        " (u'recommend', 1010),\n",
        " (u'hybrid', 1008),\n",
        " (u'storag', 1007),\n",
        " (u'enhanc', 1004),\n",
        " (u'emerg', 1004),\n",
        " (u'kernel', 998),\n",
        " (u'delay', 997),\n",
        " (u'focus', 996),\n",
        " (u'correl', 996),\n",
        " (u'usual', 994),\n",
        " (u'exact', 990),\n",
        " (u'configur', 989),\n",
        " (u'differenti', 987),\n",
        " (u'year', 984),\n",
        " (u'store', 984),\n",
        " (u'intellig', 984),\n",
        " (u'anoth', 979),\n",
        " (u'influenc', 979),\n",
        " (u'belief', 979),\n",
        " (u'bayesian', 975),\n",
        " (u'would', 970),\n",
        " (u'difficult', 970),\n",
        " (u'quantum', 970),\n",
        " (u'benefit', 968),\n",
        " (u'varieti', 965),\n",
        " (u'fundament', 961),\n",
        " (u'fuzzi', 960),\n",
        " (u'uniqu', 959),\n",
        " (u'analyt', 957),\n",
        " (u'monitor', 956),\n",
        " (u'higher', 955),\n",
        " (u'verifi', 955),\n",
        " (u'spatial', 953),\n",
        " (u'preserv', 952),\n",
        " (u'scalabl', 951),\n",
        " (u'run', 950),\n",
        " (u'integ', 945),\n",
        " (u'subject', 940),\n",
        " (u'convex', 939),\n",
        " (u'aggreg', 934),\n",
        " (u'maintain', 933),\n",
        " (u'shape', 932),\n",
        " (u'abil', 930),\n",
        " (u'examin', 930),\n",
        " (u'rank', 925),\n",
        " (u'track', 924),\n",
        " (u'highli', 922),\n",
        " (u'frequenc', 921),\n",
        " (u'autom', 920),\n",
        " (u'decomposit', 918),\n",
        " (u'assess', 913),\n",
        " (u'tree', 912),\n",
        " (u'previous', 910),\n",
        " (u'toward', 910),\n",
        " (u'review', 909),\n",
        " (u'vertex', 906),\n",
        " (u'topic', 904),\n",
        " (u'infinit', 904),\n",
        " (u'geometr', 902),\n",
        " (u'remain', 901),\n",
        " (u'scientif', 900),\n",
        " (u'markov', 896),\n",
        " (u'uncertainti', 896),\n",
        " (u'state-of-the-art', 893),\n",
        " (u'count', 891),\n",
        " (u'effort', 891),\n",
        " (u'togeth', 888),\n",
        " (u'choic', 885),\n",
        " (u'map', 878),\n",
        " (u'henc', 873),\n",
        " (u'person', 873),\n",
        " (u'stabil', 873),\n",
        " (u'ensur', 872),\n",
        " (u'appropri', 872),\n",
        " (u'appear', 863),\n",
        " (u'phase', 863),\n",
        " (u'situat', 861),\n",
        " (u'variat', 861),\n",
        " (u'critic', 857),\n",
        " (u'threshold', 856),\n",
        " (u'desir', 856),\n",
        " (u'essenti', 855),\n",
        " (u'rate', 854),\n",
        " (u'capac', 853),\n",
        " (u'rather', 850),\n",
        " (u'start', 848),\n",
        " (u'across', 848),\n",
        " (u'modul', 847),\n",
        " (u'annot', 843),\n",
        " (u'especi', 841),\n",
        " (u'deploy', 841),\n",
        " (u'motiv', 839),\n",
        " (u'competit', 839),\n",
        " (u'outperform', 835),\n",
        " (u'busi', 835),\n",
        " (u'avoid', 831),\n",
        " (u'analys', 831),\n",
        " (u'along', 831),\n",
        " (u'prior', 830),\n",
        " (u'although', 830),\n",
        " (u'librari', 827),\n",
        " (u'equal', 825),\n",
        " (u'instead', 825),\n",
        " (u'boolean', 825),\n",
        " (u'form', 822),\n",
        " (u'reconstruct', 822),\n",
        " (u'demand', 821),\n",
        " (u'flexibl', 817),\n",
        " (u'hardwar', 815),\n",
        " (u'transmiss', 814),\n",
        " (u'price', 813),\n",
        " (u'advanc', 812),\n",
        " (u'wide', 809),\n",
        " (u'consequ', 805),\n",
        " (u'adopt', 803),\n",
        " (u'coordin', 802),\n",
        " (u'consider', 802),\n",
        " (u'composit', 800),\n",
        " (u'combinatori', 798),\n",
        " (u'conduct', 798),\n",
        " (u'propag', 795),\n",
        " (u'recurs', 793),\n",
        " (u'matric', 792),\n",
        " (u'simultan', 792),\n",
        " (u'market', 792),\n",
        " (u'processor', 790),\n",
        " (u'attribut', 788),\n",
        " (u'incorpor', 787),\n",
        " (u'contrast', 785),\n",
        " (u'evolut', 785),\n",
        " (u'symbol', 779),\n",
        " (u'equilibrium', 778),\n",
        " (u'cycl', 777),\n",
        " (u'carri', 773),\n",
        " (u'graphic', 772),\n",
        " (u'modifi', 771),\n",
        " (u'seri', 769),\n",
        " (u'interv', 767),\n",
        " (u'intern', 767),\n",
        " (u'area', 765),\n",
        " (u'citat', 764),\n",
        " (u'directli', 764),\n",
        " (u'termin', 756),\n",
        " (u'convent', 755),\n",
        " (u'chain', 754),\n",
        " (u'actual', 754),\n",
        " (u'behaviour', 754),\n",
        " (u'overal', 753),\n",
        " (u'\\\\emph', 753),\n",
        " (u'string', 752),\n",
        " (u'cooper', 751),\n",
        " (u'caus', 748),\n",
        " (u'custom', 748),\n",
        " (u'manipul', 748),\n",
        " (u'failur', 746),\n",
        " (u'realiz', 744),\n",
        " (u'industri', 743),\n",
        " (u'have', 742),\n",
        " (u'feasibl', 742),\n",
        " (u'calculu', 741),\n",
        " (u'hierarchi', 740),\n",
        " (u'static', 739),\n",
        " (u'accept', 738),\n",
        " (u'stabl', 735),\n",
        " (u'fulli', 727),\n",
        " (u'format', 727),\n",
        " (u'easili', 726),\n",
        " (u'affect', 724),\n",
        " (u'well-known', 724),\n",
        " (u'artifici', 723),\n",
        " (u'aris', 722),\n",
        " (u'evid', 721),\n",
        " (u'usag', 721),\n",
        " (u'curv', 719),\n",
        " (u'paradigm', 718),\n",
        " (u'explicit', 716),\n",
        " (u'reveal', 715),\n",
        " (u'fault', 714),\n",
        " (u'ontolog', 714),\n",
        " (u'attempt', 713),\n",
        " (u'coeffici', 712),\n",
        " (u'real-tim', 712),\n",
        " (u'period', 711),\n",
        " (u'place', 711),\n",
        " (u'faster', 711),\n",
        " (u'view', 708),\n",
        " (u'alway', 707),\n",
        " (u'biolog', 705),\n",
        " (u'attent', 704),\n",
        " (u'expert', 700),\n",
        " (u'impli', 700),\n",
        " (u'sensit', 698),\n",
        " (u'path', 698),\n",
        " (u'peopl', 697),\n",
        " (u'promis', 696),\n",
        " (u'regard', 695),\n",
        " (u'publish', 694),\n",
        " (u'identif', 693),\n",
        " (u'sequenti', 693),\n",
        " (u'heterogen', 692),\n",
        " (u'infrastructur', 692),\n",
        " (u'refin', 691),\n",
        " (u'uniform', 689),\n",
        " (u'categori', 688),\n",
        " (u'stage', 687),\n",
        " (u'planar', 686),\n",
        " (u'hierarch', 685),\n",
        " (u'concurr', 683),\n",
        " (u'occur', 676),\n",
        " (u'particip', 674),\n",
        " (u'sound', 672),\n",
        " (u'orient', 672),\n",
        " (u'pair', 669),\n",
        " (u'synchron', 667),\n",
        " (u'presenc', 666),\n",
        " (u'np-hard', 665),\n",
        " (u'transfer', 663),\n",
        " (u'step', 662),\n",
        " (u'choos', 662),\n",
        " (u'feedback', 659),\n",
        " (u'distinct', 659),\n",
        " (u'asymptot', 658),\n",
        " (u'balanc', 653),\n",
        " (u'survey', 649),\n",
        " (u'exhibit', 647),\n",
        " (u'surfac', 646),\n",
        " (u'solver', 644),\n",
        " (u'trace', 644),\n",
        " (u'ad', 643),\n",
        " (u'cost', 643),\n",
        " (u'quantifi', 639),\n",
        " (u'request', 638),\n",
        " (u'abov', 637),\n",
        " (u'invari', 636),\n",
        " (u'prototyp', 634),\n",
        " (u'neighbor', 632),\n",
        " (u'real-world', 631),\n",
        " (u'consumpt', 631),\n",
        " (u'almost', 630),\n",
        " (u'explain', 626),\n",
        " (u'throughput', 624),\n",
        " (u'motion', 624),\n",
        " (u'discov', 623),\n",
        " (u'conjectur', 618),\n",
        " (u'parameter', 617),\n",
        " (u'ident', 617),\n",
        " (u'dimension', 612),\n",
        " (u'evolv', 611),\n",
        " (u'speech', 609),\n",
        " (u'exchang', 608),\n",
        " (u'record', 608),\n",
        " (u'resolut', 607),\n",
        " (u'induc', 607),\n",
        " (u'squar', 607),\n",
        " (u'unknown', 605),\n",
        " (u'technic', 604),\n",
        " (u'reach', 604),\n",
        " (u'frequent', 602),\n",
        " (u'profil', 602),\n",
        " (u'insight', 601),\n",
        " (u'authent', 599),\n",
        " (u'divers', 599),\n",
        " (u'score', 598),\n",
        " (u'move', 598),\n",
        " (u'befor', 597),\n",
        " (u'proposit', 597),\n",
        " (u'journal', 595),\n",
        " (u'candid', 593),\n",
        " (u'popul', 593),\n",
        " (u'tabl', 592),\n",
        " (u'ration', 588),\n",
        " (u'elimin', 586),\n",
        " (u'student', 585),\n",
        " (u'quantit', 584),\n",
        " (u'modern', 584),\n",
        " (u'compil', 583),\n",
        " (u'part', 583),\n",
        " (u'diagram', 582),\n",
        " (u'idea', 581),\n",
        " (u'perspect', 580),\n",
        " (u'rewrit', 579),\n",
        " (u'evolutionari', 578),\n",
        " (u'protect', 578),\n",
        " (u'facilit', 578),\n",
        " (u'taken', 577),\n",
        " (u'relax', 576),\n",
        " (u'plane', 576),\n",
        " (u'spectrum', 575),\n",
        " (u'manner', 574),\n",
        " (u'encrypt', 573),\n",
        " (u'larger', 572),\n",
        " (u'boundari', 571),\n",
        " (u'deal', 571),\n",
        " (u'particularli', 570),\n",
        " (u'consum', 568),\n",
        " (u'item', 568),\n",
        " (u'queue', 567),\n",
        " (u'bandwidth', 566),\n",
        " (u'reli', 563),\n",
        " (u'center', 562),\n",
        " (u'argu', 561),\n",
        " (u'remov', 560),\n",
        " (u'fraction', 558),\n",
        " (u'switch', 558),\n",
        " (u'gaussian', 555),\n",
        " (u'domin', 555),\n",
        " (u'play', 553),\n",
        " (u'tractabl', 553),\n",
        " (u'large-scal', 553),\n",
        " (u'\\\\omega', 553),\n",
        " (u'genet', 552),\n",
        " (u'round', 550),\n",
        " (u'short', 550),\n",
        " (u'revers', 550),\n",
        " (u'\\\\epsilon', 549),\n",
        " (u'charact', 548),\n",
        " (u'grammar', 548),\n",
        " (u'vision', 547),\n",
        " (u'cognit', 547),\n",
        " (u'argument', 546),\n",
        " (u'symmetr', 546),\n",
        " (u'hidden', 543),\n",
        " (u'fragment', 543),\n",
        " (u'neg', 540),\n",
        " (u'joint', 539),\n",
        " (u'synthesi', 538),\n",
        " (u'criteria', 538),\n",
        " (u'recogn', 535),\n",
        " (u'decreas', 534),\n",
        " (u'densiti', 533),\n",
        " (u'inspir', 533),\n",
        " (u'client', 532),\n",
        " (u'tight', 532),\n",
        " (u'built', 532),\n",
        " (u'transact', 531),\n",
        " (u'outcom', 531),\n",
        " (u'entiti', 530),\n",
        " (u'privat', 530),\n",
        " (u'unifi', 529),\n",
        " (u'array', 527),\n",
        " (u'overhead', 525),\n",
        " (u'frame', 524),\n",
        " (u'intersect', 524),\n",
        " (u'arithmet', 523),\n",
        " (u'modular', 523),\n",
        " (u'replac', 521),\n",
        " (u'discoveri', 521),\n",
        " (u'exactli', 520),\n",
        " (u'auction', 519),\n",
        " (u'help', 518),\n",
        " (u'alreadi', 516),\n",
        " (u'coupl', 516),\n",
        " (u'serv', 514),\n",
        " (u'extern', 513),\n",
        " (u'vari', 512),\n",
        " (u'latter', 511),\n",
        " (u'medic', 510),\n",
        " (u'itself', 510),\n",
        " (u'grow', 509),\n",
        " (u'systemat', 506),\n",
        " (u'might', 506),\n",
        " (u'sentenc', 504),\n",
        " (u'nonlinear', 503),\n",
        " (u'crucial', 502),\n",
        " (u'overcom', 501),\n",
        " (u'comprehens', 499),\n",
        " (u'qualit', 496),\n",
        " (u'whole', 495),\n",
        " (u'enough', 495),\n",
        " (u'reflect', 495),\n",
        " (u'light', 493),\n",
        " (u'smaller', 493),\n",
        " (u'vehicl', 492),\n",
        " (u'constrain', 490),\n",
        " (u'gain', 489),\n",
        " (u'discrimin', 489),\n",
        " (u'unlik', 485),\n",
        " (u'difficulti', 485),\n",
        " (u'trust', 484),\n",
        " (u'forward', 483),\n",
        " (u'first-ord', 482),\n",
        " (u'progress', 482),\n",
        " (u'proven', 481),\n",
        " (u'modal', 481),\n",
        " (u'increment', 478),\n",
        " (u'polygon', 478),\n",
        " (u'polynomial-tim', 477),\n",
        " (u'media', 476),\n",
        " (u'depth', 474),\n",
        " (u'geometri', 473),\n",
        " (u'extrem', 472),\n",
        " (u'substanti', 472),\n",
        " (u'decod', 470),\n",
        " (u'highlight', 470),\n",
        " (u'entir', 470),\n",
        " (u'materi', 468),\n",
        " (u'around', 467),\n",
        " (u'arriv', 467),\n",
        " (u'despit', 466),\n",
        " (u'redund', 466),\n",
        " (u'simplifi', 465),\n",
        " (u'consensu', 465),\n",
        " (u'modif', 461),\n",
        " (u'entropi', 461),\n",
        " (u'np-complet', 458),\n",
        " (u'commonli', 458),\n",
        " (u'shortest', 458),\n",
        " (u'smooth', 457),\n",
        " (u'mix', 456),\n",
        " (u'return', 456),\n",
        " (u'analog', 455),\n",
        " (u'increasingli', 454),\n",
        " (u'subgraph', 454),\n",
        " (u'pixel', 453),\n",
        " (u'mainli', 453),\n",
        " (u'invers', 452),\n",
        " (u'size', 451),\n",
        " (u'autonom', 451),\n",
        " (u'cach', 449),\n",
        " (u'denot', 449),\n",
        " (u'monoton', 449),\n",
        " (u'conclud', 448),\n",
        " (u'induct', 448),\n",
        " (u'third', 447),\n",
        " (u'margin', 446),\n",
        " (u'gradient', 446),\n",
        " (u'adversari', 445),\n",
        " (u'quit', 445),\n",
        " (u'criterion', 444),\n",
        " (u'signatur', 444),\n",
        " (u'automaton', 444),\n",
        " (u'compos', 443),\n",
        " (u'spreadsheet', 443),\n",
        " (u'perfect', 442),\n",
        " (u'volum', 442),\n",
        " (u'dictionari', 440),\n",
        " (u'attract', 439),\n",
        " (u'regress', 439),\n",
        " (u'unit', 439),\n",
        " (u'syntact', 438),\n",
        " (u'intuit', 435),\n",
        " (u'proper', 435),\n",
        " (u'synthet', 434),\n",
        " (u'hold', 434),\n",
        " (u'greedi', 432),\n",
        " (u'write', 432),\n",
        " (u'though', 431),\n",
        " (u'littl', 430),\n",
        " (u'page', 430),\n",
        " (u'window', 428),\n",
        " (u'interfer', 427),\n",
        " (u'expens', 427),\n",
        " (u'electron', 427),\n",
        " (u'diffus', 426),\n",
        " (u'growth', 425),\n",
        " (u'wavelet', 425),\n",
        " (u'align', 425),\n",
        " (u'explicitli', 424),\n",
        " (u'distinguish', 423),\n",
        " (u'assembl', 423),\n",
        " (u'causal', 422),\n",
        " (u'chosen', 422),\n",
        " (u'secret', 421),\n",
        " (u'workshop', 421),\n",
        " (u'believ', 420),\n",
        " (u'runtim', 420),\n",
        " (u'spread', 420),\n",
        " (u'compact', 419),\n",
        " (u'leverag', 419),\n",
        " (u'remot', 419),\n",
        " (u'great', 419),\n",
        " (u'ground', 418),\n",
        " (u'programm', 417),\n",
        " (u'recov', 417),\n",
        " (u'admit', 417),\n",
        " (u'assist', 416),\n",
        " (u'satisfact', 415),\n",
        " (u'predic', 414),\n",
        " (u'congest', 414),\n",
        " (u'inher', 413),\n",
        " (u'intens', 411),\n",
        " ...]"
       ]
      }
     ],
     "prompt_number": 127
    },
    {
     "cell_type": "code",
     "collapsed": false,
     "input": [
      "bar=pyprind.ProgBar(len(mathclassindexlist),stream=1)\n",
      "for i in mathclassindexlist:\n",
      "    mathdocument=mathdocument+cleanedtrainlist[int(i)]+\" \"\n",
      "    bar.update()\n",
      "bar=pyprind.ProgBar(len(statclassindexlist),stream=1)\n",
      "for i in statclassindexlist:\n",
      "    statdocument=statdocument+cleanedtrainlist[int(i)]+\" \"\n",
      "    bar.update()\n",
      "bar=pyprind.ProgBar(len(physicsclassindexlist),stream=1)\n",
      "for i in physicsclassindexlist:\n",
      "    physicsdocument=physicsdocument+cleanedtrainlist[int(i)]+\" \"\n",
      "    bar.update()"
     ],
     "language": "python",
     "metadata": {},
     "outputs": [
      {
       "output_type": "stream",
       "stream": "stdout",
       "text": [
        "0%                          100%\n"
       ]
      },
      {
       "output_type": "stream",
       "stream": "stdout",
       "text": [
        "[                              ]"
       ]
      },
      {
       "output_type": "stream",
       "stream": "stdout",
       "text": [
        "\r",
        "[#                             ]"
       ]
      },
      {
       "output_type": "stream",
       "stream": "stdout",
       "text": [
        " | ETA[sec]: 6.305 "
       ]
      },
      {
       "output_type": "stream",
       "stream": "stdout",
       "text": [
        "\r",
        "[##                            ]"
       ]
      },
      {
       "output_type": "stream",
       "stream": "stdout",
       "text": [
        " | ETA[sec]: 14.274 "
       ]
      },
      {
       "output_type": "stream",
       "stream": "stdout",
       "text": [
        "\r",
        "[###                           ]"
       ]
      },
      {
       "output_type": "stream",
       "stream": "stdout",
       "text": [
        " | ETA[sec]: 20.808 "
       ]
      },
      {
       "output_type": "stream",
       "stream": "stdout",
       "text": [
        "\r",
        "[####                          ]"
       ]
      },
      {
       "output_type": "stream",
       "stream": "stdout",
       "text": [
        " | ETA[sec]: 27.113 "
       ]
      },
      {
       "output_type": "stream",
       "stream": "stdout",
       "text": [
        "\r",
        "[#####                         ]"
       ]
      },
      {
       "output_type": "stream",
       "stream": "stdout",
       "text": [
        " | ETA[sec]: 32.217 "
       ]
      },
      {
       "output_type": "stream",
       "stream": "stdout",
       "text": [
        "\r",
        "[######                        ]"
       ]
      },
      {
       "output_type": "stream",
       "stream": "stdout",
       "text": [
        " | ETA[sec]: 36.878 "
       ]
      },
      {
       "output_type": "stream",
       "stream": "stdout",
       "text": [
        "\r",
        "[#######                       ]"
       ]
      },
      {
       "output_type": "stream",
       "stream": "stdout",
       "text": [
        " | ETA[sec]: 41.251 "
       ]
      },
      {
       "output_type": "stream",
       "stream": "stdout",
       "text": [
        "\r",
        "[########                      ]"
       ]
      },
      {
       "output_type": "stream",
       "stream": "stdout",
       "text": [
        " | ETA[sec]: 45.132 "
       ]
      },
      {
       "output_type": "stream",
       "stream": "stdout",
       "text": [
        "\r",
        "[#########                     ]"
       ]
      },
      {
       "output_type": "stream",
       "stream": "stdout",
       "text": [
        " | ETA[sec]: 48.437 "
       ]
      },
      {
       "output_type": "stream",
       "stream": "stdout",
       "text": [
        "\r",
        "[##########                    ]"
       ]
      },
      {
       "output_type": "stream",
       "stream": "stdout",
       "text": [
        " | ETA[sec]: 54.214 "
       ]
      },
      {
       "output_type": "stream",
       "stream": "stdout",
       "text": [
        "\r",
        "[###########                   ]"
       ]
      },
      {
       "output_type": "stream",
       "stream": "stdout",
       "text": [
        " | ETA[sec]: 55.969 "
       ]
      },
      {
       "output_type": "stream",
       "stream": "stdout",
       "text": [
        "\r",
        "[############                  ]"
       ]
      },
      {
       "output_type": "stream",
       "stream": "stdout",
       "text": [
        " | ETA[sec]: 56.810 "
       ]
      },
      {
       "output_type": "stream",
       "stream": "stdout",
       "text": [
        "\r",
        "[#############                 ]"
       ]
      },
      {
       "output_type": "stream",
       "stream": "stdout",
       "text": [
        " | ETA[sec]: 58.050 "
       ]
      },
      {
       "output_type": "stream",
       "stream": "stdout",
       "text": [
        "\r",
        "[##############                ]"
       ]
      },
      {
       "output_type": "stream",
       "stream": "stdout",
       "text": [
        " | ETA[sec]: 60.496 "
       ]
      },
      {
       "output_type": "stream",
       "stream": "stdout",
       "text": [
        "\r",
        "[###############               ]"
       ]
      },
      {
       "output_type": "stream",
       "stream": "stdout",
       "text": [
        " | ETA[sec]: 61.440 "
       ]
      },
      {
       "output_type": "stream",
       "stream": "stdout",
       "text": [
        "\r",
        "[################              ]"
       ]
      },
      {
       "output_type": "stream",
       "stream": "stdout",
       "text": [
        " | ETA[sec]: 61.370 "
       ]
      },
      {
       "output_type": "stream",
       "stream": "stdout",
       "text": [
        "\r",
        "[#################             ]"
       ]
      },
      {
       "output_type": "stream",
       "stream": "stdout",
       "text": [
        " | ETA[sec]: 59.608 "
       ]
      },
      {
       "output_type": "stream",
       "stream": "stdout",
       "text": [
        "\r",
        "[##################            ]"
       ]
      },
      {
       "output_type": "stream",
       "stream": "stdout",
       "text": [
        " | ETA[sec]: 57.816 "
       ]
      },
      {
       "output_type": "stream",
       "stream": "stdout",
       "text": [
        "\r",
        "[###################           ]"
       ]
      },
      {
       "output_type": "stream",
       "stream": "stdout",
       "text": [
        " | ETA[sec]: 55.519 "
       ]
      },
      {
       "output_type": "stream",
       "stream": "stdout",
       "text": [
        "\r",
        "[####################          ]"
       ]
      },
      {
       "output_type": "stream",
       "stream": "stdout",
       "text": [
        " | ETA[sec]: 52.789 "
       ]
      },
      {
       "output_type": "stream",
       "stream": "stdout",
       "text": [
        "\r",
        "[#####################         ]"
       ]
      },
      {
       "output_type": "stream",
       "stream": "stdout",
       "text": [
        " | ETA[sec]: 49.623 "
       ]
      },
      {
       "output_type": "stream",
       "stream": "stdout",
       "text": [
        "\r",
        "[######################        ]"
       ]
      },
      {
       "output_type": "stream",
       "stream": "stdout",
       "text": [
        " | ETA[sec]: 45.953 "
       ]
      },
      {
       "output_type": "stream",
       "stream": "stdout",
       "text": [
        "\r",
        "[#######################       ]"
       ]
      },
      {
       "output_type": "stream",
       "stream": "stdout",
       "text": [
        " | ETA[sec]: 41.855 "
       ]
      },
      {
       "output_type": "stream",
       "stream": "stdout",
       "text": [
        "\r",
        "[########################      ]"
       ]
      },
      {
       "output_type": "stream",
       "stream": "stdout",
       "text": [
        " | ETA[sec]: 37.180 "
       ]
      },
      {
       "output_type": "stream",
       "stream": "stdout",
       "text": [
        "\r",
        "[#########################     ]"
       ]
      },
      {
       "output_type": "stream",
       "stream": "stdout",
       "text": [
        " | ETA[sec]: 32.201 "
       ]
      },
      {
       "output_type": "stream",
       "stream": "stdout",
       "text": [
        "\r",
        "[##########################    ]"
       ]
      },
      {
       "output_type": "stream",
       "stream": "stdout",
       "text": [
        " | ETA[sec]: 26.668 "
       ]
      },
      {
       "output_type": "stream",
       "stream": "stdout",
       "text": [
        "\r",
        "[###########################   ]"
       ]
      },
      {
       "output_type": "stream",
       "stream": "stdout",
       "text": [
        " | ETA[sec]: 20.718 "
       ]
      },
      {
       "output_type": "stream",
       "stream": "stdout",
       "text": [
        "\r",
        "[############################  ]"
       ]
      },
      {
       "output_type": "stream",
       "stream": "stdout",
       "text": [
        " | ETA[sec]: 14.268 "
       ]
      },
      {
       "output_type": "stream",
       "stream": "stdout",
       "text": [
        "\r",
        "[############################# ]"
       ]
      },
      {
       "output_type": "stream",
       "stream": "stdout",
       "text": [
        " | ETA[sec]: 7.362 "
       ]
      },
      {
       "output_type": "stream",
       "stream": "stdout",
       "text": [
        "\r",
        "[##############################]"
       ]
      },
      {
       "output_type": "stream",
       "stream": "stdout",
       "text": [
        " | ETA[sec]: 0.009 "
       ]
      },
      {
       "output_type": "stream",
       "stream": "stdout",
       "text": [
        "\n",
        "Total time elapsed: 228.212 sec\n",
        "0%                          100%\n"
       ]
      },
      {
       "output_type": "stream",
       "stream": "stdout",
       "text": [
        "[                              ]"
       ]
      },
      {
       "output_type": "stream",
       "stream": "stdout",
       "text": [
        "\r",
        "[#                             ]"
       ]
      },
      {
       "output_type": "stream",
       "stream": "stdout",
       "text": [
        " | ETA[sec]: 4.234 "
       ]
      },
      {
       "output_type": "stream",
       "stream": "stdout",
       "text": [
        "\r",
        "[##                            ]"
       ]
      },
      {
       "output_type": "stream",
       "stream": "stdout",
       "text": [
        " | ETA[sec]: 6.858 "
       ]
      },
      {
       "output_type": "stream",
       "stream": "stdout",
       "text": [
        "\r",
        "[###                           ]"
       ]
      },
      {
       "output_type": "stream",
       "stream": "stdout",
       "text": [
        " | ETA[sec]: 9.844 "
       ]
      },
      {
       "output_type": "stream",
       "stream": "stdout",
       "text": [
        "\r",
        "[####                          ]"
       ]
      },
      {
       "output_type": "stream",
       "stream": "stdout",
       "text": [
        " | ETA[sec]: 13.587 "
       ]
      },
      {
       "output_type": "stream",
       "stream": "stdout",
       "text": [
        "\r",
        "[#####                         ]"
       ]
      },
      {
       "output_type": "stream",
       "stream": "stdout",
       "text": [
        " | ETA[sec]: 16.206 "
       ]
      },
      {
       "output_type": "stream",
       "stream": "stdout",
       "text": [
        "\r",
        "[######                        ]"
       ]
      },
      {
       "output_type": "stream",
       "stream": "stdout",
       "text": [
        " | ETA[sec]: 18.080 "
       ]
      },
      {
       "output_type": "stream",
       "stream": "stdout",
       "text": [
        "\r",
        "[#######                       ]"
       ]
      },
      {
       "output_type": "stream",
       "stream": "stdout",
       "text": [
        " | ETA[sec]: 19.896 "
       ]
      },
      {
       "output_type": "stream",
       "stream": "stdout",
       "text": [
        "\r",
        "[########                      ]"
       ]
      },
      {
       "output_type": "stream",
       "stream": "stdout",
       "text": [
        " | ETA[sec]: 21.529 "
       ]
      },
      {
       "output_type": "stream",
       "stream": "stdout",
       "text": [
        "\r",
        "[#########                     ]"
       ]
      },
      {
       "output_type": "stream",
       "stream": "stdout",
       "text": [
        " | ETA[sec]: 22.779 "
       ]
      },
      {
       "output_type": "stream",
       "stream": "stdout",
       "text": [
        "\r",
        "[##########                    ]"
       ]
      },
      {
       "output_type": "stream",
       "stream": "stdout",
       "text": [
        " | ETA[sec]: 24.179 "
       ]
      },
      {
       "output_type": "stream",
       "stream": "stdout",
       "text": [
        "\r",
        "[###########                   ]"
       ]
      },
      {
       "output_type": "stream",
       "stream": "stdout",
       "text": [
        " | ETA[sec]: 25.378 "
       ]
      },
      {
       "output_type": "stream",
       "stream": "stdout",
       "text": [
        "\r",
        "[############                  ]"
       ]
      },
      {
       "output_type": "stream",
       "stream": "stdout",
       "text": [
        " | ETA[sec]: 26.489 "
       ]
      },
      {
       "output_type": "stream",
       "stream": "stdout",
       "text": [
        "\r",
        "[#############                 ]"
       ]
      },
      {
       "output_type": "stream",
       "stream": "stdout",
       "text": [
        " | ETA[sec]: 26.789 "
       ]
      },
      {
       "output_type": "stream",
       "stream": "stdout",
       "text": [
        "\r",
        "[##############                ]"
       ]
      },
      {
       "output_type": "stream",
       "stream": "stdout",
       "text": [
        " | ETA[sec]: 26.946 "
       ]
      },
      {
       "output_type": "stream",
       "stream": "stdout",
       "text": [
        "\r",
        "[###############               ]"
       ]
      },
      {
       "output_type": "stream",
       "stream": "stdout",
       "text": [
        " | ETA[sec]: 26.971 "
       ]
      },
      {
       "output_type": "stream",
       "stream": "stdout",
       "text": [
        "\r",
        "[################              ]"
       ]
      },
      {
       "output_type": "stream",
       "stream": "stdout",
       "text": [
        " | ETA[sec]: 26.835 "
       ]
      },
      {
       "output_type": "stream",
       "stream": "stdout",
       "text": [
        "\r",
        "[#################             ]"
       ]
      },
      {
       "output_type": "stream",
       "stream": "stdout",
       "text": [
        " | ETA[sec]: 26.354 "
       ]
      },
      {
       "output_type": "stream",
       "stream": "stdout",
       "text": [
        "\r",
        "[##################            ]"
       ]
      },
      {
       "output_type": "stream",
       "stream": "stdout",
       "text": [
        " | ETA[sec]: 25.820 "
       ]
      },
      {
       "output_type": "stream",
       "stream": "stdout",
       "text": [
        "\r",
        "[###################           ]"
       ]
      },
      {
       "output_type": "stream",
       "stream": "stdout",
       "text": [
        " | ETA[sec]: 24.825 "
       ]
      },
      {
       "output_type": "stream",
       "stream": "stdout",
       "text": [
        "\r",
        "[####################          ]"
       ]
      },
      {
       "output_type": "stream",
       "stream": "stdout",
       "text": [
        " | ETA[sec]: 23.656 "
       ]
      },
      {
       "output_type": "stream",
       "stream": "stdout",
       "text": [
        "\r",
        "[#####################         ]"
       ]
      },
      {
       "output_type": "stream",
       "stream": "stdout",
       "text": [
        " | ETA[sec]: 22.312 "
       ]
      },
      {
       "output_type": "stream",
       "stream": "stdout",
       "text": [
        "\r",
        "[######################        ]"
       ]
      },
      {
       "output_type": "stream",
       "stream": "stdout",
       "text": [
        " | ETA[sec]: 20.621 "
       ]
      },
      {
       "output_type": "stream",
       "stream": "stdout",
       "text": [
        "\r",
        "[#######################       ]"
       ]
      },
      {
       "output_type": "stream",
       "stream": "stdout",
       "text": [
        " | ETA[sec]: 18.792 "
       ]
      },
      {
       "output_type": "stream",
       "stream": "stdout",
       "text": [
        "\r",
        "[########################      ]"
       ]
      },
      {
       "output_type": "stream",
       "stream": "stdout",
       "text": [
        " | ETA[sec]: 16.782 "
       ]
      },
      {
       "output_type": "stream",
       "stream": "stdout",
       "text": [
        "\r",
        "[#########################     ]"
       ]
      },
      {
       "output_type": "stream",
       "stream": "stdout",
       "text": [
        " | ETA[sec]: 14.574 "
       ]
      },
      {
       "output_type": "stream",
       "stream": "stdout",
       "text": [
        "\r",
        "[##########################    ]"
       ]
      },
      {
       "output_type": "stream",
       "stream": "stdout",
       "text": [
        " | ETA[sec]: 12.125 "
       ]
      },
      {
       "output_type": "stream",
       "stream": "stdout",
       "text": [
        "\r",
        "[###########################   ]"
       ]
      },
      {
       "output_type": "stream",
       "stream": "stdout",
       "text": [
        " | ETA[sec]: 9.450 "
       ]
      },
      {
       "output_type": "stream",
       "stream": "stdout",
       "text": [
        "\r",
        "[############################  ]"
       ]
      },
      {
       "output_type": "stream",
       "stream": "stdout",
       "text": [
        " | ETA[sec]: 6.515 "
       ]
      },
      {
       "output_type": "stream",
       "stream": "stdout",
       "text": [
        "\r",
        "[############################# ]"
       ]
      },
      {
       "output_type": "stream",
       "stream": "stdout",
       "text": [
        " | ETA[sec]: 3.363 "
       ]
      },
      {
       "output_type": "stream",
       "stream": "stdout",
       "text": [
        "\r",
        "[##############################]"
       ]
      },
      {
       "output_type": "stream",
       "stream": "stdout",
       "text": [
        "\n",
        "Total time elapsed: 104.428 sec\n"
       ]
      },
      {
       "ename": "NameError",
       "evalue": "name 'phyiscsclassindexlist' is not defined",
       "output_type": "pyerr",
       "traceback": [
        "\u001b[0;31m---------------------------------------------------------------------------\u001b[0m\n\u001b[0;31mNameError\u001b[0m                                 Traceback (most recent call last)",
        "\u001b[0;32m<ipython-input-128-0f0021d8f191>\u001b[0m in \u001b[0;36m<module>\u001b[0;34m()\u001b[0m\n\u001b[1;32m      7\u001b[0m     \u001b[0mstatdocument\u001b[0m\u001b[0;34m=\u001b[0m\u001b[0mstatdocument\u001b[0m\u001b[0;34m+\u001b[0m\u001b[0mcleanedtrainlist\u001b[0m\u001b[0;34m[\u001b[0m\u001b[0mint\u001b[0m\u001b[0;34m(\u001b[0m\u001b[0mi\u001b[0m\u001b[0;34m)\u001b[0m\u001b[0;34m]\u001b[0m\u001b[0;34m+\u001b[0m\u001b[0;34m\" \"\u001b[0m\u001b[0;34m\u001b[0m\u001b[0m\n\u001b[1;32m      8\u001b[0m     \u001b[0mbar\u001b[0m\u001b[0;34m.\u001b[0m\u001b[0mupdate\u001b[0m\u001b[0;34m(\u001b[0m\u001b[0;34m)\u001b[0m\u001b[0;34m\u001b[0m\u001b[0m\n\u001b[0;32m----> 9\u001b[0;31m \u001b[0mbar\u001b[0m\u001b[0;34m=\u001b[0m\u001b[0mpyprind\u001b[0m\u001b[0;34m.\u001b[0m\u001b[0mProgBar\u001b[0m\u001b[0;34m(\u001b[0m\u001b[0mlen\u001b[0m\u001b[0;34m(\u001b[0m\u001b[0mphyiscsclassindexlist\u001b[0m\u001b[0;34m)\u001b[0m\u001b[0;34m,\u001b[0m\u001b[0mstream\u001b[0m\u001b[0;34m=\u001b[0m\u001b[0;36m1\u001b[0m\u001b[0;34m)\u001b[0m\u001b[0;34m\u001b[0m\u001b[0m\n\u001b[0m\u001b[1;32m     10\u001b[0m \u001b[0;32mfor\u001b[0m \u001b[0mi\u001b[0m \u001b[0;32min\u001b[0m \u001b[0mphysicsclassindexlist\u001b[0m\u001b[0;34m:\u001b[0m\u001b[0;34m\u001b[0m\u001b[0m\n\u001b[1;32m     11\u001b[0m     \u001b[0mphysicsdocument\u001b[0m\u001b[0;34m=\u001b[0m\u001b[0mphysicsdocument\u001b[0m\u001b[0;34m+\u001b[0m\u001b[0mcleanedtrainlist\u001b[0m\u001b[0;34m[\u001b[0m\u001b[0mint\u001b[0m\u001b[0;34m(\u001b[0m\u001b[0mi\u001b[0m\u001b[0;34m)\u001b[0m\u001b[0;34m]\u001b[0m\u001b[0;34m+\u001b[0m\u001b[0;34m\" \"\u001b[0m\u001b[0;34m\u001b[0m\u001b[0m\n",
        "\u001b[0;31mNameError\u001b[0m: name 'phyiscsclassindexlist' is not defined"
       ]
      }
     ],
     "prompt_number": 128
    },
    {
     "cell_type": "code",
     "collapsed": false,
     "input": [
      "bar=pyprind.ProgBar(len(physicsclassindexlist),stream=1)\n",
      "for i in physicsclassindexlist:\n",
      "    physicsdocument=physicsdocument+cleanedtrainlist[int(i)]+\" \"\n",
      "    bar.update()"
     ],
     "language": "python",
     "metadata": {},
     "outputs": [
      {
       "output_type": "stream",
       "stream": "stdout",
       "text": [
        "0%                          100%\n"
       ]
      },
      {
       "output_type": "stream",
       "stream": "stdout",
       "text": [
        "[                              ]"
       ]
      },
      {
       "output_type": "stream",
       "stream": "stdout",
       "text": [
        "\r",
        "[#                             ]"
       ]
      },
      {
       "output_type": "stream",
       "stream": "stdout",
       "text": [
        " | ETA[sec]: 15.665 "
       ]
      },
      {
       "output_type": "stream",
       "stream": "stdout",
       "text": [
        "\r",
        "[##                            ]"
       ]
      },
      {
       "output_type": "stream",
       "stream": "stdout",
       "text": [
        " | ETA[sec]: 30.324 "
       ]
      },
      {
       "output_type": "stream",
       "stream": "stdout",
       "text": [
        "\r",
        "[###                           ]"
       ]
      },
      {
       "output_type": "stream",
       "stream": "stdout",
       "text": [
        " | ETA[sec]: 45.125 "
       ]
      },
      {
       "output_type": "stream",
       "stream": "stdout",
       "text": [
        "\r",
        "[####                          ]"
       ]
      },
      {
       "output_type": "stream",
       "stream": "stdout",
       "text": [
        " | ETA[sec]: 58.812 "
       ]
      },
      {
       "output_type": "stream",
       "stream": "stdout",
       "text": [
        "\r",
        "[#####                         ]"
       ]
      },
      {
       "output_type": "stream",
       "stream": "stdout",
       "text": [
        " | ETA[sec]: 69.296 "
       ]
      },
      {
       "output_type": "stream",
       "stream": "stdout",
       "text": [
        "\r",
        "[######                        ]"
       ]
      },
      {
       "output_type": "stream",
       "stream": "stdout",
       "text": [
        " | ETA[sec]: 78.884 "
       ]
      },
      {
       "output_type": "stream",
       "stream": "stdout",
       "text": [
        "\r",
        "[#######                       ]"
       ]
      },
      {
       "output_type": "stream",
       "stream": "stdout",
       "text": [
        " | ETA[sec]: 88.160 "
       ]
      },
      {
       "output_type": "stream",
       "stream": "stdout",
       "text": [
        "\r",
        "[########                      ]"
       ]
      },
      {
       "output_type": "stream",
       "stream": "stdout",
       "text": [
        " | ETA[sec]: 96.399 "
       ]
      },
      {
       "output_type": "stream",
       "stream": "stdout",
       "text": [
        "\r",
        "[#########                     ]"
       ]
      },
      {
       "output_type": "stream",
       "stream": "stdout",
       "text": [
        " | ETA[sec]: 108.580 "
       ]
      },
      {
       "output_type": "stream",
       "stream": "stdout",
       "text": [
        "\r",
        "[##########                    ]"
       ]
      },
      {
       "output_type": "stream",
       "stream": "stdout",
       "text": [
        " | ETA[sec]: 120.352 "
       ]
      },
      {
       "output_type": "stream",
       "stream": "stdout",
       "text": [
        "\r",
        "[###########                   ]"
       ]
      },
      {
       "output_type": "stream",
       "stream": "stdout",
       "text": [
        " | ETA[sec]: 123.495 "
       ]
      },
      {
       "output_type": "stream",
       "stream": "stdout",
       "text": [
        "\r",
        "[############                  ]"
       ]
      },
      {
       "output_type": "stream",
       "stream": "stdout",
       "text": [
        " | ETA[sec]: 125.668 "
       ]
      },
      {
       "output_type": "stream",
       "stream": "stdout",
       "text": [
        "\r",
        "[#############                 ]"
       ]
      },
      {
       "output_type": "stream",
       "stream": "stdout",
       "text": [
        " | ETA[sec]: 126.922 "
       ]
      },
      {
       "output_type": "stream",
       "stream": "stdout",
       "text": [
        "\r",
        "[##############                ]"
       ]
      },
      {
       "output_type": "stream",
       "stream": "stdout",
       "text": [
        " | ETA[sec]: 127.747 "
       ]
      },
      {
       "output_type": "stream",
       "stream": "stdout",
       "text": [
        "\r",
        "[###############               ]"
       ]
      },
      {
       "output_type": "stream",
       "stream": "stdout",
       "text": [
        " | ETA[sec]: 127.502 "
       ]
      },
      {
       "output_type": "stream",
       "stream": "stdout",
       "text": [
        "\r",
        "[################              ]"
       ]
      },
      {
       "output_type": "stream",
       "stream": "stdout",
       "text": [
        " | ETA[sec]: 126.278 "
       ]
      },
      {
       "output_type": "stream",
       "stream": "stdout",
       "text": [
        "\r",
        "[#################             ]"
       ]
      },
      {
       "output_type": "stream",
       "stream": "stdout",
       "text": [
        " | ETA[sec]: 124.317 "
       ]
      },
      {
       "output_type": "stream",
       "stream": "stdout",
       "text": [
        "\r",
        "[##################            ]"
       ]
      },
      {
       "output_type": "stream",
       "stream": "stdout",
       "text": [
        " | ETA[sec]: 120.999 "
       ]
      },
      {
       "output_type": "stream",
       "stream": "stdout",
       "text": [
        "\r",
        "[###################           ]"
       ]
      },
      {
       "output_type": "stream",
       "stream": "stdout",
       "text": [
        " | ETA[sec]: 116.756 "
       ]
      },
      {
       "output_type": "stream",
       "stream": "stdout",
       "text": [
        "\r",
        "[####################          ]"
       ]
      },
      {
       "output_type": "stream",
       "stream": "stdout",
       "text": [
        " | ETA[sec]: 111.523 "
       ]
      },
      {
       "output_type": "stream",
       "stream": "stdout",
       "text": [
        "\r",
        "[#####################         ]"
       ]
      },
      {
       "output_type": "stream",
       "stream": "stdout",
       "text": [
        " | ETA[sec]: 104.761 "
       ]
      },
      {
       "output_type": "stream",
       "stream": "stdout",
       "text": [
        "\r",
        "[######################        ]"
       ]
      },
      {
       "output_type": "stream",
       "stream": "stdout",
       "text": [
        " | ETA[sec]: 97.381 "
       ]
      },
      {
       "output_type": "stream",
       "stream": "stdout",
       "text": [
        "\r",
        "[#######################       ]"
       ]
      },
      {
       "output_type": "stream",
       "stream": "stdout",
       "text": [
        " | ETA[sec]: 88.993 "
       ]
      },
      {
       "output_type": "stream",
       "stream": "stdout",
       "text": [
        "\r",
        "[########################      ]"
       ]
      },
      {
       "output_type": "stream",
       "stream": "stdout",
       "text": [
        " | ETA[sec]: 79.346 "
       ]
      },
      {
       "output_type": "stream",
       "stream": "stdout",
       "text": [
        "\r",
        "[#########################     ]"
       ]
      },
      {
       "output_type": "stream",
       "stream": "stdout",
       "text": [
        " | ETA[sec]: 68.814 "
       ]
      },
      {
       "output_type": "stream",
       "stream": "stdout",
       "text": [
        "\r",
        "[##########################    ]"
       ]
      },
      {
       "output_type": "stream",
       "stream": "stdout",
       "text": [
        " | ETA[sec]: 57.253 "
       ]
      },
      {
       "output_type": "stream",
       "stream": "stdout",
       "text": [
        "\r",
        "[###########################   ]"
       ]
      },
      {
       "output_type": "stream",
       "stream": "stdout",
       "text": [
        " | ETA[sec]: 44.472 "
       ]
      },
      {
       "output_type": "stream",
       "stream": "stdout",
       "text": [
        "\r",
        "[############################  ]"
       ]
      },
      {
       "output_type": "stream",
       "stream": "stdout",
       "text": [
        " | ETA[sec]: 31.004 "
       ]
      },
      {
       "output_type": "stream",
       "stream": "stdout",
       "text": [
        "\r",
        "[############################# ]"
       ]
      },
      {
       "output_type": "stream",
       "stream": "stdout",
       "text": [
        " | ETA[sec]: 16.121 "
       ]
      },
      {
       "output_type": "stream",
       "stream": "stdout",
       "text": [
        "\r",
        "[##############################]"
       ]
      },
      {
       "output_type": "stream",
       "stream": "stdout",
       "text": [
        " | ETA[sec]: 0.018 "
       ]
      },
      {
       "output_type": "stream",
       "stream": "stdout",
       "text": [
        "\n",
        "Total time elapsed: 509.395 sec\n"
       ]
      }
     ],
     "prompt_number": 130
    },
    {
     "cell_type": "code",
     "collapsed": false,
     "input": [
      "mathwords=word_tokenize(mathdocument)\n",
      "statwords=word_tokenize(statdocument)\n",
      "physicswords=word_tokenize(physicsdocument)"
     ],
     "language": "python",
     "metadata": {},
     "outputs": [],
     "prompt_number": 132
    },
    {
     "cell_type": "code",
     "collapsed": false,
     "input": [
      "mathfreq=nltk.FreqDist(mathwords)\n",
      "statfreq=nltk.FreqDist(statwords)\n",
      "physicsfreq=nltk.FreqDist(physicswords)"
     ],
     "language": "python",
     "metadata": {},
     "outputs": [],
     "prompt_number": 133
    },
    {
     "cell_type": "code",
     "collapsed": false,
     "input": [
      "math_most_comon=mathfreq.most_common()"
     ],
     "language": "python",
     "metadata": {},
     "outputs": [],
     "prompt_number": 140
    },
    {
     "cell_type": "code",
     "collapsed": false,
     "input": [
      "stat_most_common=statfreq.most_common()"
     ],
     "language": "python",
     "metadata": {},
     "outputs": [],
     "prompt_number": 141
    },
    {
     "cell_type": "code",
     "collapsed": false,
     "input": [
      "physics_most_common=physicsfreq.most_common()"
     ],
     "language": "python",
     "metadata": {},
     "outputs": [],
     "prompt_number": 142
    },
    {
     "cell_type": "code",
     "collapsed": false,
     "input": [
      "type(mathfreq.most_common())"
     ],
     "language": "python",
     "metadata": {},
     "outputs": [
      {
       "metadata": {},
       "output_type": "pyout",
       "prompt_number": 138,
       "text": [
        "list"
       ]
      }
     ],
     "prompt_number": 138
    },
    {
     "cell_type": "code",
     "collapsed": false,
     "input": [
      "cs_most_common=csfreq.most_common()"
     ],
     "language": "python",
     "metadata": {},
     "outputs": [],
     "prompt_number": 143
    },
    {
     "cell_type": "code",
     "collapsed": false,
     "input": [
      "len(cs_most_common)"
     ],
     "language": "python",
     "metadata": {},
     "outputs": [
      {
       "metadata": {},
       "output_type": "pyout",
       "prompt_number": 145,
       "text": [
        "81525"
       ]
      }
     ],
     "prompt_number": 145
    },
    {
     "cell_type": "code",
     "collapsed": false,
     "input": [],
     "language": "python",
     "metadata": {},
     "outputs": [
      {
       "metadata": {},
       "output_type": "pyout",
       "prompt_number": 148,
       "text": [
        "23541"
       ]
      }
     ],
     "prompt_number": 148
    },
    {
     "cell_type": "code",
     "collapsed": false,
     "input": [
      "excludecs=mathwords+statwords+physicswords\n",
      "excludemath=cswords+statwords+physicswords\n",
      "excludestat=cswords+mathwords+physicswords\n",
      "excludephysics=cswords+mathwords+statwords\n"
     ],
     "language": "python",
     "metadata": {},
     "outputs": [],
     "prompt_number": 152
    },
    {
     "cell_type": "code",
     "collapsed": false,
     "input": [
      "excludecs_freq=nltk.FreqDist(excludecs)\n",
      "excludemath_freq=nltk.FreqDist(excludemath)\n",
      "excludestat_freq=nltk.FreqDist(excludestat)\n",
      "excludephysics_freq=nltk.FreqDist(excludephysics)"
     ],
     "language": "python",
     "metadata": {},
     "outputs": [],
     "prompt_number": 153
    },
    {
     "cell_type": "code",
     "collapsed": false,
     "input": [
      "allwords=cswords+mathwords+statwords+physicswords\n",
      "allwords_freq=nltk.FreqDist(allwords)"
     ],
     "language": "python",
     "metadata": {},
     "outputs": [],
     "prompt_number": 154
    },
    {
     "cell_type": "code",
     "collapsed": false,
     "input": [
      "tfidf_cs=list()\n",
      "cs_most_common[0]"
     ],
     "language": "python",
     "metadata": {},
     "outputs": [
      {
       "metadata": {},
       "output_type": "pyout",
       "prompt_number": 156,
       "text": [
        "(u'algorithm', 23541)"
       ]
      }
     ],
     "prompt_number": 156
    },
    {
     "cell_type": "code",
     "collapsed": false,
     "input": [
      "import csv \n",
      "cleanedtrainset=open(\"cleanedtrainset.csv\",\"w\")\n",
      "writer=csv.writer(cleanedtrainset,delimiter=\",\")\n",
      "for line in cleanedtrainlist:\n",
      "    writer.writerow([line,])\n",
      "cleanedtrainset.close()\n",
      "cleanedtestset=open(\"cleanedtestset.csv\",\"w\")\n",
      "writer=csv.writer(cleanedtestset,delimiter=\",\")\n",
      "for line in cleanedtestlist:\n",
      "    writer.writerow([line,])\n",
      "cleanedtestset.close()"
     ],
     "language": "python",
     "metadata": {},
     "outputs": [],
     "prompt_number": 157
    },
    {
     "cell_type": "code",
     "collapsed": false,
     "input": [
      "TRUE+FALSE"
     ],
     "language": "python",
     "metadata": {},
     "outputs": [
      {
       "ename": "NameError",
       "evalue": "name 'TRUE' is not defined",
       "output_type": "pyerr",
       "traceback": [
        "\u001b[0;31m---------------------------------------------------------------------------\u001b[0m\n\u001b[0;31mNameError\u001b[0m                                 Traceback (most recent call last)",
        "\u001b[0;32m<ipython-input-158-a62e4f9cfa97>\u001b[0m in \u001b[0;36m<module>\u001b[0;34m()\u001b[0m\n\u001b[0;32m----> 1\u001b[0;31m \u001b[0mTRUE\u001b[0m\u001b[0;34m+\u001b[0m\u001b[0mFALSE\u001b[0m\u001b[0;34m\u001b[0m\u001b[0m\n\u001b[0m",
        "\u001b[0;31mNameError\u001b[0m: name 'TRUE' is not defined"
       ]
      }
     ],
     "prompt_number": 158
    },
    {
     "cell_type": "code",
     "collapsed": false,
     "input": [
      "True + False"
     ],
     "language": "python",
     "metadata": {},
     "outputs": [
      {
       "metadata": {},
       "output_type": "pyout",
       "prompt_number": 159,
       "text": [
        "1"
       ]
      }
     ],
     "prompt_number": 159
    },
    {
     "cell_type": "code",
     "collapsed": false,
     "input": [
      "True & False"
     ],
     "language": "python",
     "metadata": {},
     "outputs": [
      {
       "metadata": {},
       "output_type": "pyout",
       "prompt_number": 160,
       "text": [
        "False"
       ]
      }
     ],
     "prompt_number": 160
    },
    {
     "cell_type": "code",
     "collapsed": false,
     "input": [
      "True or False"
     ],
     "language": "python",
     "metadata": {},
     "outputs": [
      {
       "metadata": {},
       "output_type": "pyout",
       "prompt_number": 161,
       "text": [
        "True"
       ]
      }
     ],
     "prompt_number": 161
    },
    {
     "cell_type": "code",
     "collapsed": false,
     "input": [
      "def cleancsv(file):\n",
      "#file is the string containing the name of the file. The first line of the csv should be the headers.\n",
      "    import csv,nltk,pyprind,re\n",
      "#Read in data\n",
      "    input=csv.reader(open(file))\n",
      "#Skip the first line\n",
      "    line1=input.next()\n",
      "#Store the rows in a list\n",
      "    inputlist=list()\n",
      "    for line in input:\n",
      "        inputlist.append(line)\n",
      "#Begin Cleaning\n",
      "    cleanedinputlist=list()\n",
      "    samplesize=len(inputlist)\n",
      "    #Progress bar\n",
      "    bar=pyprind.ProgBar(samplesize, stream=1)\n",
      "    for i in range(0,samplesize):\n",
      "        item=inputlist[i]\n",
      "        abstract=item[1]\n",
      "        #tokenize \n",
      "        tokens=word_tokenize(abstract)\n",
      "        #convert text to lower case\n",
      "        abstract=[word.lower() for word in tokens]\n",
      "        #Keep words with more alphabetic characters than not, as well as those \t\t\twith more than 4 characters \n",
      "        keeplist=list()\n",
      "        for word in abstract:\n",
      "            sumalpha=sum(1 for w in word if re.search('[a-z]',w))\n",
      "            sumothers=len(word)-sumalpha\n",
      "            keeplist.append(len(word)>4 and sumalpha >sumothers)\n",
      "        trimmedlist=list()\n",
      "        for i in range(0,len(abstract)):\n",
      "            if(keeplist[i]==True):\n",
      "                trimmedlist.append(abstract[i])\n",
      "        #Stemming\n",
      "        porter=nltk.PorterStemmer()\n",
      "        stemmedlist=[porter.stem(word) for word in trimmedlist]\n",
      "        #Convert list of cleaned words into a string separated by white space\n",
      "        str1=' '.join(stemmedlist)\n",
      "        cleanedinputlist.append(str1)\n",
      "        bar.update()\n",
      "    return cleanedinputlist"
     ],
     "language": "python",
     "metadata": {},
     "outputs": [],
     "prompt_number": 241
    },
    {
     "cell_type": "code",
     "collapsed": false,
     "input": [
      "output=cleancsv(file=\"train_input.csv\")"
     ],
     "language": "python",
     "metadata": {},
     "outputs": [
      {
       "output_type": "stream",
       "stream": "stdout",
       "text": [
        "0%                          100%\n"
       ]
      },
      {
       "output_type": "stream",
       "stream": "stdout",
       "text": [
        "[                              ]"
       ]
      },
      {
       "output_type": "stream",
       "stream": "stdout",
       "text": [
        "\r",
        "[#                             ]"
       ]
      },
      {
       "output_type": "stream",
       "stream": "stdout",
       "text": [
        " | ETA[sec]: 730.289 "
       ]
      },
      {
       "output_type": "stream",
       "stream": "stdout",
       "text": [
        "\r",
        "[##                            ]"
       ]
      },
      {
       "output_type": "stream",
       "stream": "stdout",
       "text": [
        " | ETA[sec]: 685.714 "
       ]
      },
      {
       "output_type": "stream",
       "stream": "stdout",
       "text": [
        "\r",
        "[###                           ]"
       ]
      },
      {
       "output_type": "stream",
       "stream": "stdout",
       "text": [
        " | ETA[sec]: 634.042 "
       ]
      },
      {
       "output_type": "stream",
       "stream": "stdout",
       "text": [
        "\r",
        "[####                          ]"
       ]
      },
      {
       "output_type": "stream",
       "stream": "stdout",
       "text": [
        " | ETA[sec]: 594.824 "
       ]
      },
      {
       "output_type": "stream",
       "stream": "stdout",
       "text": [
        "\r",
        "[#####                         ]"
       ]
      },
      {
       "output_type": "stream",
       "stream": "stdout",
       "text": [
        " | ETA[sec]: 562.554 "
       ]
      },
      {
       "output_type": "stream",
       "stream": "stdout",
       "text": [
        "\r",
        "[######                        ]"
       ]
      },
      {
       "output_type": "stream",
       "stream": "stdout",
       "text": [
        " | ETA[sec]: 537.409 "
       ]
      },
      {
       "output_type": "stream",
       "stream": "stdout",
       "text": [
        "\r",
        "[#######                       ]"
       ]
      },
      {
       "output_type": "stream",
       "stream": "stdout",
       "text": [
        " | ETA[sec]: 538.383 "
       ]
      },
      {
       "output_type": "stream",
       "stream": "stdout",
       "text": [
        "\r",
        "[########                      ]"
       ]
      },
      {
       "output_type": "stream",
       "stream": "stdout",
       "text": [
        " | ETA[sec]: 513.813 "
       ]
      },
      {
       "output_type": "stream",
       "stream": "stdout",
       "text": [
        "\r",
        "[#########                     ]"
       ]
      },
      {
       "output_type": "stream",
       "stream": "stdout",
       "text": [
        " | ETA[sec]: 492.112 "
       ]
      },
      {
       "output_type": "stream",
       "stream": "stdout",
       "text": [
        "\r",
        "[##########                    ]"
       ]
      },
      {
       "output_type": "stream",
       "stream": "stdout",
       "text": [
        " | ETA[sec]: 469.658 "
       ]
      },
      {
       "output_type": "stream",
       "stream": "stdout",
       "text": [
        "\r",
        "[###########                   ]"
       ]
      },
      {
       "output_type": "stream",
       "stream": "stdout",
       "text": [
        " | ETA[sec]: 451.240 "
       ]
      },
      {
       "output_type": "stream",
       "stream": "stdout",
       "text": [
        "\r",
        "[############                  ]"
       ]
      },
      {
       "output_type": "stream",
       "stream": "stdout",
       "text": [
        " | ETA[sec]: 427.385 "
       ]
      },
      {
       "output_type": "stream",
       "stream": "stdout",
       "text": [
        "\r",
        "[#############                 ]"
       ]
      },
      {
       "output_type": "stream",
       "stream": "stdout",
       "text": [
        " | ETA[sec]: 405.346 "
       ]
      },
      {
       "output_type": "stream",
       "stream": "stdout",
       "text": [
        "\r",
        "[##############                ]"
       ]
      },
      {
       "output_type": "stream",
       "stream": "stdout",
       "text": [
        " | ETA[sec]: 381.247 "
       ]
      },
      {
       "output_type": "stream",
       "stream": "stdout",
       "text": [
        "\r",
        "[###############               ]"
       ]
      },
      {
       "output_type": "stream",
       "stream": "stdout",
       "text": [
        " | ETA[sec]: 357.410 "
       ]
      },
      {
       "output_type": "stream",
       "stream": "stdout",
       "text": [
        "\r",
        "[################              ]"
       ]
      },
      {
       "output_type": "stream",
       "stream": "stdout",
       "text": [
        " | ETA[sec]: 333.959 "
       ]
      },
      {
       "output_type": "stream",
       "stream": "stdout",
       "text": [
        "\r",
        "[#################             ]"
       ]
      },
      {
       "output_type": "stream",
       "stream": "stdout",
       "text": [
        " | ETA[sec]: 310.372 "
       ]
      },
      {
       "output_type": "stream",
       "stream": "stdout",
       "text": [
        "\r",
        "[##################            ]"
       ]
      },
      {
       "output_type": "stream",
       "stream": "stdout",
       "text": [
        " | ETA[sec]: 287.297 "
       ]
      },
      {
       "output_type": "stream",
       "stream": "stdout",
       "text": [
        "\r",
        "[###################           ]"
       ]
      },
      {
       "output_type": "stream",
       "stream": "stdout",
       "text": [
        " | ETA[sec]: 263.849 "
       ]
      },
      {
       "output_type": "stream",
       "stream": "stdout",
       "text": [
        "\r",
        "[####################          ]"
       ]
      },
      {
       "output_type": "stream",
       "stream": "stdout",
       "text": [
        " | ETA[sec]: 239.896 "
       ]
      },
      {
       "output_type": "stream",
       "stream": "stdout",
       "text": [
        "\r",
        "[#####################         ]"
       ]
      },
      {
       "output_type": "stream",
       "stream": "stdout",
       "text": [
        " | ETA[sec]: 216.359 "
       ]
      },
      {
       "output_type": "stream",
       "stream": "stdout",
       "text": [
        "\r",
        "[######################        ]"
       ]
      },
      {
       "output_type": "stream",
       "stream": "stdout",
       "text": [
        " | ETA[sec]: 191.989 "
       ]
      },
      {
       "output_type": "stream",
       "stream": "stdout",
       "text": [
        "\r",
        "[#######################       ]"
       ]
      },
      {
       "output_type": "stream",
       "stream": "stdout",
       "text": [
        " | ETA[sec]: 167.415 "
       ]
      },
      {
       "output_type": "stream",
       "stream": "stdout",
       "text": [
        "\r",
        "[########################      ]"
       ]
      },
      {
       "output_type": "stream",
       "stream": "stdout",
       "text": [
        " | ETA[sec]: 143.166 "
       ]
      },
      {
       "output_type": "stream",
       "stream": "stdout",
       "text": [
        "\r",
        "[#########################     ]"
       ]
      },
      {
       "output_type": "stream",
       "stream": "stdout",
       "text": [
        " | ETA[sec]: 119.602 "
       ]
      },
      {
       "output_type": "stream",
       "stream": "stdout",
       "text": [
        "\r",
        "[##########################    ]"
       ]
      },
      {
       "output_type": "stream",
       "stream": "stdout",
       "text": [
        " | ETA[sec]: 95.607 "
       ]
      },
      {
       "output_type": "stream",
       "stream": "stdout",
       "text": [
        "\r",
        "[###########################   ]"
       ]
      },
      {
       "output_type": "stream",
       "stream": "stdout",
       "text": [
        " | ETA[sec]: 71.553 "
       ]
      },
      {
       "output_type": "stream",
       "stream": "stdout",
       "text": [
        "\r",
        "[############################  ]"
       ]
      },
      {
       "output_type": "stream",
       "stream": "stdout",
       "text": [
        " | ETA[sec]: 47.598 "
       ]
      },
      {
       "output_type": "stream",
       "stream": "stdout",
       "text": [
        "\r",
        "[############################# ]"
       ]
      },
      {
       "output_type": "stream",
       "stream": "stdout",
       "text": [
        " | ETA[sec]: 23.851 "
       ]
      },
      {
       "output_type": "stream",
       "stream": "stdout",
       "text": [
        "\r",
        "[##############################]"
       ]
      },
      {
       "output_type": "stream",
       "stream": "stdout",
       "text": [
        " | ETA[sec]: 0.030 "
       ]
      },
      {
       "output_type": "stream",
       "stream": "stdout",
       "text": [
        "\n",
        "Total time elapsed: 715.552 sec\n"
       ]
      }
     ],
     "prompt_number": 242
    },
    {
     "cell_type": "code",
     "collapsed": false,
     "input": [
      "output[5]"
     ],
     "language": "python",
     "metadata": {},
     "outputs": [
      {
       "metadata": {},
       "output_type": "pyout",
       "prompt_number": 243,
       "text": [
        "u'consid autonom robot endow visibl sensor otherwis unabl commun motion actuat those robot collabor reach vertex unknown beforehand remain there hereaft previou work gather ring-shap network suggest there exist tradeoff between potenti initi configur power sens capabl robot larger initi configur power sensor need prove there trade propos gather protocol number robot ring-shap network allow symmetr period configur initi configur local multipl detect robot assum anonym oblivi execut model non-atom corda model asynchron schedul protocol allow largest initi configur respect imposs result weakest multipl detector complex protocol where denot compar previou local multipl detect constraint simpli'"
       ]
      }
     ],
     "prompt_number": 243
    },
    {
     "cell_type": "code",
     "collapsed": false,
     "input": [
      "file=2"
     ],
     "language": "python",
     "metadata": {},
     "outputs": [],
     "prompt_number": 177
    },
    {
     "cell_type": "code",
     "collapsed": false,
     "input": [
      "\" \".join([\"df\",\"a\"])"
     ],
     "language": "python",
     "metadata": {},
     "outputs": [
      {
       "metadata": {},
       "output_type": "pyout",
       "prompt_number": 215,
       "text": [
        "'df a'"
       ]
      }
     ],
     "prompt_number": 215
    },
    {
     "cell_type": "code",
     "collapsed": false,
     "input": [
      "def cleancsv(file):\n",
      "#file is the string containing the name of the file. The first line of the csv should be the headers.\n",
      "    import csv,nltk,pyprind,re\n",
      "#Read in data\n",
      "    input=csv.reader(open(file))\n",
      "#Skip the first line\n",
      "    line1=input.next()\n",
      "#Store the rows in a list\n",
      "    inputlist=list()\n",
      "    for line in input:\n",
      "        inputlist.append(line)\n",
      "    return (inputlist)"
     ],
     "language": "python",
     "metadata": {},
     "outputs": [],
     "prompt_number": 197
    },
    {
     "cell_type": "code",
     "collapsed": false,
     "input": [
      "out=cleancsv(\"train_input.csv\")"
     ],
     "language": "python",
     "metadata": {},
     "outputs": [],
     "prompt_number": 198
    },
    {
     "cell_type": "code",
     "collapsed": false,
     "input": [
      "out"
     ],
     "language": "python",
     "metadata": {},
     "outputs": [
      {
       "metadata": {},
       "output_type": "pyout",
       "prompt_number": 196,
       "text": [
        "['id', 'abstract']"
       ]
      }
     ],
     "prompt_number": 196
    },
    {
     "cell_type": "code",
     "collapsed": false,
     "input": [
      "def writelist2csv(l,nameofoutput):\n",
      "    import csv \n",
      "    output=open(nameofoutput,\"w\")\n",
      "    writer=csv.writer(output,delimiter=\",\")\n",
      "    for line in l:\n",
      "        writer.writerow([line,])\n",
      "    output.close()\n"
     ],
     "language": "python",
     "metadata": {},
     "outputs": [],
     "prompt_number": 245
    },
    {
     "cell_type": "code",
     "collapsed": false,
     "input": [
      "writelist2csv(output,\"exper.csv\")"
     ],
     "language": "python",
     "metadata": {},
     "outputs": [],
     "prompt_number": 249
    },
    {
     "cell_type": "code",
     "collapsed": false,
     "input": [
      "out[0]"
     ],
     "language": "python",
     "metadata": {},
     "outputs": [
      {
       "metadata": {},
       "output_type": "pyout",
       "prompt_number": 247,
       "text": [
        "['0',\n",
        " 'Turing machines and G\\\\\"odel numbers are important pillars of the theory of computation. Thus, any computational architecture needs to show how it could relate to Turing machines and how stable implementations of Turing computation are possible. In this chapter, we implement universal Turing computation in a neural field environment. To this end, we employ the canonical symbologram representation of a Turing machine obtained from a G\\\\\"odel encoding of its symbolic repertoire and generalized shifts. The resulting nonlinear dynamical automaton (NDA) is a piecewise affine-linear map acting on the unit square that is partitioned into rectangular domains. Instead of looking at point dynamics in phase space, we then consider functional dynamics of probability distributions functions (p.d.f.s) over phase space. This is generally described by a Frobenius-Perron integral transformation that can be regarded as a neural field equation over the unit square as feature space of a dynamic field theory (DFT). Solving the Frobenius-Perron equation yields that uniform p.d.f.s with rectangular support are mapped onto uniform p.d.f.s with rectangular support, again. We call the resulting representation \\\\emph{dynamic field automaton}.']"
       ]
      }
     ],
     "prompt_number": 247
    },
    {
     "cell_type": "code",
     "collapsed": false,
     "input": [
      "output[0]"
     ],
     "language": "python",
     "metadata": {},
     "outputs": [
      {
       "metadata": {},
       "output_type": "pyout",
       "prompt_number": 248,
       "text": [
        "u'ture machin number import pillar theori comput comput architectur need could relat ture machin stabl implement ture comput possibl chapter implement univers ture comput neural field environ employ canon symbologram represent ture machin obtain encod symbol repertoir gener shift result nonlinear dynam automaton piecewis affine-linear act squar partit rectangular domain instead look point dynam phase space consid function dynam probabl distribut function p.d.f. phase space gener describ frobenius-perron integr transform regard neural field equat squar featur space dynam field theori solv frobenius-perron equat yield uniform p.d.f. rectangular support map uniform p.d.f. rectangular support again result represent \\\\emph dynam field automaton'"
       ]
      }
     ],
     "prompt_number": 248
    },
    {
     "cell_type": "code",
     "collapsed": false,
     "input": [],
     "language": "python",
     "metadata": {},
     "outputs": []
    }
   ],
   "metadata": {}
  }
 ]
}